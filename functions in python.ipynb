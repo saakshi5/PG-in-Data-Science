{
 "cells": [
  {
   "cell_type": "code",
   "execution_count": 7,
   "id": "8bcb9480",
   "metadata": {},
   "outputs": [
    {
     "name": "stdout",
     "output_type": "stream",
     "text": [
      "Enter a string:sakshi\n",
      "enter a character to finds\n"
     ]
    },
    {
     "ename": "NameError",
     "evalue": "name 'c' is not defined",
     "output_type": "error",
     "traceback": [
      "\u001b[1;31m---------------------------------------------------------------------------\u001b[0m",
      "\u001b[1;31mNameError\u001b[0m                                 Traceback (most recent call last)",
      "Cell \u001b[1;32mIn[7], line 11\u001b[0m\n\u001b[0;32m      9\u001b[0m st\u001b[38;5;241m=\u001b[39m\u001b[38;5;28minput\u001b[39m(\u001b[38;5;124m\"\u001b[39m\u001b[38;5;124mEnter a string:\u001b[39m\u001b[38;5;124m\"\u001b[39m)\n\u001b[0;32m     10\u001b[0m ch\u001b[38;5;241m=\u001b[39m\u001b[38;5;28minput\u001b[39m(\u001b[38;5;124m\"\u001b[39m\u001b[38;5;124menter a character to find\u001b[39m\u001b[38;5;124m\"\u001b[39m)\n\u001b[1;32m---> 11\u001b[0m alphacount(st,\u001b[43mc\u001b[49m)\n",
      "\u001b[1;31mNameError\u001b[0m: name 'c' is not defined"
     ]
    }
   ],
   "source": [
    "def alphacount(s,c):\n",
    "    cnt=0\n",
    "    for i in s:\n",
    "        #print(i)\n",
    "        if i==c:\n",
    "            cnt+=1\n",
    "    print(f\"Count of {c} is {cnt}\")\n",
    "    \n",
    "st=input(\"Enter a string:\")\n",
    "ch=input(\"enter a character to find\")\n",
    "alphacount(st,c)"
   ]
  },
  {
   "cell_type": "code",
   "execution_count": 12,
   "id": "c3932073",
   "metadata": {},
   "outputs": [
    {
     "ename": "SyntaxError",
     "evalue": "'break' outside loop (1137957616.py, line 15)",
     "output_type": "error",
     "traceback": [
      "\u001b[1;36m  Cell \u001b[1;32mIn[12], line 15\u001b[1;36m\u001b[0m\n\u001b[1;33m    break\u001b[0m\n\u001b[1;37m    ^\u001b[0m\n\u001b[1;31mSyntaxError\u001b[0m\u001b[1;31m:\u001b[0m 'break' outside loop\n"
     ]
    }
   ],
   "source": [
    "initial_bal=50000\n",
    "remaining_bal=0\n",
    "\n",
    "\n",
    "def withdraw():\n",
    "    w=int(input(\"Enter amount you want to withdraw:\"))\n",
    "    remaining_bal=initial_bal-w\n",
    "    print(f\"Remaining balance is {remaining_bal}\")\n",
    "    choice()\n",
    "\n",
    "def deposit():\n",
    "    d=int(input(\"Enter amount you want to deposit:\"))\n",
    "    initial_bal=initial_bal+d\n",
    "    print(f\"Current balance is {current_bal}\")\n",
    "    choice()\n",
    "\n",
    "def balance():\n",
    "    d=int(input(\"Enter amount you want to deposit:\"))\n",
    "    print(f\"Current balance is {initial_bal}\")\n",
    "    choice()\n",
    "    \n",
    "def choice():\n",
    "    con=input(\"Do you want to continue(y/n):\")\n",
    "    con=con.lower()\n",
    "    if con=='y':\n",
    "        inputt()\n",
    "    elif con=='n':\n",
    "        \n",
    "    else:\n",
    "        print(\"Enter y or n\")\n",
    "        \n",
    "    \n",
    "def inputt():\n",
    "    while True:\n",
    "        ch=int(input(\"Enter 1 to withdraw, enter 2 to deposit, enter 3 to view balance and 4 to exit:\"))\n",
    "        if ch==1:\n",
    "            withdraw()\n",
    "        elif ch==2:\n",
    "            deposit()\n",
    "        elif ch==3:\n",
    "            balance()\n",
    "        elif ch==4:\n",
    "            break\n",
    "        else:\n",
    "            print(\"Invalid number\")\n",
    "            break\n",
    "            \n",
    "inputt()"
   ]
  },
  {
   "cell_type": "code",
   "execution_count": 16,
   "id": "ff5d9ed7",
   "metadata": {},
   "outputs": [
    {
     "name": "stdout",
     "output_type": "stream",
     "text": [
      "Enter 1 to withdraw, enter 2 to deposit, enter 3 to view balance and 4 to exit:1\n",
      "Enter amount you want to withdraw:1000\n",
      "Remaining balance is 49000\n",
      "DO YOU WANT TO CONT? Y/NY\n",
      "Enter 1 to withdraw, enter 2 to deposit, enter 3 to view balance and 4 to exit:2\n",
      "Enter amount you want to deposit:2000\n",
      "Current balance is 51000\n",
      "DO YOU WANT TO CONT? Y/NY\n",
      "Enter 1 to withdraw, enter 2 to deposit, enter 3 to view balance and 4 to exit:3\n",
      "Enter amount you want to deposit:2000\n",
      "Current balance is 51000\n",
      "DO YOU WANT TO CONT? Y/NN\n"
     ]
    }
   ],
   "source": [
    "initial_bal=50000\n",
    "remaining_bal=0\n",
    "\n",
    "\n",
    "def withdraw():\n",
    "    w=int(input(\"Enter amount you want to withdraw:\"))\n",
    "    global initial_bal\n",
    "    initial_bal=initial_bal-w\n",
    "    print(f\"Remaining balance is {initial_bal}\")\n",
    "    \n",
    "\n",
    "def deposit():\n",
    "    d=int(input(\"Enter amount you want to deposit:\"))\n",
    "    global initial_bal\n",
    "    initial_bal=initial_bal+d\n",
    "    print(f\"Current balance is {initial_bal}\")\n",
    "    \n",
    "\n",
    "def balance():\n",
    "\n",
    "    print(f\"Current balance is {initial_bal}\")\n",
    "\n",
    "    \n",
    "while True:\n",
    "        ch=int(input(\"Enter 1 to withdraw, enter 2 to deposit, enter 3 to view balance and 4 to exit:\"))\n",
    "        if ch==1:\n",
    "            withdraw()\n",
    "        elif ch==2:\n",
    "            deposit()\n",
    "        elif ch==3:\n",
    "            balance()\n",
    "        elif ch==4:\n",
    "            break\n",
    "        c2=input(\"DO YOU WANT TO CONT? Y/N\")\n",
    "        if c2==\"Y\":\n",
    "            continue\n",
    "        else:\n",
    "            break\n",
    "            "
   ]
  },
  {
   "cell_type": "code",
   "execution_count": 21,
   "id": "7d8f2e6a",
   "metadata": {},
   "outputs": [
    {
     "name": "stdout",
     "output_type": "stream",
     "text": [
      "100\n"
     ]
    }
   ],
   "source": [
    "num=100\n",
    "\n",
    "def tp():\n",
    "\n",
    "    print(num)\n",
    "    \n",
    "tp()"
   ]
  },
  {
   "cell_type": "code",
   "execution_count": 37,
   "id": "98d3f420",
   "metadata": {},
   "outputs": [
    {
     "name": "stdout",
     "output_type": "stream",
     "text": [
      "Enter 1 to buy cookies, enter 2 to buy bread, enter 3 to buy eggs and 4 to buy chips:2\n",
      "How many bread you want to buy?34\n",
      "DO YOU WANT TO CONT? Y/N Y\n",
      "Enter 1 to buy cookies, enter 2 to buy bread, enter 3 to buy eggs and 4 to buy chips:2\n",
      "How many bread you want to buy?5\n",
      "Stock is not available\n",
      "DO YOU WANT TO CONT? Y/N N\n",
      "Your final bill is 850\n"
     ]
    }
   ],
   "source": [
    "qty_dict={\"cookies\":10,\"bread\":35,\"eggs\":40,\"chips\":8}\n",
    "price_dict={\"cookies\":350,\"bread\":25,\"eggs\":12,\"chips\":10}\n",
    "l=[]\n",
    "summ=0\n",
    "\n",
    "def cookies():\n",
    "    global l\n",
    "    global qty_dict\n",
    "    n=int(input(\"How many cookies you want to buy?\"))\n",
    "    for i in qty_dict:\n",
    "        #print(qty_dict[i])\n",
    "        if i==\"cookies\":\n",
    "            if n<qty_dict[i]:\n",
    "                o=price_dict[i]\n",
    "                l.append(o*n)\n",
    "                qty_dict[i]-=n\n",
    "            elif n>qty_dict[i]:\n",
    "                print(\"Stock is not available\")\n",
    "                #print(o)\n",
    "\n",
    "def bread():\n",
    "    global l\n",
    "    global qty_dict\n",
    "    n=int(input(\"How many bread you want to buy?\"))\n",
    "    for i in qty_dict:\n",
    "        #print(qty_dict[i])\n",
    "        if i==\"bread\":\n",
    "            if n<qty_dict[i]:\n",
    "                o=price_dict[i]\n",
    "                l.append(o*n)\n",
    "                qty_dict[i]-=n\n",
    "            elif n>qty_dict[i]:\n",
    "                print(\"Stock is not available\")                \n",
    "def eggs():\n",
    "    global l\n",
    "    global qty_dict\n",
    "    n=int(input(\"How many eggs you want to buy?\"))\n",
    "    for i in qty_dict:\n",
    "        #print(qty_dict[i])\n",
    "        if i==\"eggs\":\n",
    "            if n<qty_dict[i]:\n",
    "                o=price_dict[i]\n",
    "                l.append(o*n) \n",
    "                qty_dict[i]-=n\n",
    "            elif n>qty_dict[i]:\n",
    "                print(\"Stock is not available\")\n",
    "def chips():\n",
    "    global l\n",
    "    global qty_dict\n",
    "    n=int(input(\"How many chips you want to buy?\"))\n",
    "    for i in qty_dict:\n",
    "        #print(qty_dict[i])\n",
    "        if i==\"chips\":\n",
    "            if n<qty_dict[i]:\n",
    "                o=price_dict[i]\n",
    "                l.append(o*n) \n",
    "                qty_dict[i]-=n\n",
    "            elif n>qty_dict[i]:\n",
    "                print(\"Stock is not available\")\n",
    "                    \n",
    "                    \n",
    "def bill():\n",
    "    global summ\n",
    "    summ+=sum(l)\n",
    "    print(\"Your final bill is\",summ)\n",
    "    \n",
    "while True:\n",
    "        ch=int(input(\"Enter 1 to buy cookies, enter 2 to buy bread, enter 3 to buy eggs and 4 to buy chips:\"))\n",
    "        if ch==1:\n",
    "            cookies()\n",
    "        elif ch==2:\n",
    "            bread()\n",
    "        elif ch==3:\n",
    "            eggs()\n",
    "        elif ch==4:\n",
    "            chips()\n",
    "        c2=input(\"DO YOU WANT TO CONT? Y/N \")\n",
    "        if c2==\"Y\":\n",
    "            continue\n",
    "        else:\n",
    "            bill()\n",
    "            break\n",
    "            "
   ]
  },
  {
   "cell_type": "code",
   "execution_count": 27,
   "id": "6ea2803c",
   "metadata": {},
   "outputs": [
    {
     "data": {
      "text/plain": [
       "3"
      ]
     },
     "execution_count": 27,
     "metadata": {},
     "output_type": "execute_result"
    }
   ],
   "source": []
  },
  {
   "cell_type": "code",
   "execution_count": 41,
   "id": "4adb8825",
   "metadata": {},
   "outputs": [
    {
     "name": "stdout",
     "output_type": "stream",
     "text": [
      "your name= cs\n",
      "your age= 19\n",
      "your name= gg\n",
      "your age= 18\n"
     ]
    }
   ],
   "source": [
    "def myfun(name,age=18):\n",
    "    print(\"your name=\",name)\n",
    "    print(\"your age=\",age)\n",
    "    \n",
    "myfun(\"cs\",19)\n",
    "myfun(\"gg\")"
   ]
  },
  {
   "cell_type": "code",
   "execution_count": 43,
   "id": "4b62898b",
   "metadata": {},
   "outputs": [
    {
     "name": "stdout",
     "output_type": "stream",
     "text": [
      "your name= cs\n",
      "your age= 25\n"
     ]
    }
   ],
   "source": [
    "def myfun(name,age):\n",
    "    print(\"your name=\",name)\n",
    "    print(\"your age=\",age)\n",
    "    \n",
    "myfun(age=25,name=\"cs\")\n"
   ]
  },
  {
   "cell_type": "code",
   "execution_count": 46,
   "id": "850d9532",
   "metadata": {},
   "outputs": [
    {
     "name": "stdout",
     "output_type": "stream",
     "text": [
      "(10, 20, 55)\n",
      "(10, 20)\n"
     ]
    }
   ],
   "source": [
    "def add(*args):\n",
    "    print(args)\n",
    "    \n",
    "add(10,20,55)\n",
    "add(10,20)"
   ]
  },
  {
   "cell_type": "code",
   "execution_count": 50,
   "id": "9b880056",
   "metadata": {},
   "outputs": [
    {
     "name": "stdout",
     "output_type": "stream",
     "text": [
      "{'a': 10, 'b': 20, 'c': 55}\n",
      "{'a': 10, 'b': 20}\n"
     ]
    }
   ],
   "source": [
    "def add(**args):\n",
    "    print(args)\n",
    "    \n",
    "add(a=10,b=20,c=55)\n",
    "add(a=10,b=20)"
   ]
  },
  {
   "cell_type": "code",
   "execution_count": 59,
   "id": "4fd38f21",
   "metadata": {},
   "outputs": [
    {
     "name": "stdout",
     "output_type": "stream",
     "text": [
      "7\n"
     ]
    }
   ],
   "source": [
    "def myfun(a,b):\n",
    "    c=a+b\n",
    "    return c\n",
    "    return 100\n",
    "    \n",
    "res=myfun(3,4)\n",
    "print(res)"
   ]
  },
  {
   "cell_type": "code",
   "execution_count": 60,
   "id": "648263b8",
   "metadata": {},
   "outputs": [
    {
     "data": {
      "text/plain": [
       "30"
      ]
     },
     "execution_count": 60,
     "metadata": {},
     "output_type": "execute_result"
    }
   ],
   "source": [
    "ans=lambda a,b: a+b \n",
    "ans(10,20)"
   ]
  },
  {
   "cell_type": "code",
   "execution_count": 61,
   "id": "d34ba62b",
   "metadata": {},
   "outputs": [
    {
     "data": {
      "text/plain": [
       "'CS'"
      ]
     },
     "execution_count": 61,
     "metadata": {},
     "output_type": "execute_result"
    }
   ],
   "source": [
    "r=lambda x: x.upper()\n",
    "r(\"cs\")"
   ]
  },
  {
   "cell_type": "code",
   "execution_count": null,
   "id": "4c705815",
   "metadata": {},
   "outputs": [],
   "source": []
  },
  {
   "cell_type": "code",
   "execution_count": 63,
   "id": "d07a9631",
   "metadata": {},
   "outputs": [
    {
     "name": "stdout",
     "output_type": "stream",
     "text": [
      "[81, 64, 9, 4, 25]\n"
     ]
    }
   ],
   "source": [
    "def findsq(x):\n",
    "    return x**2\n",
    "\n",
    "\n",
    "ml=[9,8,3,2,5]\n",
    "newl=[]\n",
    "for i in ml:\n",
    "    res=findsq(i)\n",
    "    newl.append(res)\n",
    "    \n",
    "print(newl)"
   ]
  },
  {
   "cell_type": "code",
   "execution_count": 70,
   "id": "73c53c97",
   "metadata": {},
   "outputs": [
    {
     "data": {
      "text/plain": [
       "[81, 64, 9, 4, 25]"
      ]
     },
     "execution_count": 70,
     "metadata": {},
     "output_type": "execute_result"
    }
   ],
   "source": [
    "def findsq(x):\n",
    "    return x**2\n",
    "ml=[9,8,3,2,5]\n",
    "kl=map(findsq,ml)\n",
    "list(kl)"
   ]
  },
  {
   "cell_type": "code",
   "execution_count": 68,
   "id": "1308dd9f",
   "metadata": {},
   "outputs": [
    {
     "data": {
      "text/plain": [
       "[81, 64, 9, 4, 25]"
      ]
     },
     "execution_count": 68,
     "metadata": {},
     "output_type": "execute_result"
    }
   ],
   "source": [
    "\n",
    "ml=[9,8,3,2,5]\n",
    "\n",
    "kl=map(lambda x:x**2,ml)\n",
    "list(kl)"
   ]
  },
  {
   "cell_type": "code",
   "execution_count": 77,
   "id": "300752c8",
   "metadata": {},
   "outputs": [
    {
     "data": {
      "text/plain": [
       "''"
      ]
     },
     "execution_count": 77,
     "metadata": {},
     "output_type": "execute_result"
    }
   ],
   "source": [
    "s=\"    \"\n",
    "s.strip()"
   ]
  },
  {
   "cell_type": "code",
   "execution_count": 80,
   "id": "373dbb8d",
   "metadata": {},
   "outputs": [
    {
     "data": {
      "text/plain": [
       "1000"
      ]
     },
     "execution_count": 80,
     "metadata": {},
     "output_type": "execute_result"
    }
   ],
   "source": [
    "def myfun():\n",
    "    def display():\n",
    "        return 1000\n",
    "    res=display()\n",
    "    return res\n",
    "        \n",
    "myfun()"
   ]
  },
  {
   "cell_type": "code",
   "execution_count": 90,
   "id": "4010ed8e",
   "metadata": {},
   "outputs": [
    {
     "name": "stdout",
     "output_type": "stream",
     "text": [
      "1\n",
      "2\n",
      "3\n",
      "4\n",
      "5\n"
     ]
    }
   ],
   "source": [
    "def myfun(x):\n",
    "    if x==6:\n",
    "        pass\n",
    "    else:\n",
    "        print(x)\n",
    "        return myfun(x+1) \n",
    "    \n",
    "myfun(1)"
   ]
  },
  {
   "cell_type": "code",
   "execution_count": 91,
   "id": "a81e82c3",
   "metadata": {},
   "outputs": [
    {
     "data": {
      "text/plain": [
       "120"
      ]
     },
     "execution_count": 91,
     "metadata": {},
     "output_type": "execute_result"
    }
   ],
   "source": [
    "def factorial(x):\n",
    "    if x==1:\n",
    "        return 1\n",
    "    else:\n",
    "        return x*factorial(x-1)\n",
    "    \n",
    "factorial(5)"
   ]
  },
  {
   "cell_type": "code",
   "execution_count": 106,
   "id": "45ba5f9c",
   "metadata": {},
   "outputs": [
    {
     "name": "stdout",
     "output_type": "stream",
     "text": [
      "Enter a string:aBCDe\n",
      "aeBCD\n"
     ]
    }
   ],
   "source": [
    "def arrange(s):\n",
    "    s1=\"\"\n",
    "    l=\"\"\n",
    "    a=\"\"\n",
    "    for i in s:\n",
    "        #print(i)\n",
    "        if i.islower():\n",
    "            s1+=i\n",
    "        else:\n",
    "            l+=i\n",
    "    s1=s1+l\n",
    "    print(s1)\n",
    "    \n",
    "            \n",
    "#s=\"aBcdE\"\n",
    "s=input(\"Enter a string:\")\n",
    "arrange(s)"
   ]
  },
  {
   "cell_type": "code",
   "execution_count": 116,
   "id": "af486509",
   "metadata": {},
   "outputs": [
    {
     "name": "stdout",
     "output_type": "stream",
     "text": [
      "Enter value of m:3\n",
      "Enter value of n:3\n",
      "***\n",
      "***\n",
      "***\n"
     ]
    }
   ],
   "source": [
    "m=int(input(\"Enter value of m:\"))\n",
    "n=int(input(\"Enter value of n:\"))\n",
    "\n",
    "for i in range(0,m):\n",
    "    for j in range(0,n):\n",
    "        print(\"*\",end=\"\")\n",
    "    print()"
   ]
  },
  {
   "cell_type": "code",
   "execution_count": 141,
   "id": "dc1d57c0",
   "metadata": {},
   "outputs": [
    {
     "name": "stdout",
     "output_type": "stream",
     "text": [
      "Enter a string: w3resource\n",
      "w3ce\n"
     ]
    }
   ],
   "source": [
    "def check(s):\n",
    "    new=\"\"\n",
    "    if len(s)>=2:\n",
    "        for i in range(0,2):\n",
    "            new+=s[i]\n",
    "        for j in range(-2,0):\n",
    "            new+=s[j]\n",
    "        return new\n",
    "    elif len(s)==2:\n",
    "        new=s+s\n",
    "        return new\n",
    "    else:\n",
    "        return \"Empty string\"\n",
    "    \n",
    "    \n",
    "s=input(\"Enter a string: \")\n",
    "res=check(s)\n",
    "print(res)\n",
    "\n",
    "\n",
    "# new=\"\"\n",
    "# if len(s)>=2:\n",
    "#     for i in range(0,2):\n",
    "#         new+=s[i]\n",
    "#     for j in range(-2,0):\n",
    "#         new+=s[j]\n",
    "# elif len(s)==2:\n",
    "#     new=s+s\n",
    "# else:\n",
    "#     print(\"Empty String\")\n",
    "# print(new)\n",
    "    "
   ]
  },
  {
   "cell_type": "code",
   "execution_count": 169,
   "id": "c3ee5c25",
   "metadata": {},
   "outputs": [
    {
     "name": "stdout",
     "output_type": "stream",
     "text": [
      "5\n",
      "4\n",
      "4\n",
      "11\n",
      "15\n"
     ]
    }
   ],
   "source": [
    "l=[5,3,4,1,11,15]\n",
    "#print(len(l))\n",
    "for i in range(0,len(l)):\n",
    "    if i==len(l)-1:\n",
    "            break\n",
    "    for j in range(i+1,i+2):    \n",
    "        if l[j]>l[i]:\n",
    "            print(l[j])\n",
    "        else:\n",
    "            print(l[i])\n",
    "        "
   ]
  },
  {
   "cell_type": "code",
   "execution_count": 178,
   "id": "6aeed634",
   "metadata": {},
   "outputs": [
    {
     "name": "stdout",
     "output_type": "stream",
     "text": [
      "[0, 1, 2, 3, 4]\n"
     ]
    }
   ],
   "source": [
    "l=[0,1,2,3,4]\n",
    "for i in range(0,len(l)):\n",
    "    for j in range(-1,len(l),-1):\n",
    "        l[i]=l[j]\n",
    "print(l)"
   ]
  },
  {
   "cell_type": "code",
   "execution_count": null,
   "id": "b7fc5f53",
   "metadata": {},
   "outputs": [],
   "source": []
  }
 ],
 "metadata": {
  "kernelspec": {
   "display_name": "Python 3 (ipykernel)",
   "language": "python",
   "name": "python3"
  },
  "language_info": {
   "codemirror_mode": {
    "name": "ipython",
    "version": 3
   },
   "file_extension": ".py",
   "mimetype": "text/x-python",
   "name": "python",
   "nbconvert_exporter": "python",
   "pygments_lexer": "ipython3",
   "version": "3.10.7"
  }
 },
 "nbformat": 4,
 "nbformat_minor": 5
}
