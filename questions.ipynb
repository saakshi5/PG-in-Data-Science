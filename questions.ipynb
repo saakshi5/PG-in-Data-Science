{
 "cells": [
  {
   "cell_type": "code",
   "execution_count": 7,
   "id": "e0bf452a-1b75-4830-9854-3ba8c4852e1c",
   "metadata": {},
   "outputs": [
    {
     "name": "stdout",
     "output_type": "stream",
     "text": [
      "{'a': 4, 'b': 3, 'c': 5, 'd': 8}\n",
      "key d longest string  pljygvbn\n"
     ]
    }
   ],
   "source": [
    "#longest string along with respective key\n",
    "\n",
    "dt={'a':\"xzpr\",'b':\"pqr\",'c':\"PQRST\",'d':\"pljygvbn\"}\n",
    "l=[]\n",
    "s=0\n",
    "dict={}\n",
    "for i in dt:\n",
    "    st=\"\"\n",
    "    #print(dt[i])\n",
    "    #l.append(dt[i])\n",
    "    st+=dt[i]\n",
    "    s=len(st)\n",
    "    dict[i]=s\n",
    "    \n",
    "print(dict)\n",
    "\n",
    "cnt=0\n",
    "v=0\n",
    "for i in dict:\n",
    "    cnt=dict[i]\n",
    "    l.append(cnt)\n",
    "    for j in l:\n",
    "        \n",
    "        if v<j:\n",
    "            v=j\n",
    "print(\"key\",i,\"longest string \",dt[i])"
   ]
  },
  {
   "cell_type": "code",
   "execution_count": 8,
   "id": "39847e7e-3d38-4a80-8ab2-f037d3bb6c2e",
   "metadata": {},
   "outputs": [
    {
     "name": "stdout",
     "output_type": "stream",
     "text": [
      "{'m': 2, 'i': 3, 'l': 1, 'e': 2, 's': 1, 't': 1, 'o': 1, 'n': 2}\n"
     ]
    }
   ],
   "source": [
    "#count occurence of each character\n",
    "\n",
    "st=\"milestone mini\"\n",
    "l=[]\n",
    "for i in st:\n",
    "    #print(i)\n",
    "    if i==\" \":\n",
    "        continue\n",
    "    l.append(i)\n",
    "\n",
    "#print(l)\n",
    "d={}\n",
    "for i in l:\n",
    "    if i not in d:\n",
    "        d[i]=1\n",
    "    else:\n",
    "        d[i]+=1\n",
    "print(d)"
   ]
  },
  {
   "cell_type": "code",
   "execution_count": 18,
   "id": "0bbfeb16-2a33-4528-a9b8-35000d19048e",
   "metadata": {},
   "outputs": [
    {
     "name": "stdout",
     "output_type": "stream",
     "text": [
      "Usernames:  ['vs', 'is', 'js', 'km', 'lm']\n",
      "Domains:  ['gmail.com', 'gmail.com', 'yahoo.co.in', 'gamil.com', 'yahoo.com']\n"
     ]
    }
   ],
   "source": [
    "emails=[\"vs@gmail.com\",\"is@gmail.com\",\"js@yahoo.co.in\",\"km@gamil.com\",\"lm@yahoo.com\"]\n",
    "user=[]\n",
    "domain=[]\n",
    "for i in emails:\n",
    "    #print(i)\n",
    "    user.append(i.split(\"@\")[0])\n",
    "    domain.append(i.split(\"@\")[1])\n",
    "print(\"Usernames: \",user)\n",
    "print(\"Domains: \",domain)"
   ]
  },
  {
   "cell_type": "code",
   "execution_count": 13,
   "id": "6b70cf70-9f3b-46da-8a8e-69de68c09cd5",
   "metadata": {},
   "outputs": [
    {
     "name": "stdout",
     "output_type": "stream",
     "text": [
      "(10, 20) addition  30\n",
      "(30, 3) addition  33\n",
      "(12, 11) addition  23\n"
     ]
    }
   ],
   "source": [
    "l=[(10,20),(30,3),(12,11)]\n",
    "#s=0\n",
    "#print(\"addition of each tuple\")\n",
    "for i in l:\n",
    "    #print(i[1])\n",
    "    s=sum(i)\n",
    "    print(i,\"addition \",s)\n",
    "#print(type(s))"
   ]
  },
  {
   "cell_type": "code",
   "execution_count": 54,
   "id": "6c4a3d14-4b58-44ea-8b94-65507c3836c3",
   "metadata": {},
   "outputs": [
    {
     "name": "stdout",
     "output_type": "stream",
     "text": [
      "[(30, 3), (12, 11), (10, 20)]\n"
     ]
    }
   ],
   "source": [
    "#sort list elements based on 2nd value of a tuple\n",
    "\n",
    "l=[(10,20),(30,3),(12,11)]\n",
    "h=[]\n",
    "s=[]\n",
    "for i in l:\n",
    "    e=i[1]\n",
    "    s.append(e)\n",
    "s.sort()\n",
    "#print(s)\n",
    "\n",
    "for i in range(0,len(s)):\n",
    "    for j in range(0,len(l)):\n",
    "        if s[i]==l[j][1]:\n",
    "            #print(l[j][1])\n",
    "            h.append(l[j])\n",
    "\n",
    "print(h)"
   ]
  },
  {
   "cell_type": "code",
   "execution_count": 10,
   "id": "3d704f3f-e272-4cf6-a8cb-9ba1fb160a1f",
   "metadata": {},
   "outputs": [
    {
     "name": "stdout",
     "output_type": "stream",
     "text": [
      "Numbers from 1 to 20:\n",
      "[1, 2, 3, 4, 5, 6, 7, 8, 9, 10, 11, 12, 13, 14, 15, 16, 17, 18, 19, 20]\n"
     ]
    }
   ],
   "source": [
    "n=[]\n",
    "print(\"Numbers from 1 to 20:\")\n",
    "for i in range(1,21):\n",
    "    #print(i)\n",
    "    n.append(i)\n",
    "print(n)\n",
    "    "
   ]
  },
  {
   "cell_type": "code",
   "execution_count": 21,
   "id": "9f0588da-2d12-4c3b-93c1-0e76a5891dab",
   "metadata": {},
   "outputs": [
    {
     "name": "stdout",
     "output_type": "stream",
     "text": [
      "Executed\n"
     ]
    }
   ],
   "source": [
    "f=open(\"file1.txt\",\"w\")\n",
    "f.write(\"Numbers Program\\n\")\n",
    "n=[]\n",
    "\n",
    "for i in range(1,21):\n",
    "    #print(i)\n",
    "    n.append(i)\n",
    "f.write(str(n))\n",
    "print(\"Executed\")\n",
    "f.close()"
   ]
  },
  {
   "cell_type": "code",
   "execution_count": 20,
   "id": "9a32404f-a12e-4c85-81a5-bd480a9bbc2f",
   "metadata": {},
   "outputs": [
    {
     "name": "stdout",
     "output_type": "stream",
     "text": [
      "['Good', 'Morning!']\n",
      "Number of words in file: 2\n"
     ]
    }
   ],
   "source": [
    "f1=open(\"file2.txt\",\"r\")\n",
    "r=f1.read()\n",
    "f1.close()\n",
    "\n",
    "words=r.split(\" \")\n",
    "print(words)\n",
    "\n",
    "length=len(words)\n",
    "print(\"Number of words in file:\",length)"
   ]
  },
  {
   "cell_type": "code",
   "execution_count": 48,
   "id": "5e015aa0-8318-4db7-afa9-493daa4f9c84",
   "metadata": {},
   "outputs": [
    {
     "name": "stdout",
     "output_type": "stream",
     "text": [
      "yaD cilbupeR\n"
     ]
    }
   ],
   "source": [
    "#reverse a string\n",
    "s=\"Republic Day\"\n",
    "\n",
    "l=len(s)\n",
    "# print(s[l-1])\n",
    "rev=\"\"\n",
    "i=l-1\n",
    "\n",
    "while(i!=-1):\n",
    "    rev+=s[i]\n",
    "    i=i-1\n",
    "print(rev)"
   ]
  },
  {
   "cell_type": "code",
   "execution_count": null,
   "id": "a7c4e812-764a-4956-a550-76d59a1d4cf7",
   "metadata": {},
   "outputs": [],
   "source": []
  }
 ],
 "metadata": {
  "kernelspec": {
   "display_name": "Python 3 (ipykernel)",
   "language": "python",
   "name": "python3"
  },
  "language_info": {
   "codemirror_mode": {
    "name": "ipython",
    "version": 3
   },
   "file_extension": ".py",
   "mimetype": "text/x-python",
   "name": "python",
   "nbconvert_exporter": "python",
   "pygments_lexer": "ipython3",
   "version": "3.10.7"
  }
 },
 "nbformat": 4,
 "nbformat_minor": 5
}
