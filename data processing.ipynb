{
 "cells": [
  {
   "cell_type": "code",
   "execution_count": 1,
   "id": "e770bea1-5453-4f02-a443-dafdc68b96c8",
   "metadata": {},
   "outputs": [],
   "source": [
    "import pandas as pd\n",
    "import numpy as np"
   ]
  },
  {
   "cell_type": "code",
   "execution_count": 58,
   "id": "3ecaf83d-6810-453c-aaf2-e6e939f7b7ac",
   "metadata": {},
   "outputs": [],
   "source": [
    "dt={'name':['smith','jhon','tom','micky',np.nan,'fizz','ricky'],'age':[25,26,np.nan,23,30,29,np.nan],\n",
    "    'rating':['?',3.24,3.98,2.56,3.20,4.60,3.80]}"
   ]
  },
  {
   "cell_type": "code",
   "execution_count": 4,
   "id": "002387cb-1f24-4db7-aa13-2a34e5291aaa",
   "metadata": {},
   "outputs": [],
   "source": [
    "df=pd.DataFrame(dt)"
   ]
  },
  {
   "cell_type": "code",
   "execution_count": 5,
   "id": "aed9535a-4884-4a19-83ff-9aca7b47fe1b",
   "metadata": {},
   "outputs": [
    {
     "data": {
      "text/html": [
       "<div>\n",
       "<style scoped>\n",
       "    .dataframe tbody tr th:only-of-type {\n",
       "        vertical-align: middle;\n",
       "    }\n",
       "\n",
       "    .dataframe tbody tr th {\n",
       "        vertical-align: top;\n",
       "    }\n",
       "\n",
       "    .dataframe thead th {\n",
       "        text-align: right;\n",
       "    }\n",
       "</style>\n",
       "<table border=\"1\" class=\"dataframe\">\n",
       "  <thead>\n",
       "    <tr style=\"text-align: right;\">\n",
       "      <th></th>\n",
       "      <th>name</th>\n",
       "      <th>age</th>\n",
       "      <th>rating</th>\n",
       "    </tr>\n",
       "  </thead>\n",
       "  <tbody>\n",
       "    <tr>\n",
       "      <th>0</th>\n",
       "      <td>smith</td>\n",
       "      <td>25.0</td>\n",
       "      <td>4.23</td>\n",
       "    </tr>\n",
       "    <tr>\n",
       "      <th>1</th>\n",
       "      <td>jhon</td>\n",
       "      <td>26.0</td>\n",
       "      <td>3.24</td>\n",
       "    </tr>\n",
       "    <tr>\n",
       "      <th>2</th>\n",
       "      <td>tom</td>\n",
       "      <td>NaN</td>\n",
       "      <td>3.98</td>\n",
       "    </tr>\n",
       "    <tr>\n",
       "      <th>3</th>\n",
       "      <td>micky</td>\n",
       "      <td>23.0</td>\n",
       "      <td>2.56</td>\n",
       "    </tr>\n",
       "    <tr>\n",
       "      <th>4</th>\n",
       "      <td>NaN</td>\n",
       "      <td>30.0</td>\n",
       "      <td>3.20</td>\n",
       "    </tr>\n",
       "    <tr>\n",
       "      <th>5</th>\n",
       "      <td>fizz</td>\n",
       "      <td>29.0</td>\n",
       "      <td>4.60</td>\n",
       "    </tr>\n",
       "    <tr>\n",
       "      <th>6</th>\n",
       "      <td>ricky</td>\n",
       "      <td>NaN</td>\n",
       "      <td>3.80</td>\n",
       "    </tr>\n",
       "  </tbody>\n",
       "</table>\n",
       "</div>"
      ],
      "text/plain": [
       "    name   age  rating\n",
       "0  smith  25.0    4.23\n",
       "1   jhon  26.0    3.24\n",
       "2    tom   NaN    3.98\n",
       "3  micky  23.0    2.56\n",
       "4    NaN  30.0    3.20\n",
       "5   fizz  29.0    4.60\n",
       "6  ricky   NaN    3.80"
      ]
     },
     "execution_count": 5,
     "metadata": {},
     "output_type": "execute_result"
    }
   ],
   "source": [
    "df"
   ]
  },
  {
   "cell_type": "code",
   "execution_count": 6,
   "id": "fb6a1117-08af-4856-a982-3292d9679f2e",
   "metadata": {},
   "outputs": [],
   "source": [
    "# Nan - Not a number (missing value or null)"
   ]
  },
  {
   "cell_type": "code",
   "execution_count": 10,
   "id": "fd046733-5cd1-43e5-b0da-994ee3bcb075",
   "metadata": {},
   "outputs": [
    {
     "data": {
      "text/plain": [
       "name      1\n",
       "age       2\n",
       "rating    0\n",
       "dtype: int64"
      ]
     },
     "execution_count": 10,
     "metadata": {},
     "output_type": "execute_result"
    }
   ],
   "source": [
    "# isnull - isnull fun returns a boolean value (True or false)\n",
    "df.isnull().sum()"
   ]
  },
  {
   "cell_type": "markdown",
   "id": "13581b34-9679-4cab-9008-23b72980bf43",
   "metadata": {},
   "source": [
    "### how can we handle this null values ?"
   ]
  },
  {
   "cell_type": "code",
   "execution_count": null,
   "id": "c78f4044-d5c4-41a4-84ec-e8e778f5aecc",
   "metadata": {},
   "outputs": [],
   "source": [
    "# drop(drop_col,asix,inplace) or dropna"
   ]
  },
  {
   "cell_type": "code",
   "execution_count": 11,
   "id": "61865c4f-d554-456e-b566-3d6d1d805850",
   "metadata": {},
   "outputs": [],
   "source": [
    "# handling missing values\n",
    "\n",
    "# 1. Detect number of missing values in each column  --> isnull().sum()\n",
    "# 2. Handle them using 3 techniques\n",
    "        # i) delete entire column  -- drop()\n",
    "        # ii) impute / fill null values with another value --- fillna()\n",
    "        # iii) remove null records  --> dropna()\n",
    "# 3. replace"
   ]
  },
  {
   "cell_type": "code",
   "execution_count": 22,
   "id": "b6c7283c-15ef-47f8-87fb-bb6d90a36ba5",
   "metadata": {},
   "outputs": [],
   "source": [
    "df.drop('rating',axis='columns',inplace = True)"
   ]
  },
  {
   "cell_type": "code",
   "execution_count": 23,
   "id": "702e6f55-a423-4273-b54c-431b971483e9",
   "metadata": {},
   "outputs": [
    {
     "data": {
      "text/html": [
       "<div>\n",
       "<style scoped>\n",
       "    .dataframe tbody tr th:only-of-type {\n",
       "        vertical-align: middle;\n",
       "    }\n",
       "\n",
       "    .dataframe tbody tr th {\n",
       "        vertical-align: top;\n",
       "    }\n",
       "\n",
       "    .dataframe thead th {\n",
       "        text-align: right;\n",
       "    }\n",
       "</style>\n",
       "<table border=\"1\" class=\"dataframe\">\n",
       "  <thead>\n",
       "    <tr style=\"text-align: right;\">\n",
       "      <th></th>\n",
       "      <th>name</th>\n",
       "      <th>age</th>\n",
       "    </tr>\n",
       "  </thead>\n",
       "  <tbody>\n",
       "    <tr>\n",
       "      <th>0</th>\n",
       "      <td>smith</td>\n",
       "      <td>25.0</td>\n",
       "    </tr>\n",
       "    <tr>\n",
       "      <th>1</th>\n",
       "      <td>jhon</td>\n",
       "      <td>26.0</td>\n",
       "    </tr>\n",
       "    <tr>\n",
       "      <th>2</th>\n",
       "      <td>tom</td>\n",
       "      <td>NaN</td>\n",
       "    </tr>\n",
       "    <tr>\n",
       "      <th>3</th>\n",
       "      <td>micky</td>\n",
       "      <td>23.0</td>\n",
       "    </tr>\n",
       "    <tr>\n",
       "      <th>4</th>\n",
       "      <td>NaN</td>\n",
       "      <td>30.0</td>\n",
       "    </tr>\n",
       "    <tr>\n",
       "      <th>5</th>\n",
       "      <td>fizz</td>\n",
       "      <td>29.0</td>\n",
       "    </tr>\n",
       "    <tr>\n",
       "      <th>6</th>\n",
       "      <td>ricky</td>\n",
       "      <td>NaN</td>\n",
       "    </tr>\n",
       "  </tbody>\n",
       "</table>\n",
       "</div>"
      ],
      "text/plain": [
       "    name   age\n",
       "0  smith  25.0\n",
       "1   jhon  26.0\n",
       "2    tom   NaN\n",
       "3  micky  23.0\n",
       "4    NaN  30.0\n",
       "5   fizz  29.0\n",
       "6  ricky   NaN"
      ]
     },
     "execution_count": 23,
     "metadata": {},
     "output_type": "execute_result"
    }
   ],
   "source": [
    "df"
   ]
  },
  {
   "cell_type": "markdown",
   "id": "ffa8cd55-8f54-4a42-b9b8-54c429a92655",
   "metadata": {},
   "source": [
    "### syntax : DataFrame.drop(column_name,axis=,inplace=)\n",
    "\n",
    "- **column_name** - Here you can pass the single columns name or List of columns that you want to drop.\n",
    "- **axis** - you can pass axis=1 for columns or axis ='columns'\n",
    "- **inplace** - take boolen values True or False and is used for make change in existing dataframe"
   ]
  },
  {
   "cell_type": "code",
   "execution_count": 24,
   "id": "b2b94244-ca49-4001-b6e3-69346a6450d0",
   "metadata": {},
   "outputs": [],
   "source": [
    "df.drop(columns=['name','age'],axis='columns',inplace = True)"
   ]
  },
  {
   "cell_type": "code",
   "execution_count": 25,
   "id": "15e90671-d95d-4119-862c-94bfa4291fa7",
   "metadata": {},
   "outputs": [
    {
     "data": {
      "text/html": [
       "<div>\n",
       "<style scoped>\n",
       "    .dataframe tbody tr th:only-of-type {\n",
       "        vertical-align: middle;\n",
       "    }\n",
       "\n",
       "    .dataframe tbody tr th {\n",
       "        vertical-align: top;\n",
       "    }\n",
       "\n",
       "    .dataframe thead th {\n",
       "        text-align: right;\n",
       "    }\n",
       "</style>\n",
       "<table border=\"1\" class=\"dataframe\">\n",
       "  <thead>\n",
       "    <tr style=\"text-align: right;\">\n",
       "      <th></th>\n",
       "    </tr>\n",
       "  </thead>\n",
       "  <tbody>\n",
       "    <tr>\n",
       "      <th>0</th>\n",
       "    </tr>\n",
       "    <tr>\n",
       "      <th>1</th>\n",
       "    </tr>\n",
       "    <tr>\n",
       "      <th>2</th>\n",
       "    </tr>\n",
       "    <tr>\n",
       "      <th>3</th>\n",
       "    </tr>\n",
       "    <tr>\n",
       "      <th>4</th>\n",
       "    </tr>\n",
       "    <tr>\n",
       "      <th>5</th>\n",
       "    </tr>\n",
       "    <tr>\n",
       "      <th>6</th>\n",
       "    </tr>\n",
       "  </tbody>\n",
       "</table>\n",
       "</div>"
      ],
      "text/plain": [
       "Empty DataFrame\n",
       "Columns: []\n",
       "Index: [0, 1, 2, 3, 4, 5, 6]"
      ]
     },
     "execution_count": 25,
     "metadata": {},
     "output_type": "execute_result"
    }
   ],
   "source": [
    "df\n"
   ]
  },
  {
   "cell_type": "code",
   "execution_count": 59,
   "id": "ff749814-c144-4683-9859-9a3a46711994",
   "metadata": {},
   "outputs": [],
   "source": [
    "df1=pd.DataFrame(dt)"
   ]
  },
  {
   "cell_type": "code",
   "execution_count": 27,
   "id": "8a67fbc6-50bf-48d7-b00d-f20fcdfad088",
   "metadata": {},
   "outputs": [
    {
     "data": {
      "text/html": [
       "<div>\n",
       "<style scoped>\n",
       "    .dataframe tbody tr th:only-of-type {\n",
       "        vertical-align: middle;\n",
       "    }\n",
       "\n",
       "    .dataframe tbody tr th {\n",
       "        vertical-align: top;\n",
       "    }\n",
       "\n",
       "    .dataframe thead th {\n",
       "        text-align: right;\n",
       "    }\n",
       "</style>\n",
       "<table border=\"1\" class=\"dataframe\">\n",
       "  <thead>\n",
       "    <tr style=\"text-align: right;\">\n",
       "      <th></th>\n",
       "      <th>name</th>\n",
       "      <th>age</th>\n",
       "      <th>rating</th>\n",
       "    </tr>\n",
       "  </thead>\n",
       "  <tbody>\n",
       "    <tr>\n",
       "      <th>0</th>\n",
       "      <td>smith</td>\n",
       "      <td>25.0</td>\n",
       "      <td>4.23</td>\n",
       "    </tr>\n",
       "    <tr>\n",
       "      <th>1</th>\n",
       "      <td>jhon</td>\n",
       "      <td>26.0</td>\n",
       "      <td>3.24</td>\n",
       "    </tr>\n",
       "    <tr>\n",
       "      <th>2</th>\n",
       "      <td>tom</td>\n",
       "      <td>NaN</td>\n",
       "      <td>3.98</td>\n",
       "    </tr>\n",
       "    <tr>\n",
       "      <th>3</th>\n",
       "      <td>micky</td>\n",
       "      <td>23.0</td>\n",
       "      <td>2.56</td>\n",
       "    </tr>\n",
       "    <tr>\n",
       "      <th>4</th>\n",
       "      <td>NaN</td>\n",
       "      <td>30.0</td>\n",
       "      <td>3.20</td>\n",
       "    </tr>\n",
       "    <tr>\n",
       "      <th>5</th>\n",
       "      <td>fizz</td>\n",
       "      <td>29.0</td>\n",
       "      <td>4.60</td>\n",
       "    </tr>\n",
       "    <tr>\n",
       "      <th>6</th>\n",
       "      <td>ricky</td>\n",
       "      <td>NaN</td>\n",
       "      <td>3.80</td>\n",
       "    </tr>\n",
       "  </tbody>\n",
       "</table>\n",
       "</div>"
      ],
      "text/plain": [
       "    name   age  rating\n",
       "0  smith  25.0    4.23\n",
       "1   jhon  26.0    3.24\n",
       "2    tom   NaN    3.98\n",
       "3  micky  23.0    2.56\n",
       "4    NaN  30.0    3.20\n",
       "5   fizz  29.0    4.60\n",
       "6  ricky   NaN    3.80"
      ]
     },
     "execution_count": 27,
     "metadata": {},
     "output_type": "execute_result"
    }
   ],
   "source": [
    "df1"
   ]
  },
  {
   "cell_type": "code",
   "execution_count": 29,
   "id": "97393956-b158-4aaf-a869-b00014bca278",
   "metadata": {},
   "outputs": [],
   "source": [
    "age_mean=df1['age'].mean()"
   ]
  },
  {
   "cell_type": "code",
   "execution_count": 32,
   "id": "be3bf236-1755-41b0-b86a-e118c92673f4",
   "metadata": {},
   "outputs": [],
   "source": [
    "df1['age'].fillna(age_mean,inplace=True)"
   ]
  },
  {
   "cell_type": "code",
   "execution_count": 33,
   "id": "ce88bf98-9a81-4c22-993f-d75f1769333e",
   "metadata": {},
   "outputs": [
    {
     "data": {
      "text/html": [
       "<div>\n",
       "<style scoped>\n",
       "    .dataframe tbody tr th:only-of-type {\n",
       "        vertical-align: middle;\n",
       "    }\n",
       "\n",
       "    .dataframe tbody tr th {\n",
       "        vertical-align: top;\n",
       "    }\n",
       "\n",
       "    .dataframe thead th {\n",
       "        text-align: right;\n",
       "    }\n",
       "</style>\n",
       "<table border=\"1\" class=\"dataframe\">\n",
       "  <thead>\n",
       "    <tr style=\"text-align: right;\">\n",
       "      <th></th>\n",
       "      <th>name</th>\n",
       "      <th>age</th>\n",
       "      <th>rating</th>\n",
       "    </tr>\n",
       "  </thead>\n",
       "  <tbody>\n",
       "    <tr>\n",
       "      <th>0</th>\n",
       "      <td>smith</td>\n",
       "      <td>25.0</td>\n",
       "      <td>4.23</td>\n",
       "    </tr>\n",
       "    <tr>\n",
       "      <th>1</th>\n",
       "      <td>jhon</td>\n",
       "      <td>26.0</td>\n",
       "      <td>3.24</td>\n",
       "    </tr>\n",
       "    <tr>\n",
       "      <th>2</th>\n",
       "      <td>tom</td>\n",
       "      <td>26.6</td>\n",
       "      <td>3.98</td>\n",
       "    </tr>\n",
       "    <tr>\n",
       "      <th>3</th>\n",
       "      <td>micky</td>\n",
       "      <td>23.0</td>\n",
       "      <td>2.56</td>\n",
       "    </tr>\n",
       "    <tr>\n",
       "      <th>4</th>\n",
       "      <td>NaN</td>\n",
       "      <td>30.0</td>\n",
       "      <td>3.20</td>\n",
       "    </tr>\n",
       "    <tr>\n",
       "      <th>5</th>\n",
       "      <td>fizz</td>\n",
       "      <td>29.0</td>\n",
       "      <td>4.60</td>\n",
       "    </tr>\n",
       "    <tr>\n",
       "      <th>6</th>\n",
       "      <td>ricky</td>\n",
       "      <td>26.6</td>\n",
       "      <td>3.80</td>\n",
       "    </tr>\n",
       "  </tbody>\n",
       "</table>\n",
       "</div>"
      ],
      "text/plain": [
       "    name   age  rating\n",
       "0  smith  25.0    4.23\n",
       "1   jhon  26.0    3.24\n",
       "2    tom  26.6    3.98\n",
       "3  micky  23.0    2.56\n",
       "4    NaN  30.0    3.20\n",
       "5   fizz  29.0    4.60\n",
       "6  ricky  26.6    3.80"
      ]
     },
     "execution_count": 33,
     "metadata": {},
     "output_type": "execute_result"
    }
   ],
   "source": [
    "df1"
   ]
  },
  {
   "cell_type": "code",
   "execution_count": 36,
   "id": "2c0460a8-7cc4-41d4-8c5b-4911643dd72b",
   "metadata": {},
   "outputs": [],
   "source": [
    "df1.dropna(inplace=True)"
   ]
  },
  {
   "cell_type": "code",
   "execution_count": 37,
   "id": "b73d2522-db0c-4871-bcb2-eed42c798e75",
   "metadata": {},
   "outputs": [
    {
     "data": {
      "text/html": [
       "<div>\n",
       "<style scoped>\n",
       "    .dataframe tbody tr th:only-of-type {\n",
       "        vertical-align: middle;\n",
       "    }\n",
       "\n",
       "    .dataframe tbody tr th {\n",
       "        vertical-align: top;\n",
       "    }\n",
       "\n",
       "    .dataframe thead th {\n",
       "        text-align: right;\n",
       "    }\n",
       "</style>\n",
       "<table border=\"1\" class=\"dataframe\">\n",
       "  <thead>\n",
       "    <tr style=\"text-align: right;\">\n",
       "      <th></th>\n",
       "      <th>name</th>\n",
       "      <th>age</th>\n",
       "      <th>rating</th>\n",
       "    </tr>\n",
       "  </thead>\n",
       "  <tbody>\n",
       "    <tr>\n",
       "      <th>0</th>\n",
       "      <td>smith</td>\n",
       "      <td>25.0</td>\n",
       "      <td>4.23</td>\n",
       "    </tr>\n",
       "    <tr>\n",
       "      <th>1</th>\n",
       "      <td>jhon</td>\n",
       "      <td>26.0</td>\n",
       "      <td>3.24</td>\n",
       "    </tr>\n",
       "    <tr>\n",
       "      <th>2</th>\n",
       "      <td>tom</td>\n",
       "      <td>26.6</td>\n",
       "      <td>3.98</td>\n",
       "    </tr>\n",
       "    <tr>\n",
       "      <th>3</th>\n",
       "      <td>micky</td>\n",
       "      <td>23.0</td>\n",
       "      <td>2.56</td>\n",
       "    </tr>\n",
       "    <tr>\n",
       "      <th>5</th>\n",
       "      <td>fizz</td>\n",
       "      <td>29.0</td>\n",
       "      <td>4.60</td>\n",
       "    </tr>\n",
       "    <tr>\n",
       "      <th>6</th>\n",
       "      <td>ricky</td>\n",
       "      <td>26.6</td>\n",
       "      <td>3.80</td>\n",
       "    </tr>\n",
       "  </tbody>\n",
       "</table>\n",
       "</div>"
      ],
      "text/plain": [
       "    name   age  rating\n",
       "0  smith  25.0    4.23\n",
       "1   jhon  26.0    3.24\n",
       "2    tom  26.6    3.98\n",
       "3  micky  23.0    2.56\n",
       "5   fizz  29.0    4.60\n",
       "6  ricky  26.6    3.80"
      ]
     },
     "execution_count": 37,
     "metadata": {},
     "output_type": "execute_result"
    }
   ],
   "source": [
    "df1"
   ]
  },
  {
   "cell_type": "code",
   "execution_count": null,
   "id": "325894a1-d0d8-40bb-b6f0-de0d1d22fc4d",
   "metadata": {},
   "outputs": [],
   "source": [
    "smith,\n",
    ",john"
   ]
  },
  {
   "cell_type": "code",
   "execution_count": 42,
   "id": "6cff514b-62b8-4cba-bdc8-261df6ecbd93",
   "metadata": {},
   "outputs": [
    {
     "data": {
      "text/plain": [
       "0      max\n",
       "1     jhon\n",
       "2      tom\n",
       "3    micky\n",
       "5     fizz\n",
       "6     tang\n",
       "Name: name, dtype: object"
      ]
     },
     "execution_count": 42,
     "metadata": {},
     "output_type": "execute_result"
    }
   ],
   "source": [
    "df1['name'].replace('ricky','tang')"
   ]
  },
  {
   "cell_type": "code",
   "execution_count": 43,
   "id": "83a707ab-bbe5-4b01-9fa5-62ff1c0c11e5",
   "metadata": {},
   "outputs": [
    {
     "data": {
      "text/html": [
       "<div>\n",
       "<style scoped>\n",
       "    .dataframe tbody tr th:only-of-type {\n",
       "        vertical-align: middle;\n",
       "    }\n",
       "\n",
       "    .dataframe tbody tr th {\n",
       "        vertical-align: top;\n",
       "    }\n",
       "\n",
       "    .dataframe thead th {\n",
       "        text-align: right;\n",
       "    }\n",
       "</style>\n",
       "<table border=\"1\" class=\"dataframe\">\n",
       "  <thead>\n",
       "    <tr style=\"text-align: right;\">\n",
       "      <th></th>\n",
       "      <th>name</th>\n",
       "      <th>age</th>\n",
       "      <th>rating</th>\n",
       "    </tr>\n",
       "  </thead>\n",
       "  <tbody>\n",
       "    <tr>\n",
       "      <th>0</th>\n",
       "      <td>max</td>\n",
       "      <td>25.0</td>\n",
       "      <td>4.23</td>\n",
       "    </tr>\n",
       "    <tr>\n",
       "      <th>1</th>\n",
       "      <td>jhon</td>\n",
       "      <td>26.0</td>\n",
       "      <td>3.24</td>\n",
       "    </tr>\n",
       "    <tr>\n",
       "      <th>2</th>\n",
       "      <td>tom</td>\n",
       "      <td>26.6</td>\n",
       "      <td>3.98</td>\n",
       "    </tr>\n",
       "    <tr>\n",
       "      <th>3</th>\n",
       "      <td>micky</td>\n",
       "      <td>23.0</td>\n",
       "      <td>2.56</td>\n",
       "    </tr>\n",
       "    <tr>\n",
       "      <th>5</th>\n",
       "      <td>fizz</td>\n",
       "      <td>29.0</td>\n",
       "      <td>4.60</td>\n",
       "    </tr>\n",
       "    <tr>\n",
       "      <th>6</th>\n",
       "      <td>ricky</td>\n",
       "      <td>26.6</td>\n",
       "      <td>3.80</td>\n",
       "    </tr>\n",
       "  </tbody>\n",
       "</table>\n",
       "</div>"
      ],
      "text/plain": [
       "    name   age  rating\n",
       "0    max  25.0    4.23\n",
       "1   jhon  26.0    3.24\n",
       "2    tom  26.6    3.98\n",
       "3  micky  23.0    2.56\n",
       "5   fizz  29.0    4.60\n",
       "6  ricky  26.6    3.80"
      ]
     },
     "execution_count": 43,
     "metadata": {},
     "output_type": "execute_result"
    }
   ],
   "source": [
    "df1"
   ]
  },
  {
   "cell_type": "code",
   "execution_count": 44,
   "id": "b41a435a-4d06-4043-9d81-4f2e08c5a8fd",
   "metadata": {},
   "outputs": [],
   "source": [
    "df1['name'] = df1['name'].replace('ricky','tang')"
   ]
  },
  {
   "cell_type": "code",
   "execution_count": 45,
   "id": "216b6544-9dae-49ad-8cab-16c3a6c1583c",
   "metadata": {},
   "outputs": [
    {
     "data": {
      "text/html": [
       "<div>\n",
       "<style scoped>\n",
       "    .dataframe tbody tr th:only-of-type {\n",
       "        vertical-align: middle;\n",
       "    }\n",
       "\n",
       "    .dataframe tbody tr th {\n",
       "        vertical-align: top;\n",
       "    }\n",
       "\n",
       "    .dataframe thead th {\n",
       "        text-align: right;\n",
       "    }\n",
       "</style>\n",
       "<table border=\"1\" class=\"dataframe\">\n",
       "  <thead>\n",
       "    <tr style=\"text-align: right;\">\n",
       "      <th></th>\n",
       "      <th>name</th>\n",
       "      <th>age</th>\n",
       "      <th>rating</th>\n",
       "    </tr>\n",
       "  </thead>\n",
       "  <tbody>\n",
       "    <tr>\n",
       "      <th>0</th>\n",
       "      <td>max</td>\n",
       "      <td>25.0</td>\n",
       "      <td>4.23</td>\n",
       "    </tr>\n",
       "    <tr>\n",
       "      <th>1</th>\n",
       "      <td>jhon</td>\n",
       "      <td>26.0</td>\n",
       "      <td>3.24</td>\n",
       "    </tr>\n",
       "    <tr>\n",
       "      <th>2</th>\n",
       "      <td>tom</td>\n",
       "      <td>26.6</td>\n",
       "      <td>3.98</td>\n",
       "    </tr>\n",
       "    <tr>\n",
       "      <th>3</th>\n",
       "      <td>micky</td>\n",
       "      <td>23.0</td>\n",
       "      <td>2.56</td>\n",
       "    </tr>\n",
       "    <tr>\n",
       "      <th>5</th>\n",
       "      <td>fizz</td>\n",
       "      <td>29.0</td>\n",
       "      <td>4.60</td>\n",
       "    </tr>\n",
       "    <tr>\n",
       "      <th>6</th>\n",
       "      <td>tang</td>\n",
       "      <td>26.6</td>\n",
       "      <td>3.80</td>\n",
       "    </tr>\n",
       "  </tbody>\n",
       "</table>\n",
       "</div>"
      ],
      "text/plain": [
       "    name   age  rating\n",
       "0    max  25.0    4.23\n",
       "1   jhon  26.0    3.24\n",
       "2    tom  26.6    3.98\n",
       "3  micky  23.0    2.56\n",
       "5   fizz  29.0    4.60\n",
       "6   tang  26.6    3.80"
      ]
     },
     "execution_count": 45,
     "metadata": {},
     "output_type": "execute_result"
    }
   ],
   "source": [
    "df1"
   ]
  },
  {
   "cell_type": "code",
   "execution_count": 60,
   "id": "c0387660-7bc6-4d1e-b635-d70b97f4511d",
   "metadata": {},
   "outputs": [
    {
     "data": {
      "text/html": [
       "<div>\n",
       "<style scoped>\n",
       "    .dataframe tbody tr th:only-of-type {\n",
       "        vertical-align: middle;\n",
       "    }\n",
       "\n",
       "    .dataframe tbody tr th {\n",
       "        vertical-align: top;\n",
       "    }\n",
       "\n",
       "    .dataframe thead th {\n",
       "        text-align: right;\n",
       "    }\n",
       "</style>\n",
       "<table border=\"1\" class=\"dataframe\">\n",
       "  <thead>\n",
       "    <tr style=\"text-align: right;\">\n",
       "      <th></th>\n",
       "      <th>name</th>\n",
       "      <th>age</th>\n",
       "      <th>rating</th>\n",
       "    </tr>\n",
       "  </thead>\n",
       "  <tbody>\n",
       "    <tr>\n",
       "      <th>0</th>\n",
       "      <td>smith</td>\n",
       "      <td>25.0</td>\n",
       "      <td>?</td>\n",
       "    </tr>\n",
       "    <tr>\n",
       "      <th>1</th>\n",
       "      <td>jhon</td>\n",
       "      <td>26.0</td>\n",
       "      <td>3.24</td>\n",
       "    </tr>\n",
       "    <tr>\n",
       "      <th>2</th>\n",
       "      <td>tom</td>\n",
       "      <td>NaN</td>\n",
       "      <td>3.98</td>\n",
       "    </tr>\n",
       "    <tr>\n",
       "      <th>3</th>\n",
       "      <td>micky</td>\n",
       "      <td>23.0</td>\n",
       "      <td>2.56</td>\n",
       "    </tr>\n",
       "    <tr>\n",
       "      <th>4</th>\n",
       "      <td>NaN</td>\n",
       "      <td>30.0</td>\n",
       "      <td>3.2</td>\n",
       "    </tr>\n",
       "    <tr>\n",
       "      <th>5</th>\n",
       "      <td>fizz</td>\n",
       "      <td>29.0</td>\n",
       "      <td>4.6</td>\n",
       "    </tr>\n",
       "    <tr>\n",
       "      <th>6</th>\n",
       "      <td>ricky</td>\n",
       "      <td>NaN</td>\n",
       "      <td>3.8</td>\n",
       "    </tr>\n",
       "  </tbody>\n",
       "</table>\n",
       "</div>"
      ],
      "text/plain": [
       "    name   age rating\n",
       "0  smith  25.0      ?\n",
       "1   jhon  26.0   3.24\n",
       "2    tom   NaN   3.98\n",
       "3  micky  23.0   2.56\n",
       "4    NaN  30.0    3.2\n",
       "5   fizz  29.0    4.6\n",
       "6  ricky   NaN    3.8"
      ]
     },
     "execution_count": 60,
     "metadata": {},
     "output_type": "execute_result"
    }
   ],
   "source": [
    "df1"
   ]
  },
  {
   "cell_type": "code",
   "execution_count": 61,
   "id": "8d06accc-05d0-4edd-85b1-0ab1c17f3bba",
   "metadata": {},
   "outputs": [
    {
     "data": {
      "text/plain": [
       "dtype('O')"
      ]
     },
     "execution_count": 61,
     "metadata": {},
     "output_type": "execute_result"
    }
   ],
   "source": [
    "df1['rating'].dtype"
   ]
  },
  {
   "cell_type": "code",
   "execution_count": 68,
   "id": "fdcd58a6-2362-4314-b930-5380e118d88e",
   "metadata": {},
   "outputs": [],
   "source": [
    "df1['rating'].replace('',np.nan,inplace=True)"
   ]
  },
  {
   "cell_type": "code",
   "execution_count": 69,
   "id": "86922080-a435-4490-9a42-d7d16490939d",
   "metadata": {},
   "outputs": [
    {
     "data": {
      "text/html": [
       "<div>\n",
       "<style scoped>\n",
       "    .dataframe tbody tr th:only-of-type {\n",
       "        vertical-align: middle;\n",
       "    }\n",
       "\n",
       "    .dataframe tbody tr th {\n",
       "        vertical-align: top;\n",
       "    }\n",
       "\n",
       "    .dataframe thead th {\n",
       "        text-align: right;\n",
       "    }\n",
       "</style>\n",
       "<table border=\"1\" class=\"dataframe\">\n",
       "  <thead>\n",
       "    <tr style=\"text-align: right;\">\n",
       "      <th></th>\n",
       "      <th>name</th>\n",
       "      <th>age</th>\n",
       "      <th>rating</th>\n",
       "    </tr>\n",
       "  </thead>\n",
       "  <tbody>\n",
       "    <tr>\n",
       "      <th>0</th>\n",
       "      <td>smith</td>\n",
       "      <td>25.0</td>\n",
       "      <td>NaN</td>\n",
       "    </tr>\n",
       "    <tr>\n",
       "      <th>1</th>\n",
       "      <td>jhon</td>\n",
       "      <td>26.0</td>\n",
       "      <td>3.24</td>\n",
       "    </tr>\n",
       "    <tr>\n",
       "      <th>2</th>\n",
       "      <td>tom</td>\n",
       "      <td>NaN</td>\n",
       "      <td>3.98</td>\n",
       "    </tr>\n",
       "    <tr>\n",
       "      <th>3</th>\n",
       "      <td>micky</td>\n",
       "      <td>23.0</td>\n",
       "      <td>2.56</td>\n",
       "    </tr>\n",
       "    <tr>\n",
       "      <th>4</th>\n",
       "      <td>NaN</td>\n",
       "      <td>30.0</td>\n",
       "      <td>3.20</td>\n",
       "    </tr>\n",
       "    <tr>\n",
       "      <th>5</th>\n",
       "      <td>fizz</td>\n",
       "      <td>29.0</td>\n",
       "      <td>4.60</td>\n",
       "    </tr>\n",
       "    <tr>\n",
       "      <th>6</th>\n",
       "      <td>ricky</td>\n",
       "      <td>NaN</td>\n",
       "      <td>3.80</td>\n",
       "    </tr>\n",
       "  </tbody>\n",
       "</table>\n",
       "</div>"
      ],
      "text/plain": [
       "    name   age  rating\n",
       "0  smith  25.0     NaN\n",
       "1   jhon  26.0    3.24\n",
       "2    tom   NaN    3.98\n",
       "3  micky  23.0    2.56\n",
       "4    NaN  30.0    3.20\n",
       "5   fizz  29.0    4.60\n",
       "6  ricky   NaN    3.80"
      ]
     },
     "execution_count": 69,
     "metadata": {},
     "output_type": "execute_result"
    }
   ],
   "source": [
    "df1"
   ]
  },
  {
   "cell_type": "code",
   "execution_count": 70,
   "id": "e8f53319-236a-41c1-ad60-3ecb35b4823f",
   "metadata": {},
   "outputs": [
    {
     "data": {
      "text/plain": [
       "dtype('float64')"
      ]
     },
     "execution_count": 70,
     "metadata": {},
     "output_type": "execute_result"
    }
   ],
   "source": [
    "df1['rating'].dtype"
   ]
  },
  {
   "cell_type": "code",
   "execution_count": 71,
   "id": "142efeee-f328-4338-a118-93a8aac9e85d",
   "metadata": {},
   "outputs": [
    {
     "data": {
      "text/plain": [
       "3.563333333333333"
      ]
     },
     "execution_count": 71,
     "metadata": {},
     "output_type": "execute_result"
    }
   ],
   "source": [
    "df1['rating'].mean()\n"
   ]
  },
  {
   "cell_type": "code",
   "execution_count": 72,
   "id": "fee93af1-e9f6-4e11-9ade-8c5d2896eda5",
   "metadata": {},
   "outputs": [
    {
     "data": {
      "text/plain": [
       "0    3.563333\n",
       "1    3.240000\n",
       "2    3.980000\n",
       "3    2.560000\n",
       "4    3.200000\n",
       "5    4.600000\n",
       "6    3.800000\n",
       "Name: rating, dtype: float64"
      ]
     },
     "execution_count": 72,
     "metadata": {},
     "output_type": "execute_result"
    }
   ],
   "source": [
    "df1['rating'].fillna(df1['rating'].mean())"
   ]
  },
  {
   "cell_type": "code",
   "execution_count": 76,
   "id": "f9d6757a-dfa4-442a-86e3-e26f03bbeef5",
   "metadata": {},
   "outputs": [],
   "source": [
    "df1['rating']=df1['rating'].astype(object)"
   ]
  },
  {
   "cell_type": "code",
   "execution_count": 78,
   "id": "a2584579-a64f-4b13-bd7d-b311eb1e2868",
   "metadata": {},
   "outputs": [
    {
     "data": {
      "text/plain": [
       "dtype('O')"
      ]
     },
     "execution_count": 78,
     "metadata": {},
     "output_type": "execute_result"
    }
   ],
   "source": [
    "df1['rating'].dtype"
   ]
  },
  {
   "cell_type": "code",
   "execution_count": 79,
   "id": "0b1c67c3-adf5-4308-9c46-8b320c336c99",
   "metadata": {},
   "outputs": [
    {
     "name": "stdout",
     "output_type": "stream",
     "text": [
      "<class 'pandas.core.frame.DataFrame'>\n",
      "RangeIndex: 7 entries, 0 to 6\n",
      "Data columns (total 3 columns):\n",
      " #   Column  Non-Null Count  Dtype  \n",
      "---  ------  --------------  -----  \n",
      " 0   name    6 non-null      object \n",
      " 1   age     5 non-null      float64\n",
      " 2   rating  6 non-null      object \n",
      "dtypes: float64(1), object(2)\n",
      "memory usage: 300.0+ bytes\n"
     ]
    }
   ],
   "source": [
    "df1.info()"
   ]
  },
  {
   "cell_type": "code",
   "execution_count": 81,
   "id": "4707ffd4-d1f3-4b69-b684-a389ba494889",
   "metadata": {},
   "outputs": [
    {
     "data": {
      "text/plain": [
       "0     NaN\n",
       "1    3.24\n",
       "2    3.98\n",
       "3    2.56\n",
       "4    3.20\n",
       "5    4.60\n",
       "6    3.80\n",
       "Name: rating, dtype: float64"
      ]
     },
     "execution_count": 81,
     "metadata": {},
     "output_type": "execute_result"
    }
   ],
   "source": [
    "df1['rating'].astype(float)"
   ]
  },
  {
   "cell_type": "code",
   "execution_count": 85,
   "id": "2e50827f-6615-4d20-a34c-a4348e6cf13c",
   "metadata": {},
   "outputs": [],
   "source": [
    "df=pd.read_csv('course.csv')"
   ]
  },
  {
   "cell_type": "code",
   "execution_count": 86,
   "id": "d332100f-80a5-444f-8244-a64cfaf9bdaf",
   "metadata": {},
   "outputs": [
    {
     "data": {
      "text/html": [
       "<div>\n",
       "<style scoped>\n",
       "    .dataframe tbody tr th:only-of-type {\n",
       "        vertical-align: middle;\n",
       "    }\n",
       "\n",
       "    .dataframe tbody tr th {\n",
       "        vertical-align: top;\n",
       "    }\n",
       "\n",
       "    .dataframe thead th {\n",
       "        text-align: right;\n",
       "    }\n",
       "</style>\n",
       "<table border=\"1\" class=\"dataframe\">\n",
       "  <thead>\n",
       "    <tr style=\"text-align: right;\">\n",
       "      <th></th>\n",
       "      <th>1</th>\n",
       "      <th>Mumbai</th>\n",
       "      <th>PQR institute .Pvt</th>\n",
       "      <th>BI</th>\n",
       "      <th>MH</th>\n",
       "      <th>9 Months</th>\n",
       "    </tr>\n",
       "  </thead>\n",
       "  <tbody>\n",
       "    <tr>\n",
       "      <th>0</th>\n",
       "      <td>2</td>\n",
       "      <td>Delhi</td>\n",
       "      <td>ABC institute .Pvt.LTD</td>\n",
       "      <td>AI</td>\n",
       "      <td>UP</td>\n",
       "      <td>18 Months</td>\n",
       "    </tr>\n",
       "    <tr>\n",
       "      <th>1</th>\n",
       "      <td>3</td>\n",
       "      <td>Bengaluru</td>\n",
       "      <td>MNO  institute .Ltd</td>\n",
       "      <td>Data Science</td>\n",
       "      <td>TN</td>\n",
       "      <td>11 Months</td>\n",
       "    </tr>\n",
       "    <tr>\n",
       "      <th>2</th>\n",
       "      <td>4</td>\n",
       "      <td>Bhopal</td>\n",
       "      <td>RST  institute .Pvt.LTD</td>\n",
       "      <td>ML</td>\n",
       "      <td>MP</td>\n",
       "      <td>3 Months</td>\n",
       "    </tr>\n",
       "    <tr>\n",
       "      <th>3</th>\n",
       "      <td>5</td>\n",
       "      <td>Mumbai</td>\n",
       "      <td>EFG  institute .Pvt.LTD</td>\n",
       "      <td>DL</td>\n",
       "      <td>MH</td>\n",
       "      <td>3 Months</td>\n",
       "    </tr>\n",
       "    <tr>\n",
       "      <th>4</th>\n",
       "      <td>6</td>\n",
       "      <td>Hyderabad</td>\n",
       "      <td>LMN  institute</td>\n",
       "      <td>Could</td>\n",
       "      <td>AP</td>\n",
       "      <td>4 Months</td>\n",
       "    </tr>\n",
       "    <tr>\n",
       "      <th>5</th>\n",
       "      <td>7</td>\n",
       "      <td>Patna</td>\n",
       "      <td>DEF   institute .Ltd</td>\n",
       "      <td>Web Serv</td>\n",
       "      <td>BH</td>\n",
       "      <td>4 Months</td>\n",
       "    </tr>\n",
       "    <tr>\n",
       "      <th>6</th>\n",
       "      <td>8</td>\n",
       "      <td>Channai</td>\n",
       "      <td>PQR  institute .Pvt.LTD</td>\n",
       "      <td>AWS</td>\n",
       "      <td>KT</td>\n",
       "      <td>3 Months</td>\n",
       "    </tr>\n",
       "    <tr>\n",
       "      <th>7</th>\n",
       "      <td>9</td>\n",
       "      <td>Kolkata</td>\n",
       "      <td>UVW  institute .Ltd</td>\n",
       "      <td>Networking</td>\n",
       "      <td>WB</td>\n",
       "      <td>3 Months</td>\n",
       "    </tr>\n",
       "    <tr>\n",
       "      <th>8</th>\n",
       "      <td>10</td>\n",
       "      <td>Hyderabad</td>\n",
       "      <td>GHI   institute .Ltd</td>\n",
       "      <td>AI</td>\n",
       "      <td>AP</td>\n",
       "      <td>18 Months</td>\n",
       "    </tr>\n",
       "    <tr>\n",
       "      <th>9</th>\n",
       "      <td>11</td>\n",
       "      <td>Bhopal</td>\n",
       "      <td>IJK   institute</td>\n",
       "      <td>DL</td>\n",
       "      <td>MP</td>\n",
       "      <td>3 Months</td>\n",
       "    </tr>\n",
       "    <tr>\n",
       "      <th>10</th>\n",
       "      <td>12</td>\n",
       "      <td>Pune</td>\n",
       "      <td>KLM   institute .Ltd</td>\n",
       "      <td>Data Science</td>\n",
       "      <td>MH</td>\n",
       "      <td>11 Months</td>\n",
       "    </tr>\n",
       "    <tr>\n",
       "      <th>11</th>\n",
       "      <td>13</td>\n",
       "      <td>Delhi</td>\n",
       "      <td>STU  institute .Ltd</td>\n",
       "      <td>BI</td>\n",
       "      <td>UP</td>\n",
       "      <td>6 Months</td>\n",
       "    </tr>\n",
       "    <tr>\n",
       "      <th>12</th>\n",
       "      <td>14</td>\n",
       "      <td>Mumbai</td>\n",
       "      <td>XYZ  institute .Pvt.LTD</td>\n",
       "      <td>Could</td>\n",
       "      <td>MH</td>\n",
       "      <td>3 Months</td>\n",
       "    </tr>\n",
       "    <tr>\n",
       "      <th>13</th>\n",
       "      <td>15</td>\n",
       "      <td>Patna</td>\n",
       "      <td>NOP  institute .Ltd</td>\n",
       "      <td>AWS</td>\n",
       "      <td>BH</td>\n",
       "      <td>3 Months</td>\n",
       "    </tr>\n",
       "    <tr>\n",
       "      <th>14</th>\n",
       "      <td>16</td>\n",
       "      <td>Surat</td>\n",
       "      <td>QRS  institute .Ltd</td>\n",
       "      <td>ML</td>\n",
       "      <td>GJ</td>\n",
       "      <td>3 Months</td>\n",
       "    </tr>\n",
       "    <tr>\n",
       "      <th>15</th>\n",
       "      <td>17</td>\n",
       "      <td>Delhi</td>\n",
       "      <td>WXY  institute</td>\n",
       "      <td>AWS</td>\n",
       "      <td>UP</td>\n",
       "      <td>3 Months</td>\n",
       "    </tr>\n",
       "    <tr>\n",
       "      <th>16</th>\n",
       "      <td>18</td>\n",
       "      <td>Mumbai</td>\n",
       "      <td>ZAB   institute</td>\n",
       "      <td>Web Serv</td>\n",
       "      <td>MH</td>\n",
       "      <td>4 Months</td>\n",
       "    </tr>\n",
       "    <tr>\n",
       "      <th>17</th>\n",
       "      <td>19</td>\n",
       "      <td>Pune</td>\n",
       "      <td>CDE  institute .Ltd</td>\n",
       "      <td>Data Science</td>\n",
       "      <td>MH</td>\n",
       "      <td>11 Months</td>\n",
       "    </tr>\n",
       "    <tr>\n",
       "      <th>18</th>\n",
       "      <td>20</td>\n",
       "      <td>Bengaluru</td>\n",
       "      <td>JKL  institute .Pvt.LTD</td>\n",
       "      <td>AI</td>\n",
       "      <td>TN</td>\n",
       "      <td>18 Months</td>\n",
       "    </tr>\n",
       "    <tr>\n",
       "      <th>19</th>\n",
       "      <td>21</td>\n",
       "      <td>Surat</td>\n",
       "      <td>INS   institute</td>\n",
       "      <td>Data Science</td>\n",
       "      <td>Gj</td>\n",
       "      <td>11 Months</td>\n",
       "    </tr>\n",
       "    <tr>\n",
       "      <th>20</th>\n",
       "      <td>22</td>\n",
       "      <td>Hyderabad</td>\n",
       "      <td>ZAP  institute .Ltd</td>\n",
       "      <td>ML</td>\n",
       "      <td>AP</td>\n",
       "      <td>3 Months</td>\n",
       "    </tr>\n",
       "    <tr>\n",
       "      <th>21</th>\n",
       "      <td>23</td>\n",
       "      <td>Mumbai</td>\n",
       "      <td>XCAD  institute .Pvt.LTD</td>\n",
       "      <td>DL</td>\n",
       "      <td>MH</td>\n",
       "      <td>3 Months</td>\n",
       "    </tr>\n",
       "    <tr>\n",
       "      <th>22</th>\n",
       "      <td>24</td>\n",
       "      <td>Channai</td>\n",
       "      <td>MTK   institute</td>\n",
       "      <td>Could</td>\n",
       "      <td>KT</td>\n",
       "      <td>4 Months</td>\n",
       "    </tr>\n",
       "    <tr>\n",
       "      <th>23</th>\n",
       "      <td>25</td>\n",
       "      <td>Patna</td>\n",
       "      <td>BST  institute .Ltd</td>\n",
       "      <td>Web Serv</td>\n",
       "      <td>BH</td>\n",
       "      <td>4 Months</td>\n",
       "    </tr>\n",
       "  </tbody>\n",
       "</table>\n",
       "</div>"
      ],
      "text/plain": [
       "     1     Mumbai        PQR institute .Pvt            BI  MH   9 Months\n",
       "0    2      Delhi    ABC institute .Pvt.LTD            AI  UP  18 Months\n",
       "1    3  Bengaluru       MNO  institute .Ltd  Data Science  TN  11 Months\n",
       "2    4     Bhopal   RST  institute .Pvt.LTD            ML  MP   3 Months\n",
       "3    5     Mumbai   EFG  institute .Pvt.LTD            DL  MH   3 Months\n",
       "4    6  Hyderabad           LMN  institute          Could  AP   4 Months\n",
       "5    7      Patna      DEF   institute .Ltd      Web Serv  BH   4 Months\n",
       "6    8    Channai   PQR  institute .Pvt.LTD           AWS  KT   3 Months\n",
       "7    9    Kolkata       UVW  institute .Ltd    Networking  WB   3 Months\n",
       "8   10  Hyderabad      GHI   institute .Ltd            AI  AP  18 Months\n",
       "9   11     Bhopal          IJK   institute             DL  MP   3 Months\n",
       "10  12       Pune      KLM   institute .Ltd  Data Science  MH  11 Months\n",
       "11  13      Delhi       STU  institute .Ltd            BI  UP   6 Months\n",
       "12  14     Mumbai   XYZ  institute .Pvt.LTD         Could  MH   3 Months\n",
       "13  15      Patna       NOP  institute .Ltd           AWS  BH   3 Months\n",
       "14  16      Surat       QRS  institute .Ltd            ML  GJ   3 Months\n",
       "15  17      Delhi           WXY  institute            AWS  UP   3 Months\n",
       "16  18     Mumbai          ZAB   institute       Web Serv  MH   4 Months\n",
       "17  19       Pune       CDE  institute .Ltd  Data Science  MH  11 Months\n",
       "18  20  Bengaluru   JKL  institute .Pvt.LTD            AI  TN  18 Months\n",
       "19  21      Surat           INS   institute  Data Science  Gj  11 Months\n",
       "20  22  Hyderabad       ZAP  institute .Ltd            ML  AP   3 Months\n",
       "21  23     Mumbai  XCAD  institute .Pvt.LTD            DL  MH   3 Months\n",
       "22  24    Channai          MTK   institute          Could  KT   4 Months\n",
       "23  25      Patna       BST  institute .Ltd      Web Serv  BH   4 Months"
      ]
     },
     "execution_count": 86,
     "metadata": {},
     "output_type": "execute_result"
    }
   ],
   "source": [
    "df"
   ]
  },
  {
   "cell_type": "code",
   "execution_count": null,
   "id": "6d7929ca-ebc0-4f35-9556-fa60e950acaf",
   "metadata": {},
   "outputs": [],
   "source": []
  }
 ],
 "metadata": {
  "kernelspec": {
   "display_name": "Python 3 (ipykernel)",
   "language": "python",
   "name": "python3"
  },
  "language_info": {
   "codemirror_mode": {
    "name": "ipython",
    "version": 3
   },
   "file_extension": ".py",
   "mimetype": "text/x-python",
   "name": "python",
   "nbconvert_exporter": "python",
   "pygments_lexer": "ipython3",
   "version": "3.11.4"
  }
 },
 "nbformat": 4,
 "nbformat_minor": 5
}
