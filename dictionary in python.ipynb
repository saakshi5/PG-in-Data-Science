{
 "cells": [
  {
   "cell_type": "code",
   "execution_count": 1,
   "id": "3d320a87",
   "metadata": {},
   "outputs": [],
   "source": [
    "# dt={key:value ,key:value,key:value}"
   ]
  },
  {
   "cell_type": "code",
   "execution_count": 3,
   "id": "b2042160",
   "metadata": {},
   "outputs": [
    {
     "name": "stdout",
     "output_type": "stream",
     "text": [
      "{'rollno': 101, 'name': 'cs', 'salary': 10000}\n"
     ]
    }
   ],
   "source": [
    "dt={\"rollno\":101,\"name\":\"cs\",\"salary\":10000}\n",
    "print(dt)"
   ]
  },
  {
   "cell_type": "code",
   "execution_count": 4,
   "id": "3ee81d6b",
   "metadata": {},
   "outputs": [
    {
     "name": "stdout",
     "output_type": "stream",
     "text": [
      "101\n"
     ]
    }
   ],
   "source": [
    "print(dt[\"rollno\"])"
   ]
  },
  {
   "cell_type": "code",
   "execution_count": 5,
   "id": "68c0b11f",
   "metadata": {},
   "outputs": [
    {
     "ename": "KeyError",
     "evalue": "'roll'",
     "output_type": "error",
     "traceback": [
      "\u001b[1;31m---------------------------------------------------------------------------\u001b[0m",
      "\u001b[1;31mKeyError\u001b[0m                                  Traceback (most recent call last)",
      "Cell \u001b[1;32mIn[5], line 1\u001b[0m\n\u001b[1;32m----> 1\u001b[0m \u001b[38;5;28mprint\u001b[39m(\u001b[43mdt\u001b[49m\u001b[43m[\u001b[49m\u001b[38;5;124;43m\"\u001b[39;49m\u001b[38;5;124;43mroll\u001b[39;49m\u001b[38;5;124;43m\"\u001b[39;49m\u001b[43m]\u001b[49m)\n",
      "\u001b[1;31mKeyError\u001b[0m: 'roll'"
     ]
    }
   ],
   "source": [
    "print(dt[\"roll\"])"
   ]
  },
  {
   "cell_type": "code",
   "execution_count": 6,
   "id": "db2b48bb",
   "metadata": {},
   "outputs": [
    {
     "data": {
      "text/plain": [
       "{'rollno': 101, 'name': 'cs', 'salary': 10000}"
      ]
     },
     "execution_count": 6,
     "metadata": {},
     "output_type": "execute_result"
    }
   ],
   "source": [
    "dt"
   ]
  },
  {
   "cell_type": "code",
   "execution_count": 8,
   "id": "d1c7b289",
   "metadata": {},
   "outputs": [
    {
     "name": "stdout",
     "output_type": "stream",
     "text": [
      "rollno 101\n",
      "name cs\n",
      "salary 10000\n"
     ]
    }
   ],
   "source": [
    "for i in dt:\n",
    "    print(i,dt[i])"
   ]
  },
  {
   "cell_type": "code",
   "execution_count": 9,
   "id": "eba2f380",
   "metadata": {},
   "outputs": [
    {
     "name": "stdout",
     "output_type": "stream",
     "text": [
      "{'rollno': 101, 'name': 'kp', 'salary': 10000}\n"
     ]
    }
   ],
   "source": [
    "md={'rollno': 101, 'name': 'cs', 'salary': 10000 , \"name\":\"kp\"}\n",
    "print(md)"
   ]
  },
  {
   "cell_type": "code",
   "execution_count": 10,
   "id": "32e74c7c",
   "metadata": {},
   "outputs": [
    {
     "name": "stdout",
     "output_type": "stream",
     "text": [
      "{'rollno': 101, 'name': 'cs', 'salary': 20000}\n"
     ]
    }
   ],
   "source": [
    "kj={'rollno': 101, 'name': 'cs', 'salary': 10000}\n",
    "\n",
    "#trying to modify values using keys\n",
    "kj['salary']=20000\n",
    "\n",
    "print(kj)"
   ]
  },
  {
   "cell_type": "code",
   "execution_count": 11,
   "id": "527f09f5",
   "metadata": {},
   "outputs": [
    {
     "name": "stdout",
     "output_type": "stream",
     "text": [
      "{'rollno': 101, 'name': 'cs', 'salary': 20000, 'city': 'Thane'}\n"
     ]
    }
   ],
   "source": [
    "#adding new key value pair into an existing dict\n",
    "kj[\"city\"]=\"Thane\"\n",
    "\n",
    "print(kj)"
   ]
  },
  {
   "cell_type": "code",
   "execution_count": null,
   "id": "0a2c90da",
   "metadata": {},
   "outputs": [],
   "source": [
    "# keys must be immutable"
   ]
  },
  {
   "cell_type": "code",
   "execution_count": 17,
   "id": "952b5121",
   "metadata": {},
   "outputs": [
    {
     "name": "stdout",
     "output_type": "stream",
     "text": [
      "{'name': 'cd', 1: 100, (10, 20, 30): [2000, 3000]}\n"
     ]
    }
   ],
   "source": [
    "dt={\"name\":\"cd\",1:100,(10,20,30):[2000,3000]}\n",
    "print(dt)"
   ]
  },
  {
   "cell_type": "code",
   "execution_count": 13,
   "id": "dccea10d",
   "metadata": {},
   "outputs": [
    {
     "data": {
      "text/plain": [
       "100"
      ]
     },
     "execution_count": 13,
     "metadata": {},
     "output_type": "execute_result"
    }
   ],
   "source": [
    "dt[1]"
   ]
  },
  {
   "cell_type": "code",
   "execution_count": 16,
   "id": "0863d35f",
   "metadata": {},
   "outputs": [
    {
     "data": {
      "text/plain": [
       "[1000, 2000, 3000]"
      ]
     },
     "execution_count": 16,
     "metadata": {},
     "output_type": "execute_result"
    }
   ],
   "source": [
    "dt[(10,20,30)]"
   ]
  },
  {
   "cell_type": "code",
   "execution_count": 15,
   "id": "38a5cd8e",
   "metadata": {},
   "outputs": [
    {
     "ename": "TypeError",
     "evalue": "unhashable type: 'list'",
     "output_type": "error",
     "traceback": [
      "\u001b[1;31m---------------------------------------------------------------------------\u001b[0m",
      "\u001b[1;31mTypeError\u001b[0m                                 Traceback (most recent call last)",
      "Cell \u001b[1;32mIn[15], line 1\u001b[0m\n\u001b[1;32m----> 1\u001b[0m dt\u001b[38;5;241m=\u001b[39m{\u001b[38;5;124m\"\u001b[39m\u001b[38;5;124mname\u001b[39m\u001b[38;5;124m\"\u001b[39m:\u001b[38;5;124m\"\u001b[39m\u001b[38;5;124mcd\u001b[39m\u001b[38;5;124m\"\u001b[39m,\u001b[38;5;241m1\u001b[39m:\u001b[38;5;241m100\u001b[39m,[\u001b[38;5;241m1000\u001b[39m,\u001b[38;5;241m2000\u001b[39m,\u001b[38;5;241m3000\u001b[39m]:(\u001b[38;5;241m10\u001b[39m,\u001b[38;5;241m20\u001b[39m,\u001b[38;5;241m30\u001b[39m)}\n\u001b[0;32m      2\u001b[0m \u001b[38;5;28mprint\u001b[39m(dt)\n",
      "\u001b[1;31mTypeError\u001b[0m: unhashable type: 'list'"
     ]
    }
   ],
   "source": [
    "dt={\"name\":\"cd\",1:100,[1000,2000,3000]:(10,20,30)}\n",
    "print(dt)"
   ]
  },
  {
   "cell_type": "code",
   "execution_count": 20,
   "id": "227b9eff",
   "metadata": {},
   "outputs": [],
   "source": [
    "df={\"marks\":[10,99,33,44],\"age\":[10,20,22,19,17]}\n"
   ]
  },
  {
   "cell_type": "code",
   "execution_count": 21,
   "id": "97c0d81a",
   "metadata": {},
   "outputs": [
    {
     "name": "stdout",
     "output_type": "stream",
     "text": [
      "3\n"
     ]
    }
   ],
   "source": [
    "kj={'rollno': 101, 'name': 'cs', 'salary': 10000}\n",
    "print(len(kj))   #number of key value pairs in dict"
   ]
  },
  {
   "cell_type": "code",
   "execution_count": 25,
   "id": "a5b92f3b",
   "metadata": {},
   "outputs": [
    {
     "name": "stdout",
     "output_type": "stream",
     "text": [
      "not found\n"
     ]
    }
   ],
   "source": [
    "print(kj.get(\"roll\",\"not found\"))"
   ]
  },
  {
   "cell_type": "code",
   "execution_count": 30,
   "id": "23e68bb0",
   "metadata": {},
   "outputs": [
    {
     "data": {
      "text/plain": [
       "dict_keys(['rollno', 'name', 'salary'])"
      ]
     },
     "execution_count": 30,
     "metadata": {},
     "output_type": "execute_result"
    }
   ],
   "source": [
    "kj.keys()"
   ]
  },
  {
   "cell_type": "code",
   "execution_count": 27,
   "id": "e23c2fea",
   "metadata": {},
   "outputs": [
    {
     "data": {
      "text/plain": [
       "dict_values([101, 'cs', 10000])"
      ]
     },
     "execution_count": 27,
     "metadata": {},
     "output_type": "execute_result"
    }
   ],
   "source": [
    "kj.values()"
   ]
  },
  {
   "cell_type": "code",
   "execution_count": 28,
   "id": "ab22b8f5",
   "metadata": {},
   "outputs": [
    {
     "data": {
      "text/plain": [
       "dict_items([('rollno', 101), ('name', 'cs'), ('salary', 10000)])"
      ]
     },
     "execution_count": 28,
     "metadata": {},
     "output_type": "execute_result"
    }
   ],
   "source": [
    "kj.items()"
   ]
  },
  {
   "cell_type": "code",
   "execution_count": 32,
   "id": "6f07fb08",
   "metadata": {},
   "outputs": [],
   "source": [
    "df.clear()"
   ]
  },
  {
   "cell_type": "code",
   "execution_count": 33,
   "id": "a2e1d258",
   "metadata": {},
   "outputs": [
    {
     "data": {
      "text/plain": [
       "{}"
      ]
     },
     "execution_count": 33,
     "metadata": {},
     "output_type": "execute_result"
    }
   ],
   "source": [
    "df"
   ]
  },
  {
   "cell_type": "code",
   "execution_count": 34,
   "id": "87c15d8c",
   "metadata": {},
   "outputs": [
    {
     "data": {
      "text/plain": [
       "{'rollno': 101, 'name': 'cs', 'salary': 10000}"
      ]
     },
     "execution_count": 34,
     "metadata": {},
     "output_type": "execute_result"
    }
   ],
   "source": [
    "kj"
   ]
  },
  {
   "cell_type": "code",
   "execution_count": 36,
   "id": "d1651c57",
   "metadata": {},
   "outputs": [
    {
     "name": "stdout",
     "output_type": "stream",
     "text": [
      "{'rollno': 101, 'name': 'cs'}\n"
     ]
    }
   ],
   "source": [
    "kj.pop('salary')\n",
    "\n",
    "print(kj)"
   ]
  },
  {
   "cell_type": "code",
   "execution_count": 37,
   "id": "97226ccd",
   "metadata": {},
   "outputs": [
    {
     "data": {
      "text/plain": [
       "{'rollno': 101, 'name': 'cs'}"
      ]
     },
     "execution_count": 37,
     "metadata": {},
     "output_type": "execute_result"
    }
   ],
   "source": [
    "kj"
   ]
  },
  {
   "cell_type": "code",
   "execution_count": 39,
   "id": "11839430",
   "metadata": {},
   "outputs": [],
   "source": [
    "kj.setdefault(\"city\")"
   ]
  },
  {
   "cell_type": "code",
   "execution_count": 40,
   "id": "922ceedd",
   "metadata": {},
   "outputs": [
    {
     "name": "stdout",
     "output_type": "stream",
     "text": [
      "{'rollno': 101, 'name': 'cs', 'city': None}\n"
     ]
    }
   ],
   "source": [
    "print(kj)"
   ]
  },
  {
   "cell_type": "code",
   "execution_count": 41,
   "id": "944ace0a",
   "metadata": {},
   "outputs": [
    {
     "name": "stdout",
     "output_type": "stream",
     "text": [
      "{'rollno': 101, 'name': 'cs', 'city': None, 'state': 'MH'}\n"
     ]
    }
   ],
   "source": [
    "kj.setdefault(\"state\",\"MH\")\n",
    "print(kj)"
   ]
  },
  {
   "cell_type": "code",
   "execution_count": 42,
   "id": "acdb99a8",
   "metadata": {},
   "outputs": [
    {
     "data": {
      "text/plain": [
       "{'rollno': 101, 'name': 'cs', 'city': None, 'state': 'MH'}"
      ]
     },
     "execution_count": 42,
     "metadata": {},
     "output_type": "execute_result"
    }
   ],
   "source": [
    "kj"
   ]
  },
  {
   "cell_type": "code",
   "execution_count": 43,
   "id": "8f796048",
   "metadata": {},
   "outputs": [
    {
     "data": {
      "text/plain": [
       "('state', 'MH')"
      ]
     },
     "execution_count": 43,
     "metadata": {},
     "output_type": "execute_result"
    }
   ],
   "source": [
    "kj.popitem()"
   ]
  },
  {
   "cell_type": "code",
   "execution_count": 44,
   "id": "b8ac23ad",
   "metadata": {},
   "outputs": [],
   "source": [
    "#operators with dict"
   ]
  },
  {
   "cell_type": "code",
   "execution_count": 45,
   "id": "3b08b581",
   "metadata": {},
   "outputs": [
    {
     "ename": "TypeError",
     "evalue": "unsupported operand type(s) for +: 'dict' and 'dict'",
     "output_type": "error",
     "traceback": [
      "\u001b[1;31m---------------------------------------------------------------------------\u001b[0m",
      "\u001b[1;31mTypeError\u001b[0m                                 Traceback (most recent call last)",
      "Cell \u001b[1;32mIn[45], line 4\u001b[0m\n\u001b[0;32m      1\u001b[0m d1\u001b[38;5;241m=\u001b[39m{\u001b[38;5;124m\"\u001b[39m\u001b[38;5;124ma\u001b[39m\u001b[38;5;124m\"\u001b[39m:\u001b[38;5;241m100\u001b[39m}\n\u001b[0;32m      2\u001b[0m d2\u001b[38;5;241m=\u001b[39m{\u001b[38;5;124m\"\u001b[39m\u001b[38;5;124mb\u001b[39m\u001b[38;5;124m\"\u001b[39m:\u001b[38;5;241m200\u001b[39m}\n\u001b[1;32m----> 4\u001b[0m \u001b[38;5;28mprint\u001b[39m(\u001b[43md1\u001b[49m\u001b[38;5;241;43m+\u001b[39;49m\u001b[43md2\u001b[49m)\n",
      "\u001b[1;31mTypeError\u001b[0m: unsupported operand type(s) for +: 'dict' and 'dict'"
     ]
    }
   ],
   "source": [
    "d1={\"a\":100}\n",
    "d2={\"b\":200}\n",
    "\n",
    "print(d1+d2)"
   ]
  },
  {
   "cell_type": "code",
   "execution_count": 46,
   "id": "38ba190f",
   "metadata": {},
   "outputs": [
    {
     "ename": "TypeError",
     "evalue": "unsupported operand type(s) for *: 'dict' and 'int'",
     "output_type": "error",
     "traceback": [
      "\u001b[1;31m---------------------------------------------------------------------------\u001b[0m",
      "\u001b[1;31mTypeError\u001b[0m                                 Traceback (most recent call last)",
      "Cell \u001b[1;32mIn[46], line 1\u001b[0m\n\u001b[1;32m----> 1\u001b[0m \u001b[43md1\u001b[49m\u001b[38;5;241;43m*\u001b[39;49m\u001b[38;5;241;43m3\u001b[39;49m\n",
      "\u001b[1;31mTypeError\u001b[0m: unsupported operand type(s) for *: 'dict' and 'int'"
     ]
    }
   ],
   "source": [
    "d1*3"
   ]
  },
  {
   "cell_type": "code",
   "execution_count": 47,
   "id": "0131c924",
   "metadata": {},
   "outputs": [
    {
     "data": {
      "text/plain": [
       "{'rollno': 101, 'name': 'cs', 'city': None}"
      ]
     },
     "execution_count": 47,
     "metadata": {},
     "output_type": "execute_result"
    }
   ],
   "source": [
    "kj"
   ]
  },
  {
   "cell_type": "code",
   "execution_count": 49,
   "id": "7b397840",
   "metadata": {},
   "outputs": [
    {
     "data": {
      "text/plain": [
       "False"
      ]
     },
     "execution_count": 49,
     "metadata": {},
     "output_type": "execute_result"
    }
   ],
   "source": [
    "'rollno' in kj"
   ]
  },
  {
   "cell_type": "code",
   "execution_count": 57,
   "id": "9dee17c4",
   "metadata": {},
   "outputs": [
    {
     "name": "stdout",
     "output_type": "stream",
     "text": [
      "11\n",
      "20\n",
      "13\n",
      "40\n"
     ]
    }
   ],
   "source": [
    "#values\n",
    "d={'a':11,'b':20,'c':13,'d':40}\n",
    "for i in d:\n",
    "    print(d[i])"
   ]
  },
  {
   "cell_type": "code",
   "execution_count": 51,
   "id": "463b9bdb",
   "metadata": {},
   "outputs": [
    {
     "name": "stdout",
     "output_type": "stream",
     "text": [
      "121\n",
      "400\n",
      "169\n",
      "1600\n"
     ]
    }
   ],
   "source": [
    "#sq of values\n",
    "d={'a':11,'b':20,'c':13,'d':40}\n",
    "for i in d:\n",
    "    print(d[i]**2)"
   ]
  },
  {
   "cell_type": "code",
   "execution_count": 53,
   "id": "570c5876",
   "metadata": {},
   "outputs": [
    {
     "name": "stdout",
     "output_type": "stream",
     "text": [
      "84\n"
     ]
    }
   ],
   "source": [
    "#addition of all values\n",
    "s=0\n",
    "for i in d:\n",
    "    s+=d[i]\n",
    "print(s)"
   ]
  },
  {
   "cell_type": "code",
   "execution_count": 55,
   "id": "974fb06d",
   "metadata": {},
   "outputs": [
    {
     "name": "stdout",
     "output_type": "stream",
     "text": [
      "20\n",
      "40\n"
     ]
    }
   ],
   "source": [
    "#even nos\n",
    "for i in d:\n",
    "    if d[i]%2==0:\n",
    "        print(d[i])\n"
   ]
  },
  {
   "cell_type": "code",
   "execution_count": 56,
   "id": "b705c762",
   "metadata": {},
   "outputs": [
    {
     "name": "stdout",
     "output_type": "stream",
     "text": [
      "a 11\n",
      "c 13\n"
     ]
    }
   ],
   "source": [
    "#odd nos\n",
    "for i in d:\n",
    "    if d[i]%2!=0:\n",
    "        print(i,d[i])"
   ]
  },
  {
   "cell_type": "code",
   "execution_count": 81,
   "id": "92cef377",
   "metadata": {},
   "outputs": [
    {
     "name": "stdout",
     "output_type": "stream",
     "text": [
      "c = 3\n"
     ]
    }
   ],
   "source": [
    "d={'a':11,'b':20,'c':3,'d':40}\n",
    "l=[]\n",
    "for i in d:\n",
    "    k=d[i]\n",
    "    l.append(k)\n",
    "    \n",
    "\n",
    "minn=min(l)\n",
    "#print(minn)\n",
    "\n",
    "for i in d:\n",
    "    if d[i]==minn:\n",
    "        print(i,\"=\",minn)"
   ]
  },
  {
   "cell_type": "code",
   "execution_count": 77,
   "id": "ddbf5e1c",
   "metadata": {},
   "outputs": [
    {
     "name": "stdout",
     "output_type": "stream",
     "text": [
      "3\n"
     ]
    }
   ],
   "source": [
    "sm=list(d.values())\n",
    "val=min(sm)\n",
    "print(val)\n"
   ]
  },
  {
   "cell_type": "code",
   "execution_count": 78,
   "id": "db429e16",
   "metadata": {},
   "outputs": [
    {
     "name": "stdout",
     "output_type": "stream",
     "text": [
      "c 3\n"
     ]
    }
   ],
   "source": [
    "for i in d:\n",
    "    if d[i]==val:\n",
    "        print(i,val)"
   ]
  },
  {
   "cell_type": "code",
   "execution_count": null,
   "id": "6868eaa1",
   "metadata": {},
   "outputs": [],
   "source": []
  }
 ],
 "metadata": {
  "kernelspec": {
   "display_name": "Python 3 (ipykernel)",
   "language": "python",
   "name": "python3"
  },
  "language_info": {
   "codemirror_mode": {
    "name": "ipython",
    "version": 3
   },
   "file_extension": ".py",
   "mimetype": "text/x-python",
   "name": "python",
   "nbconvert_exporter": "python",
   "pygments_lexer": "ipython3",
   "version": "3.10.7"
  }
 },
 "nbformat": 4,
 "nbformat_minor": 5
}
