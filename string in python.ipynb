{
 "cells": [
  {
   "cell_type": "code",
   "execution_count": 2,
   "id": "52125faa",
   "metadata": {},
   "outputs": [
    {
     "ename": "TypeError",
     "evalue": "'str' object does not support item assignment",
     "output_type": "error",
     "traceback": [
      "\u001b[1;31m---------------------------------------------------------------------------\u001b[0m",
      "\u001b[1;31mTypeError\u001b[0m                                 Traceback (most recent call last)",
      "Cell \u001b[1;32mIn[2], line 2\u001b[0m\n\u001b[0;32m      1\u001b[0m name\u001b[38;5;241m=\u001b[39m\u001b[38;5;124m\"\u001b[39m\u001b[38;5;124mmilestone\u001b[39m\u001b[38;5;124m\"\u001b[39m\n\u001b[1;32m----> 2\u001b[0m \u001b[43mname\u001b[49m\u001b[43m[\u001b[49m\u001b[38;5;241;43m0\u001b[39;49m\u001b[43m]\u001b[49m\u001b[38;5;241m=\u001b[39m\u001b[38;5;124m\"\u001b[39m\u001b[38;5;124mx\u001b[39m\u001b[38;5;124m\"\u001b[39m\n",
      "\u001b[1;31mTypeError\u001b[0m: 'str' object does not support item assignment"
     ]
    }
   ],
   "source": [
    "name=\"milestone\"\n",
    "name[0]=\"x\" #error- str are immutable."
   ]
  },
  {
   "cell_type": "code",
   "execution_count": 4,
   "id": "821efcbb",
   "metadata": {},
   "outputs": [
    {
     "name": "stdout",
     "output_type": "stream",
     "text": [
      "milestone\n",
      "MILESTONE\n"
     ]
    }
   ],
   "source": [
    "st=\"milestone\"\n",
    "\n",
    "s=st.upper()\n",
    "print(st)\n",
    "print(s)"
   ]
  },
  {
   "cell_type": "code",
   "execution_count": 13,
   "id": "9b125aaf",
   "metadata": {},
   "outputs": [
    {
     "name": "stdout",
     "output_type": "stream",
     "text": [
      "Milestone Technology\n",
      "Milestone technology\n",
      "0\n",
      "2\n",
      "milesxone xechnology\n"
     ]
    }
   ],
   "source": [
    "st=\"milestone technology\"\n",
    "print(st.title())\n",
    "print(st.capitalize())\n",
    "print(st.index('m'))\n",
    "print(st.count('t'))\n",
    "print(st.replace('t','x'))\n"
   ]
  },
  {
   "cell_type": "code",
   "execution_count": 15,
   "id": "e73d0c23",
   "metadata": {},
   "outputs": [
    {
     "data": {
      "text/plain": [
       "False"
      ]
     },
     "execution_count": 15,
     "metadata": {},
     "output_type": "execute_result"
    }
   ],
   "source": [
    "myst=\"abcd\"\n",
    "myst.islower()"
   ]
  },
  {
   "cell_type": "code",
   "execution_count": 18,
   "id": "4da2abea",
   "metadata": {},
   "outputs": [
    {
     "data": {
      "text/plain": [
       "False"
      ]
     },
     "execution_count": 18,
     "metadata": {},
     "output_type": "execute_result"
    }
   ],
   "source": [
    "s=\"ab12\"\n",
    "s.isalpha()"
   ]
  },
  {
   "cell_type": "code",
   "execution_count": 20,
   "id": "4a20f471",
   "metadata": {},
   "outputs": [
    {
     "data": {
      "text/plain": [
       "True"
      ]
     },
     "execution_count": 20,
     "metadata": {},
     "output_type": "execute_result"
    }
   ],
   "source": [
    "s=\"1245\"\n",
    "s.isdigit()"
   ]
  },
  {
   "cell_type": "code",
   "execution_count": 26,
   "id": "3e0c4085",
   "metadata": {},
   "outputs": [
    {
     "data": {
      "text/plain": [
       "True"
      ]
     },
     "execution_count": 26,
     "metadata": {},
     "output_type": "execute_result"
    }
   ],
   "source": [
    "s=\"abs12\"\n",
    "s.isalnum()"
   ]
  },
  {
   "cell_type": "code",
   "execution_count": 29,
   "id": "125cef9b",
   "metadata": {},
   "outputs": [
    {
     "data": {
      "text/plain": [
       "False"
      ]
     },
     "execution_count": 29,
     "metadata": {},
     "output_type": "execute_result"
    }
   ],
   "source": [
    "s=\"cs fg \"\n",
    "s.isspace()"
   ]
  },
  {
   "cell_type": "code",
   "execution_count": 32,
   "id": "b70c78d0",
   "metadata": {},
   "outputs": [
    {
     "data": {
      "text/plain": [
       "7"
      ]
     },
     "execution_count": 32,
     "metadata": {},
     "output_type": "execute_result"
    }
   ],
   "source": [
    "myst=\"abcd gh\"\n",
    "len(myst)"
   ]
  },
  {
   "cell_type": "code",
   "execution_count": 33,
   "id": "b172f033",
   "metadata": {},
   "outputs": [
    {
     "data": {
      "text/plain": [
       "['chaitanya', 'sathe']"
      ]
     },
     "execution_count": 33,
     "metadata": {},
     "output_type": "execute_result"
    }
   ],
   "source": [
    "fullname=\"chaitanya sathe\"\n",
    "fullname.split()"
   ]
  },
  {
   "cell_type": "code",
   "execution_count": 37,
   "id": "646b9407",
   "metadata": {},
   "outputs": [
    {
     "data": {
      "text/plain": [
       "['vs', 'gmail.com']"
      ]
     },
     "execution_count": 37,
     "metadata": {},
     "output_type": "execute_result"
    }
   ],
   "source": [
    "email_id=\"vs@gmail.com\"\n",
    "email_id.split(\"@\")\n",
    "email_id.split(\"@\")[1]"
   ]
  },
  {
   "cell_type": "code",
   "execution_count": 41,
   "id": "bbc41407",
   "metadata": {},
   "outputs": [
    {
     "name": "stdout",
     "output_type": "stream",
     "text": [
      "chaitanya sathe\n"
     ]
    }
   ],
   "source": [
    "ml=['chaitanya', 'sathe']\n",
    "fn=\" \".join(ml)\n",
    "print(fn)"
   ]
  },
  {
   "cell_type": "code",
   "execution_count": 42,
   "id": "8b40fce2",
   "metadata": {},
   "outputs": [
    {
     "data": {
      "text/plain": [
       "True"
      ]
     },
     "execution_count": 42,
     "metadata": {},
     "output_type": "execute_result"
    }
   ],
   "source": [
    "\"m\" in \"milestone\""
   ]
  },
  {
   "cell_type": "code",
   "execution_count": 44,
   "id": "6ade641a",
   "metadata": {},
   "outputs": [
    {
     "name": "stdout",
     "output_type": "stream",
     "text": [
      "c\n",
      "h\n",
      "a\n",
      "i\n",
      "t\n",
      "a\n",
      "b\n",
      "y\n",
      "a\n",
      " \n",
      "h\n",
      "d\n",
      "s\n"
     ]
    }
   ],
   "source": [
    "st=\"chaitabya hds\"\n",
    "for i in st:\n",
    "    print(i)"
   ]
  },
  {
   "cell_type": "code",
   "execution_count": 54,
   "id": "231c6136",
   "metadata": {},
   "outputs": [
    {
     "name": "stdout",
     "output_type": "stream",
     "text": [
      "Enter a character to find the count: z\n",
      "character is not present\n"
     ]
    }
   ],
   "source": [
    "st=\"milestone technology\"\n",
    "ch=input(\"Enter a character to find the count: \")\n",
    "cnt=0\n",
    "for i in st:\n",
    "    if i==ch:\n",
    "        cnt+=1\n",
    "    else:\n",
    "        cnt=0\n",
    "if cnt==0:       \n",
    "    print(\"character is not present\")\n",
    "else:\n",
    "    print(f\"count of {ch} is {cnt}\")"
   ]
  },
  {
   "cell_type": "code",
   "execution_count": 47,
   "id": "78607344",
   "metadata": {},
   "outputs": [
    {
     "name": "stdout",
     "output_type": "stream",
     "text": [
      "total length is 20\n"
     ]
    }
   ],
   "source": [
    "st=\"milestone technology\"\n",
    "cnt=0\n",
    "for i in st:\n",
    "    cnt+=1\n",
    "print(f\"total length is {cnt}\")"
   ]
  },
  {
   "cell_type": "code",
   "execution_count": 48,
   "id": "17236448",
   "metadata": {},
   "outputs": [
    {
     "name": "stdout",
     "output_type": "stream",
     "text": [
      "total alphabets in string are 19\n"
     ]
    }
   ],
   "source": [
    "st=\"milestone technology\"\n",
    "cnt=0\n",
    "for i in st:\n",
    "    if i.isalpha():\n",
    "        cnt+=1\n",
    "print(f\"total alphabets in string are {cnt}\")"
   ]
  },
  {
   "cell_type": "code",
   "execution_count": 50,
   "id": "b5fea1d8",
   "metadata": {},
   "outputs": [
    {
     "name": "stdout",
     "output_type": "stream",
     "text": [
      "Total uppercase charater in string 3\n",
      "Total lowercase charater in string 3\n"
     ]
    }
   ],
   "source": [
    "s=\"sAkShI\"\n",
    "l=0\n",
    "u=0\n",
    "for i in s:\n",
    "    if i.islower():\n",
    "        l+=1\n",
    "    if i.isupper():\n",
    "        u+=1\n",
    "print(f\"Total uppercase charater in string {u}\")\n",
    "print(f\"Total lowercase charater in string {l}\")"
   ]
  },
  {
   "cell_type": "code",
   "execution_count": 86,
   "id": "7201d683",
   "metadata": {},
   "outputs": [
    {
     "name": "stdout",
     "output_type": "stream",
     "text": [
      "sum of digits is 18\n"
     ]
    }
   ],
   "source": [
    "x=\"mile3stone8 tech2nolog5y\"\n",
    "st=\"\"\n",
    "summ=0\n",
    "for i in x:\n",
    "    if i.isdigit():\n",
    "        #print(i)\n",
    "        summ+=int(i)\n",
    "        continue\n",
    "    st=st+i\n",
    "    #print(i,end=\" \")\n",
    "#print(st)\n",
    "print(f\"sum of digits is {summ}\")"
   ]
  },
  {
   "cell_type": "code",
   "execution_count": 96,
   "id": "e5c71262",
   "metadata": {},
   "outputs": [
    {
     "name": "stdout",
     "output_type": "stream",
     "text": [
      "TH\n",
      "PN\n",
      "TH\n",
      "MUM\n",
      "TH\n"
     ]
    }
   ],
   "source": [
    "address=[\"xyz.TH\",\"pqr.PN\",\"pr.TH\",\"mn.MUM\",\"zz.TH\"]\n",
    "\n",
    "for i in address:\n",
    "    st=\"\"\n",
    "    cnt=0\n",
    "    #print(i)\n",
    "    st+=i\n",
    "    city=st.split(\".\")[1]\n",
    "    print(city)\n",
    "    if city in st:\n",
    "        cnt+=1\n",
    "#print(i,cnt)"
   ]
  },
  {
   "cell_type": "code",
   "execution_count": 101,
   "id": "6bff7fbb",
   "metadata": {},
   "outputs": [
    {
     "name": "stdout",
     "output_type": "stream",
     "text": [
      "['TH', 'PN', 'TH', 'MUM', 'TH']\n",
      "{'TH': 1}\n",
      "{'TH': 1, 'PN': 1}\n",
      "{'TH': 2, 'PN': 1}\n",
      "{'TH': 2, 'PN': 1, 'MUM': 1}\n",
      "{'TH': 3, 'PN': 1, 'MUM': 1}\n"
     ]
    }
   ],
   "source": [
    "address=[\"xyz.TH\",\"pqr.PN\",\"pr.TH\",\"mn.MUM\",\"zz.TH\"]\n",
    "city=[]\n",
    "dt={}\n",
    "for i in address:\n",
    "    city.append(i.split(\".\")[1])\n",
    "    \n",
    "print(city)\n",
    "\n",
    "for i in city:\n",
    "    if i not in dt:\n",
    "        dt[i]=1\n",
    "    else:\n",
    "        dt[i]+=1\n",
    "        \n",
    "    print(dt)"
   ]
  },
  {
   "cell_type": "code",
   "execution_count": null,
   "id": "653ecda1",
   "metadata": {},
   "outputs": [],
   "source": []
  }
 ],
 "metadata": {
  "kernelspec": {
   "display_name": "Python 3 (ipykernel)",
   "language": "python",
   "name": "python3"
  },
  "language_info": {
   "codemirror_mode": {
    "name": "ipython",
    "version": 3
   },
   "file_extension": ".py",
   "mimetype": "text/x-python",
   "name": "python",
   "nbconvert_exporter": "python",
   "pygments_lexer": "ipython3",
   "version": "3.10.7"
  }
 },
 "nbformat": 4,
 "nbformat_minor": 5
}
