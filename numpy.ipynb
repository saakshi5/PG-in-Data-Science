{
 "cells": [
  {
   "cell_type": "code",
   "execution_count": 2,
   "id": "65375a9c-18f3-4d9f-8d3a-145af72abf0c",
   "metadata": {},
   "outputs": [],
   "source": [
    "import numpy as np"
   ]
  },
  {
   "cell_type": "code",
   "execution_count": 2,
   "id": "751ddc9a-fb6d-47f0-9adb-094dfa899c8e",
   "metadata": {},
   "outputs": [
    {
     "data": {
      "text/plain": [
       "array([100, 200, 300, 400, 500])"
      ]
     },
     "execution_count": 2,
     "metadata": {},
     "output_type": "execute_result"
    }
   ],
   "source": [
    "a1=np.array([100,200,300,400,500])\n",
    "a1"
   ]
  },
  {
   "cell_type": "code",
   "execution_count": 18,
   "id": "5dda3d91-c083-47a7-ae2f-7fc3719103f6",
   "metadata": {},
   "outputs": [
    {
     "data": {
      "text/plain": [
       "array([200, 300, 400])"
      ]
     },
     "execution_count": 18,
     "metadata": {},
     "output_type": "execute_result"
    }
   ],
   "source": [
    "a1[1:4]\n"
   ]
  },
  {
   "cell_type": "code",
   "execution_count": 3,
   "id": "2cf7b213-5da7-4deb-a5f7-6a7538d0940f",
   "metadata": {},
   "outputs": [
    {
     "data": {
      "text/plain": [
       "array([ 1,  2,  3,  4,  5,  6,  7,  8,  9, 10])"
      ]
     },
     "execution_count": 3,
     "metadata": {},
     "output_type": "execute_result"
    }
   ],
   "source": [
    "a2=np.arange(1,11)\n",
    "a2"
   ]
  },
  {
   "cell_type": "code",
   "execution_count": 22,
   "id": "c16493b5-fbc3-4167-8274-a6dfdd3423a6",
   "metadata": {},
   "outputs": [
    {
     "data": {
      "text/plain": [
       "20"
      ]
     },
     "execution_count": 22,
     "metadata": {},
     "output_type": "execute_result"
    }
   ],
   "source": [
    "a3=np.array([[10,20,30],[40,50,60]])\n",
    "a3[0,1]"
   ]
  },
  {
   "cell_type": "code",
   "execution_count": 24,
   "id": "5e86b409-d080-4e01-94b0-8d8c0f6c7e0c",
   "metadata": {},
   "outputs": [
    {
     "data": {
      "text/plain": [
       "array([[10, 40],\n",
       "       [20, 50],\n",
       "       [30, 60]])"
      ]
     },
     "execution_count": 24,
     "metadata": {},
     "output_type": "execute_result"
    }
   ],
   "source": [
    "#transpose\n",
    "a3.T"
   ]
  },
  {
   "cell_type": "code",
   "execution_count": 25,
   "id": "31937390-85f6-45da-8b0f-21e42e025cbb",
   "metadata": {},
   "outputs": [
    {
     "data": {
      "text/plain": [
       "10"
      ]
     },
     "execution_count": 25,
     "metadata": {},
     "output_type": "execute_result"
    }
   ],
   "source": [
    "np.min(a3)"
   ]
  },
  {
   "cell_type": "code",
   "execution_count": 26,
   "id": "0064784a-7e10-4595-a8ff-5008d36e0377",
   "metadata": {},
   "outputs": [
    {
     "data": {
      "text/plain": [
       "60"
      ]
     },
     "execution_count": 26,
     "metadata": {},
     "output_type": "execute_result"
    }
   ],
   "source": [
    "np.max(a3)"
   ]
  },
  {
   "cell_type": "code",
   "execution_count": 14,
   "id": "5b70fd7c-35a8-473c-a280-e1b0723dea88",
   "metadata": {},
   "outputs": [],
   "source": [
    "l=[]\n",
    "for i in range(0,2):\n",
    "    for j in range(0,3):\n",
    "        l.append(a3[i,j])"
   ]
  },
  {
   "cell_type": "code",
   "execution_count": 15,
   "id": "44cf48c6-b913-468e-a586-d0068a97c2e9",
   "metadata": {},
   "outputs": [
    {
     "data": {
      "text/plain": [
       "[10, 20, 30, 40, 50, 60]"
      ]
     },
     "execution_count": 15,
     "metadata": {},
     "output_type": "execute_result"
    }
   ],
   "source": [
    "l"
   ]
  },
  {
   "cell_type": "code",
   "execution_count": 16,
   "id": "81562f4e-1347-4edb-93b4-88a588ccfd8b",
   "metadata": {},
   "outputs": [
    {
     "data": {
      "text/plain": [
       "array([[10, 20, 30],\n",
       "       [40, 50, 60]])"
      ]
     },
     "execution_count": 16,
     "metadata": {},
     "output_type": "execute_result"
    }
   ],
   "source": [
    "a3[:]"
   ]
  },
  {
   "cell_type": "code",
   "execution_count": 20,
   "id": "80d397d0-c798-4987-982d-07468d70d196",
   "metadata": {},
   "outputs": [
    {
     "data": {
      "text/plain": [
       "array([[40, 50, 60],\n",
       "       [10, 20, 30]])"
      ]
     },
     "execution_count": 20,
     "metadata": {},
     "output_type": "execute_result"
    }
   ],
   "source": [
    "a3[::-1]"
   ]
  },
  {
   "cell_type": "code",
   "execution_count": 19,
   "id": "93da7bee-b576-401f-b737-0021aca368e1",
   "metadata": {},
   "outputs": [
    {
     "data": {
      "text/plain": [
       "array([2, 3, 4, 5, 6, 7, 8, 9])"
      ]
     },
     "execution_count": 19,
     "metadata": {},
     "output_type": "execute_result"
    }
   ],
   "source": [
    "d=np.arange(2,10)\n",
    "d"
   ]
  },
  {
   "cell_type": "code",
   "execution_count": 30,
   "id": "a138f4e5-a498-4a23-8194-ed1c6896bf99",
   "metadata": {},
   "outputs": [
    {
     "data": {
      "text/plain": [
       "3.75"
      ]
     },
     "execution_count": 30,
     "metadata": {},
     "output_type": "execute_result"
    }
   ],
   "source": [
    "#quantiles\n",
    "#Q1= 0.25\n",
    "#Q2=0.50\n",
    "#Q3=0.75\n"
   ]
  },
  {
   "cell_type": "code",
   "execution_count": 33,
   "id": "092c3cc1-4bbc-4ff7-8bf1-cfc585a6439f",
   "metadata": {},
   "outputs": [
    {
     "data": {
      "text/plain": [
       "3.75"
      ]
     },
     "execution_count": 33,
     "metadata": {},
     "output_type": "execute_result"
    }
   ],
   "source": [
    "np.quantile(d,0.25)"
   ]
  },
  {
   "cell_type": "code",
   "execution_count": 31,
   "id": "ab5b7916-cb9b-44ac-b9b2-1ae761cca2f7",
   "metadata": {},
   "outputs": [
    {
     "data": {
      "text/plain": [
       "5.5"
      ]
     },
     "execution_count": 31,
     "metadata": {},
     "output_type": "execute_result"
    }
   ],
   "source": [
    "np.quantile(d,0.50)\n"
   ]
  },
  {
   "cell_type": "code",
   "execution_count": 32,
   "id": "0da5bdc7-a2ae-4c2c-9bab-037128c2d6d7",
   "metadata": {},
   "outputs": [
    {
     "data": {
      "text/plain": [
       "7.25"
      ]
     },
     "execution_count": 32,
     "metadata": {},
     "output_type": "execute_result"
    }
   ],
   "source": [
    "np.quantile(d,0.75)"
   ]
  },
  {
   "cell_type": "code",
   "execution_count": 23,
   "id": "dc41f74b-adfa-482b-9eb7-99723e420fe5",
   "metadata": {},
   "outputs": [
    {
     "data": {
      "text/plain": [
       "4.5"
      ]
     },
     "execution_count": 23,
     "metadata": {},
     "output_type": "execute_result"
    }
   ],
   "source": [
    "np.mean(d)"
   ]
  },
  {
   "cell_type": "code",
   "execution_count": 24,
   "id": "51b09bd6-ee2f-42b7-9e10-9d2c315643eb",
   "metadata": {},
   "outputs": [
    {
     "data": {
      "text/plain": [
       "4.5"
      ]
     },
     "execution_count": 24,
     "metadata": {},
     "output_type": "execute_result"
    }
   ],
   "source": [
    "np.median(d)"
   ]
  },
  {
   "cell_type": "code",
   "execution_count": 25,
   "id": "06f1765d-6757-4133-bdc1-771b31b83bf3",
   "metadata": {},
   "outputs": [
    {
     "data": {
      "text/plain": [
       "27"
      ]
     },
     "execution_count": 25,
     "metadata": {},
     "output_type": "execute_result"
    }
   ],
   "source": [
    "np.sum(d)"
   ]
  },
  {
   "cell_type": "code",
   "execution_count": 28,
   "id": "2bc30592-70db-46ec-8d62-0aa765918243",
   "metadata": {},
   "outputs": [
    {
     "data": {
      "text/plain": [
       "array([1.41421356, 1.73205081, 2.        , 2.23606798, 2.44948974,\n",
       "       2.64575131, 2.82842712, 3.        ])"
      ]
     },
     "execution_count": 28,
     "metadata": {},
     "output_type": "execute_result"
    }
   ],
   "source": [
    "np.sqrt(d)"
   ]
  },
  {
   "cell_type": "code",
   "execution_count": 8,
   "id": "7febd522-147b-461f-a8bc-c10c8e750cf5",
   "metadata": {},
   "outputs": [
    {
     "data": {
      "text/plain": [
       "array([-1.56590351,  0.00883257, -1.35907819,  0.11590352])"
      ]
     },
     "execution_count": 8,
     "metadata": {},
     "output_type": "execute_result"
    }
   ],
   "source": [
    "u=np.random.randn(4)\n",
    "u"
   ]
  },
  {
   "cell_type": "code",
   "execution_count": null,
   "id": "5777268e-4023-419e-a0c3-a030710567ee",
   "metadata": {},
   "outputs": [],
   "source": []
  },
  {
   "cell_type": "code",
   "execution_count": 10,
   "id": "bb705684-1336-485c-a00c-ffbe2b3d582c",
   "metadata": {},
   "outputs": [
    {
     "data": {
      "text/plain": [
       "array([[-2.83229104, -1.36915201,  0.44233274, -0.50246921],\n",
       "       [ 0.08375136, -0.0433359 ,  0.84244116, -0.19621031],\n",
       "       [-0.64367191, -0.0301298 ,  0.01398356,  0.88431772],\n",
       "       [ 1.23546023,  1.14559791, -0.25316374,  2.20638868]])"
      ]
     },
     "execution_count": 10,
     "metadata": {},
     "output_type": "execute_result"
    }
   ],
   "source": [
    "u=np.random.randn(4,4)\n",
    "u"
   ]
  },
  {
   "cell_type": "code",
   "execution_count": 12,
   "id": "5cd604a6-9899-4b5d-813f-2897649877e3",
   "metadata": {},
   "outputs": [
    {
     "data": {
      "text/plain": [
       "2"
      ]
     },
     "execution_count": 12,
     "metadata": {},
     "output_type": "execute_result"
    }
   ],
   "source": [
    "#dimension of an array\n",
    "u.ndim"
   ]
  },
  {
   "cell_type": "code",
   "execution_count": 14,
   "id": "578eb144-bdf5-48ec-9968-e4dfcb29d71a",
   "metadata": {},
   "outputs": [
    {
     "data": {
      "text/plain": [
       "(4, 4)"
      ]
     },
     "execution_count": 14,
     "metadata": {},
     "output_type": "execute_result"
    }
   ],
   "source": [
    "#rows and cols in array\n",
    "u.shape"
   ]
  },
  {
   "cell_type": "code",
   "execution_count": 16,
   "id": "bd29941b-53db-4e59-88ca-59b69acd42ff",
   "metadata": {},
   "outputs": [
    {
     "data": {
      "text/plain": [
       "16"
      ]
     },
     "execution_count": 16,
     "metadata": {},
     "output_type": "execute_result"
    }
   ],
   "source": [
    "#returns no. of elements\n",
    "u.size"
   ]
  },
  {
   "cell_type": "code",
   "execution_count": 17,
   "id": "07464086-6bef-40a9-b3d9-03f1e102196c",
   "metadata": {},
   "outputs": [
    {
     "data": {
      "text/plain": [
       "4"
      ]
     },
     "execution_count": 17,
     "metadata": {},
     "output_type": "execute_result"
    }
   ],
   "source": [
    "len(u)"
   ]
  },
  {
   "cell_type": "code",
   "execution_count": 2,
   "id": "c487a21e-a59c-4748-807e-782ca8a0777a",
   "metadata": {},
   "outputs": [
    {
     "data": {
      "text/plain": [
       "array([[3, 9, 8, 4, 8],\n",
       "       [1, 8, 9, 3, 4]])"
      ]
     },
     "execution_count": 2,
     "metadata": {},
     "output_type": "execute_result"
    }
   ],
   "source": [
    "np.random.randint(low=1,high=10,size=(2,5))"
   ]
  },
  {
   "cell_type": "code",
   "execution_count": 3,
   "id": "1a821538-f5dd-45cf-8adc-093861e92897",
   "metadata": {},
   "outputs": [
    {
     "data": {
      "text/plain": [
       "array([0., 0., 0., 0.])"
      ]
     },
     "execution_count": 3,
     "metadata": {},
     "output_type": "execute_result"
    }
   ],
   "source": [
    "np.zeros(4)"
   ]
  },
  {
   "cell_type": "code",
   "execution_count": 4,
   "id": "3a4ef89b-6208-4b6a-a986-b8a2ab503de1",
   "metadata": {},
   "outputs": [
    {
     "data": {
      "text/plain": [
       "array([1., 1., 1., 1., 1.])"
      ]
     },
     "execution_count": 4,
     "metadata": {},
     "output_type": "execute_result"
    }
   ],
   "source": [
    "np.ones(5)"
   ]
  },
  {
   "cell_type": "code",
   "execution_count": 40,
   "id": "73d915fb-a8b8-44de-bad2-575050232d9e",
   "metadata": {},
   "outputs": [
    {
     "data": {
      "text/plain": [
       "array([0.16740581, 0.07303911, 0.84807729, 0.0945765 , 0.72190252,\n",
       "       0.78667877, 0.07268859, 0.20186645, 0.97762721, 0.12515348])"
      ]
     },
     "execution_count": 40,
     "metadata": {},
     "output_type": "execute_result"
    }
   ],
   "source": [
    "#np.random.random(10)=randomly generates the array as per given no. of elements\n",
    "\n",
    "a1=np.random.random(10)\n",
    "a1"
   ]
  },
  {
   "cell_type": "code",
   "execution_count": 39,
   "id": "7eb6af0f-ccb2-4d37-b8c6-98c949a1c58a",
   "metadata": {},
   "outputs": [
    {
     "data": {
      "text/plain": [
       "array([[0.67340247, 0.08122076],\n",
       "       [0.21408047, 0.20641692],\n",
       "       [0.44895838, 0.84262907],\n",
       "       [0.46536729, 0.30185271],\n",
       "       [0.37937685, 0.05256826]])"
      ]
     },
     "execution_count": 39,
     "metadata": {},
     "output_type": "execute_result"
    }
   ],
   "source": [
    "#reshape=changing dimensions\n",
    "\n",
    "a1.reshape(5,2)"
   ]
  },
  {
   "cell_type": "code",
   "execution_count": 44,
   "id": "6d93c139-ca48-48d1-88cd-f93fb3ea915b",
   "metadata": {},
   "outputs": [
    {
     "data": {
      "text/plain": [
       "array([[[ 0.08219092,  0.79281744],\n",
       "        [-0.65565054,  1.27122891],\n",
       "        [ 0.17191307, -0.62164705]],\n",
       "\n",
       "       [[ 1.43286027,  0.60943991],\n",
       "        [-0.91535789,  1.85137507],\n",
       "        [ 1.47774762, -0.28627691]],\n",
       "\n",
       "       [[ 0.23608803,  1.24967129],\n",
       "        [ 0.56575033,  0.11474634],\n",
       "        [ 0.47803862,  2.13013347]]])"
      ]
     },
     "execution_count": 44,
     "metadata": {},
     "output_type": "execute_result"
    }
   ],
   "source": [
    "#3d array using randn and reshape\n",
    "#the product of reshape() should match the randn(number)\n",
    "\n",
    "#                    reshape(card,row,col)\n",
    "a=np.random.randn(18).reshape(3,3,2)\n",
    "a"
   ]
  },
  {
   "cell_type": "code",
   "execution_count": 48,
   "id": "ae1c45ac-574d-43b0-bdef-dd3aa301cf3d",
   "metadata": {},
   "outputs": [
    {
     "data": {
      "text/plain": [
       "array([60, 85])"
      ]
     },
     "execution_count": 48,
     "metadata": {},
     "output_type": "execute_result"
    }
   ],
   "source": [
    "a4=[[10,11,12,13,14],[15,16,17,18,19]]\n",
    "\n",
    "#sum row-wise\n",
    "\n",
    "a=np.array(a4)\n",
    "a.sum(axis=1)"
   ]
  },
  {
   "cell_type": "code",
   "execution_count": 49,
   "id": "932c35a2-fcde-445e-8138-d00531fc1943",
   "metadata": {},
   "outputs": [
    {
     "data": {
      "text/plain": [
       "array([25, 27, 29, 31, 33])"
      ]
     },
     "execution_count": 49,
     "metadata": {},
     "output_type": "execute_result"
    }
   ],
   "source": [
    "#sum col-wise\n",
    "\n",
    "a=np.array(a4)\n",
    "a.sum(axis=0)"
   ]
  },
  {
   "cell_type": "code",
   "execution_count": 52,
   "id": "78afe4cc-cd1b-45d7-9b71-9afa3449fd53",
   "metadata": {},
   "outputs": [
    {
     "data": {
      "text/plain": [
       "145"
      ]
     },
     "execution_count": 52,
     "metadata": {},
     "output_type": "execute_result"
    }
   ],
   "source": [
    "#sum all over\n",
    "\n",
    "a=np.array(a4)\n",
    "a.sum()"
   ]
  },
  {
   "cell_type": "code",
   "execution_count": 53,
   "id": "4accbed5-45f6-4751-b118-4e70063d05b1",
   "metadata": {},
   "outputs": [
    {
     "data": {
      "text/plain": [
       "array([14, 19])"
      ]
     },
     "execution_count": 53,
     "metadata": {},
     "output_type": "execute_result"
    }
   ],
   "source": [
    "#max value row-wise\n",
    "\n",
    "a=np.array(a4)\n",
    "a.max(axis=1)"
   ]
  },
  {
   "cell_type": "code",
   "execution_count": 54,
   "id": "970f478e-ef3f-4ab5-a713-7bb97b73b9f1",
   "metadata": {},
   "outputs": [
    {
     "data": {
      "text/plain": [
       "array([15, 16, 17, 18, 19])"
      ]
     },
     "execution_count": 54,
     "metadata": {},
     "output_type": "execute_result"
    }
   ],
   "source": [
    "#max value col-wise\n",
    "\n",
    "a=np.array(a4)\n",
    "a.max(axis=0)"
   ]
  },
  {
   "cell_type": "code",
   "execution_count": 55,
   "id": "2cab66a7-04ea-4f3a-8416-91d3471cfed5",
   "metadata": {},
   "outputs": [
    {
     "data": {
      "text/plain": [
       "19"
      ]
     },
     "execution_count": 55,
     "metadata": {},
     "output_type": "execute_result"
    }
   ],
   "source": [
    "#max valueover all\n",
    "\n",
    "a=np.array(a4)\n",
    "a.max()"
   ]
  },
  {
   "cell_type": "code",
   "execution_count": 16,
   "id": "738b7938-00ee-4cb1-ad37-b45b4216e881",
   "metadata": {},
   "outputs": [
    {
     "data": {
      "text/plain": [
       "array([[ 1,  2,  3],\n",
       "       [ 7,  8,  9],\n",
       "       [ 4,  5,  6],\n",
       "       [10, 11, 12]])"
      ]
     },
     "execution_count": 16,
     "metadata": {},
     "output_type": "execute_result"
    }
   ],
   "source": [
    "s1=[[1,2,3],[7,8,9]]\n",
    "s2=[[4,5,6],[10,11,12]]\n",
    "#use double brackets otherwise gives list error\n",
    "np.concatenate((s1,s2))"
   ]
  },
  {
   "cell_type": "code",
   "execution_count": 11,
   "id": "acfb6aa1-7af5-4987-a13b-d1a0cd09a07f",
   "metadata": {},
   "outputs": [
    {
     "data": {
      "text/plain": [
       "array([[ 1,  2,  3,  4,  5,  6],\n",
       "       [ 7,  8,  9, 10, 11, 12]])"
      ]
     },
     "execution_count": 11,
     "metadata": {},
     "output_type": "execute_result"
    }
   ],
   "source": [
    "np.concatenate((s1,s2),axis=1)"
   ]
  },
  {
   "cell_type": "code",
   "execution_count": 12,
   "id": "4dce6cfa-23a9-4ce0-9cd3-01d88e46f6f5",
   "metadata": {},
   "outputs": [
    {
     "data": {
      "text/plain": [
       "array([[ 1,  2,  3],\n",
       "       [ 7,  8,  9],\n",
       "       [ 4,  5,  6],\n",
       "       [10, 11, 12]])"
      ]
     },
     "execution_count": 12,
     "metadata": {},
     "output_type": "execute_result"
    }
   ],
   "source": [
    "np.concatenate((s1,s2),axis=0)"
   ]
  },
  {
   "cell_type": "code",
   "execution_count": 13,
   "id": "b6aaa527-ae20-4ce0-9a68-5ed194c186ca",
   "metadata": {
    "scrolled": true
   },
   "outputs": [
    {
     "data": {
      "text/plain": [
       "array([1., 2., 3., 7., 8., 9.])"
      ]
     },
     "execution_count": 13,
     "metadata": {},
     "output_type": "execute_result"
    }
   ],
   "source": [
    "c=[]\n",
    "np.append(c,s1)\n"
   ]
  },
  {
   "cell_type": "code",
   "execution_count": 21,
   "id": "1310cea7-e994-4f85-9554-fe0f8bff29e7",
   "metadata": {},
   "outputs": [
    {
     "data": {
      "text/plain": [
       "array([[ 4,  5,  6],\n",
       "       [10, 11, 12],\n",
       "       [66, 77, 88]])"
      ]
     },
     "execution_count": 21,
     "metadata": {},
     "output_type": "execute_result"
    }
   ],
   "source": [
    "d=[66,77,88]\n",
    "np.insert(s2,2,d,axis=0)"
   ]
  },
  {
   "cell_type": "code",
   "execution_count": 23,
   "id": "8498bb6a-53b1-46b4-9ed5-b09d2609540f",
   "metadata": {},
   "outputs": [
    {
     "data": {
      "text/plain": [
       "array([ 4,  5, 10, 11, 12])"
      ]
     },
     "execution_count": 23,
     "metadata": {},
     "output_type": "execute_result"
    }
   ],
   "source": [
    "np.delete(s2,2)"
   ]
  },
  {
   "cell_type": "code",
   "execution_count": null,
   "id": "81a64ff6-a8c6-4552-82d4-226a15ca0162",
   "metadata": {},
   "outputs": [],
   "source": [
    "#BROADING CASTING"
   ]
  },
  {
   "cell_type": "code",
   "execution_count": 25,
   "id": "db7f15f1-d70f-4a3f-92c5-003dcebad98e",
   "metadata": {},
   "outputs": [
    {
     "data": {
      "text/plain": [
       "array([150, 250, 350])"
      ]
     },
     "execution_count": 25,
     "metadata": {},
     "output_type": "execute_result"
    }
   ],
   "source": [
    "\n",
    "\n",
    "#addition\n",
    "\n",
    "a1=np.array([100,200,300])\n",
    "r=a1+50\n",
    "r"
   ]
  },
  {
   "cell_type": "code",
   "execution_count": 28,
   "id": "8db6adca-05fb-46ee-a816-3725889e2124",
   "metadata": {},
   "outputs": [
    {
     "data": {
      "text/plain": [
       "array([[10, 20, 30],\n",
       "       [ 3,  4,  5]])"
      ]
     },
     "execution_count": 28,
     "metadata": {},
     "output_type": "execute_result"
    }
   ],
   "source": [
    "p1=np.array([[10,20,30],[3,4,5]])\n",
    "p1"
   ]
  },
  {
   "cell_type": "code",
   "execution_count": 30,
   "id": "5aedcb74-a4a6-4530-bc06-cdbf1cc0a4bc",
   "metadata": {},
   "outputs": [
    {
     "data": {
      "text/plain": [
       "array([[50, 30, 70],\n",
       "       [13, 14, 15]])"
      ]
     },
     "execution_count": 30,
     "metadata": {},
     "output_type": "execute_result"
    }
   ],
   "source": [
    "p2=np.array([[50,30,70],[13,14,15]])\n",
    "p2"
   ]
  },
  {
   "cell_type": "code",
   "execution_count": 32,
   "id": "9002fcee-fc94-4d76-a424-7c1395b4decb",
   "metadata": {},
   "outputs": [
    {
     "data": {
      "text/plain": [
       "array([[ 60,  50, 100],\n",
       "       [ 16,  18,  20]])"
      ]
     },
     "execution_count": 32,
     "metadata": {},
     "output_type": "execute_result"
    }
   ],
   "source": [
    "#numpy arrays addition\n",
    "r2=p1+p2\n",
    "r2"
   ]
  },
  {
   "cell_type": "code",
   "execution_count": null,
   "id": "b7bfe9ee-a33b-46aa-8ff3-99ea6829f1bb",
   "metadata": {},
   "outputs": [],
   "source": [
    "#BOOLEAN INDEXING\n",
    "# T or F values are used for indexing "
   ]
  },
  {
   "cell_type": "code",
   "execution_count": 33,
   "id": "c0f7f030-d811-4a86-9141-d5617485173e",
   "metadata": {},
   "outputs": [
    {
     "data": {
      "text/plain": [
       "array([[False, False, False],\n",
       "       [False, False, False]])"
      ]
     },
     "execution_count": 33,
     "metadata": {},
     "output_type": "execute_result"
    }
   ],
   "source": [
    "p1=np.array([[10,20,30],[3,4,5]])\n",
    "#it returns T or F for every element whether it satisfies the condition or not\n",
    "p1>50"
   ]
  },
  {
   "cell_type": "code",
   "execution_count": 34,
   "id": "dd94bfb9-711c-4396-9bd2-f4b80c473421",
   "metadata": {},
   "outputs": [
    {
     "data": {
      "text/plain": [
       "array([10, 20,  3,  4,  5])"
      ]
     },
     "execution_count": 34,
     "metadata": {},
     "output_type": "execute_result"
    }
   ],
   "source": [
    "#to get only elements that satisfies the condition in array use:\n",
    "p1[p1<30]"
   ]
  },
  {
   "cell_type": "code",
   "execution_count": null,
   "id": "63d4dc71-4981-428a-a9db-f22cab61a76a",
   "metadata": {},
   "outputs": [],
   "source": []
  },
  {
   "cell_type": "code",
   "execution_count": null,
   "id": "35210377-fe9d-4b69-882e-11366d9c498b",
   "metadata": {},
   "outputs": [],
   "source": []
  }
 ],
 "metadata": {
  "kernelspec": {
   "display_name": "Python 3 (ipykernel)",
   "language": "python",
   "name": "python3"
  },
  "language_info": {
   "codemirror_mode": {
    "name": "ipython",
    "version": 3
   },
   "file_extension": ".py",
   "mimetype": "text/x-python",
   "name": "python",
   "nbconvert_exporter": "python",
   "pygments_lexer": "ipython3",
   "version": "3.12.2"
  }
 },
 "nbformat": 4,
 "nbformat_minor": 5
}
