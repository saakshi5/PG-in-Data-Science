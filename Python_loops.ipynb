{
 "cells": [
  {
   "cell_type": "code",
   "execution_count": 2,
   "id": "097b5dff-2478-4a89-958e-e864c588b0a3",
   "metadata": {},
   "outputs": [
    {
     "name": "stdout",
     "output_type": "stream",
     "text": [
      "Number from 10 to 1\n",
      "10\n",
      "9\n",
      "8\n",
      "7\n",
      "6\n",
      "5\n",
      "4\n",
      "3\n",
      "2\n",
      "1\n"
     ]
    }
   ],
   "source": [
    "\n",
    "print(\"Number from 10 to 1\")\n",
    "i=10\n",
    "while i>=1:\n",
    "    print(i)\n",
    "    i=i-1"
   ]
  },
  {
   "cell_type": "code",
   "execution_count": 12,
   "id": "ba6468f7-926b-4706-a168-9b638ee4a638",
   "metadata": {},
   "outputs": [
    {
     "name": "stdin",
     "output_type": "stream",
     "text": [
      "Enter first number: 11\n",
      "Enter second number: 20\n"
     ]
    },
    {
     "name": "stdout",
     "output_type": "stream",
     "text": [
      "11\n",
      "12\n",
      "13\n",
      "14\n",
      "15\n",
      "16\n",
      "17\n",
      "18\n",
      "19\n",
      "20\n"
     ]
    }
   ],
   "source": [
    "start_num=int(input(\"Enter first number:\"))\n",
    "end_num=int(input(\"Enter second number:\"))\n",
    "\n",
    "if start_num < end_num:\n",
    "    i=start_num\n",
    "    while i<=end_num:\n",
    "        print(i)\n",
    "        i=i+1\n",
    "elif start_num > end_num:\n",
    "    i=start_num\n",
    "    while i>=end_num:\n",
    "        print(i)\n",
    "        i=i-1\n",
    "else:\n",
    "    print(\"Invalid nos\")\n",
    "    \n",
    "    "
   ]
  },
  {
   "cell_type": "code",
   "execution_count": 14,
   "id": "611b7911-fbd7-410b-93a9-78d6ba5f5882",
   "metadata": {},
   "outputs": [
    {
     "name": "stdout",
     "output_type": "stream",
     "text": [
      "Square of Numbers from 1 to 10:\n",
      "1\n",
      "4\n",
      "9\n",
      "16\n",
      "25\n",
      "36\n",
      "49\n",
      "64\n",
      "81\n",
      "100\n"
     ]
    }
   ],
   "source": [
    "#square of nos 1 to 10\n",
    "print(\"Square of Numbers from 1 to 10:\")\n",
    "i=1\n",
    "while i<=10:\n",
    "    print(i*i)\n",
    "    i=i+1"
   ]
  },
  {
   "cell_type": "code",
   "execution_count": 19,
   "id": "ce4aa2c1-aaf9-422b-a8fd-b8476a89fca2",
   "metadata": {},
   "outputs": [
    {
     "name": "stdin",
     "output_type": "stream",
     "text": [
      "Enter a number till which fibonacci serirs is to found:  8\n"
     ]
    },
    {
     "name": "stdout",
     "output_type": "stream",
     "text": [
      "Fibo series:\n",
      "0\n",
      "1\n",
      "1\n",
      "2\n",
      "3\n",
      "5\n",
      "8\n",
      "13\n",
      "21\n"
     ]
    }
   ],
   "source": [
    "#fibo\n",
    "n=int(input(\"Enter a number till which fibonacci serirs is to found: \"))\n",
    "a=0\n",
    "b=1\n",
    "i=0\n",
    "print(\"Fibo series:\")\n",
    "while i<=n:\n",
    "    print(a)\n",
    "    c=a+b\n",
    "    a=b\n",
    "    b=c\n",
    "    i=i+1"
   ]
  },
  {
   "cell_type": "code",
   "execution_count": 21,
   "id": "7538cef0-f46e-420b-9a29-a76488c02e6c",
   "metadata": {},
   "outputs": [
    {
     "name": "stdin",
     "output_type": "stream",
     "text": [
      "Enter a number to find middle: 123456\n"
     ]
    },
    {
     "name": "stdout",
     "output_type": "stream",
     "text": [
      "6\n",
      "Middle digit of even number digit is 7\n"
     ]
    }
   ],
   "source": [
    "#find middle number of given number\n",
    "n=int(input(\"Enter a number to find middle:\")) #2345\n",
    "countt=0\n",
    "num=n\n",
    "while n!=0:\n",
    "    countt=countt+1\n",
    "    n=n//10\n",
    "print(countt)\n",
    "#print(num)\n",
    "# c=1\n",
    "# ts=0\n",
    "if countt%2==0: #1\n",
    "    c=0\n",
    "    ts=0\n",
    "    while num!=0:\n",
    "        middle=countt//2\n",
    "        c+=1\n",
    "        #c=middle+middle+1\n",
    "        if c==middle or c==middle+1:\n",
    "            rem=num%10\n",
    "            ts=ts+rem\n",
    "            \n",
    "        num=num//10\n",
    "    print(f\"Middle digit of even number digit is {ts}\")\n",
    "else:\n",
    "    print(\"odd\")\n",
    "    c=0\n",
    "    while num!=0:\n",
    "        #print(\"**\")\n",
    "        middle=countt//2\n",
    "        c+=1\n",
    "        #c=middle+middle+1\n",
    "        if c==middle+1:\n",
    "            rem=num%10\n",
    "            \n",
    "            print(f\"middle num {rem}\")\n",
    "        num=num//10\n",
    "    "
   ]
  },
  {
   "cell_type": "code",
   "execution_count": null,
   "id": "f48ba521-1638-48cc-9228-8c5c8617e4f4",
   "metadata": {},
   "outputs": [],
   "source": [
    "num=int(input(\"Enter a number: \"))\n",
    "count=0\n",
    "num1=num\n",
    "while num!=0:\n",
    "    count+=1\n",
    "    num=num//10\n",
    "print(f\"count={count}\") \n",
    "\n",
    "if count%2==0:\n",
    "    c=0\n",
    "    middle=count//2\n",
    "    ts=0\n",
    "    while num1!=0:\n",
    "        c=c+1\n",
    "        if c==middle or c==middle+1:\n",
    "            rem=num1%10\n",
    "            ts=ts+rem\n",
    "        num1=num1//10\n",
    "    print(ts/2)\n",
    "else:\n",
    "    c=0\n",
    "    middle=count//2\n",
    "    while num1!=0:\n",
    "        c=c+1\n",
    "        if c==middle+1:\n",
    "            rem=num1%10\n",
    "            print(rem)\n",
    "        num1=num1//10\n",
    "    "
   ]
  }
 ],
 "metadata": {
  "kernelspec": {
   "display_name": "Python 3 (ipykernel)",
   "language": "python",
   "name": "python3"
  },
  "language_info": {
   "codemirror_mode": {
    "name": "ipython",
    "version": 3
   },
   "file_extension": ".py",
   "mimetype": "text/x-python",
   "name": "python",
   "nbconvert_exporter": "python",
   "pygments_lexer": "ipython3",
   "version": "3.10.7"
  }
 },
 "nbformat": 4,
 "nbformat_minor": 5
}
