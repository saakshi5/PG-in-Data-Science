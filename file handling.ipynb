{
 "cells": [
  {
   "cell_type": "code",
   "execution_count": 34,
   "id": "f251544f",
   "metadata": {},
   "outputs": [
    {
     "name": "stdout",
     "output_type": "stream",
     "text": [
      "hello from demo file\n",
      "jhdskdh\n",
      "]kjhfsdkfh\n",
      "kjhdkjfhkd\n"
     ]
    }
   ],
   "source": [
    "f=open(\"demo.txt\",\"r\")\n",
    "data=f.read()\n",
    "print(data)\n",
    "f.close()"
   ]
  },
  {
   "cell_type": "code",
   "execution_count": 5,
   "id": "599d952c",
   "metadata": {},
   "outputs": [
    {
     "name": "stdout",
     "output_type": "stream",
     "text": [
      "hell\n",
      "o from demo file\n"
     ]
    }
   ],
   "source": [
    "f=open(\"demo.txt\",\"r\")\n",
    "data=f.read(4)\n",
    "data1=f.read()\n",
    "print(data)\n",
    "print(data1)\n",
    "f.close()"
   ]
  },
  {
   "cell_type": "code",
   "execution_count": 6,
   "id": "559068b0",
   "metadata": {},
   "outputs": [
    {
     "name": "stdout",
     "output_type": "stream",
     "text": [
      "hello from demo file\n",
      "\n"
     ]
    }
   ],
   "source": [
    "f=open(\"demo.txt\",\"r\")\n",
    "data=f.read()\n",
    "data1=f.read()\n",
    "print(data)\n",
    "print(data1)\n",
    "f.close()"
   ]
  },
  {
   "cell_type": "code",
   "execution_count": 7,
   "id": "81870cf3",
   "metadata": {},
   "outputs": [
    {
     "name": "stdout",
     "output_type": "stream",
     "text": [
      "['hello from demo file\\n', 'jhdskdh\\n', ']kjhfsdkfh\\n', 'kjhdkjfhkd']\n"
     ]
    }
   ],
   "source": [
    "f=open(\"demo.txt\",\"r\")\n",
    "data=f.readlines()\n",
    "print(data)\n",
    "f.close()"
   ]
  },
  {
   "cell_type": "code",
   "execution_count": 11,
   "id": "bb6257f0",
   "metadata": {},
   "outputs": [
    {
     "name": "stdout",
     "output_type": "stream",
     "text": [
      "hello from demo file\n",
      "\n"
     ]
    }
   ],
   "source": [
    "f=open(\"demo.txt\",\"r\")\n",
    "data=f.readline()\n",
    "print(data)\n",
    "f.close()"
   ]
  },
  {
   "cell_type": "code",
   "execution_count": 12,
   "id": "fcdad818",
   "metadata": {},
   "outputs": [],
   "source": [
    "#writing data"
   ]
  },
  {
   "cell_type": "code",
   "execution_count": 14,
   "id": "d34da4f6",
   "metadata": {},
   "outputs": [],
   "source": [
    "f=open(\"demo1.txt\",\"w\")\n",
    "f.write(\"hello world\")\n",
    "f.close()"
   ]
  },
  {
   "cell_type": "code",
   "execution_count": 16,
   "id": "b5bd1d29",
   "metadata": {},
   "outputs": [],
   "source": [
    "f=open(\"demo1.txt\",\"w\")\n",
    "f.writelines([\"hello world\\n\",\"byee\\n\",\"lkdsjkfd\\n\"])\n",
    "f.close()"
   ]
  },
  {
   "cell_type": "code",
   "execution_count": 17,
   "id": "3f76e07f",
   "metadata": {},
   "outputs": [],
   "source": [
    "f=open(\"demo1.txt\",\"w\")\n",
    "f.write(\"milestone institutr\")\n",
    "f.close()"
   ]
  },
  {
   "cell_type": "code",
   "execution_count": 18,
   "id": "1f168d68",
   "metadata": {},
   "outputs": [],
   "source": [
    "f=open(\"demo1.txt\",\"a\")\n",
    "f.write(\" cource details....\")\n",
    "f.close()"
   ]
  },
  {
   "cell_type": "code",
   "execution_count": 21,
   "id": "260d9e2a",
   "metadata": {},
   "outputs": [],
   "source": [
    "f=open(\"file1.txt\",\"r\")\n",
    "data=f.read()\n",
    "#print(data)\n",
    "\n",
    "f1=open(\"file2.txt\",\"w\")\n",
    "f1.write(data)\n",
    "f1.close()\n",
    "f.close()"
   ]
  },
  {
   "cell_type": "code",
   "execution_count": 29,
   "id": "19cf8f61",
   "metadata": {},
   "outputs": [
    {
     "name": "stdout",
     "output_type": "stream",
     "text": [
      "300\n"
     ]
    }
   ],
   "source": [
    "f=open(\"number1.txt\",\"r\")\n",
    "n1=int(f.read())\n",
    "f1=open(\"number2.txt\",\"r\")\n",
    "n2=int(f1.read())\n",
    "f1.close()\n",
    "f.close()\n",
    "\n",
    "# print(n1)\n",
    "# print(n2)\n",
    "\n",
    "#addition\n",
    "s=n1+n2\n",
    "print(s)\n",
    "r=open(\"result.txt\",\"w\")\n",
    "r.write(str(s))\n",
    "r.close()"
   ]
  },
  {
   "cell_type": "code",
   "execution_count": 31,
   "id": "1a22e6de",
   "metadata": {},
   "outputs": [],
   "source": [
    "import pickle"
   ]
  },
  {
   "cell_type": "code",
   "execution_count": 30,
   "id": "28e3dc9b",
   "metadata": {},
   "outputs": [],
   "source": [
    "dt={\"a\":100,\"b\":200}"
   ]
  },
  {
   "cell_type": "code",
   "execution_count": 33,
   "id": "7537a29a",
   "metadata": {},
   "outputs": [],
   "source": [
    "f=open(\"dtobject.pkl\",\"wb\")\n",
    "pickle.dump(dt,f)\n",
    "f.close()"
   ]
  },
  {
   "cell_type": "code",
   "execution_count": 39,
   "id": "3ad945f7",
   "metadata": {},
   "outputs": [
    {
     "name": "stdout",
     "output_type": "stream",
     "text": [
      "hell\n",
      "4\n",
      "hell\n"
     ]
    }
   ],
   "source": [
    "f=open(\"demo.txt\",\"r\")\n",
    "data=f.read(4)\n",
    "print(data)\n",
    "print(f.tell())\n",
    "\n",
    "f.seek(0,0)\n",
    "data=f.read(4)\n",
    "print(data)\n",
    "\n",
    "f.close()"
   ]
  },
  {
   "cell_type": "code",
   "execution_count": 22,
   "id": "cc644b63",
   "metadata": {},
   "outputs": [
    {
     "name": "stdout",
     "output_type": "stream",
     "text": [
      "Name:\n",
      "Course:\n",
      "Class:Age:\n",
      "\n",
      " Control Id:\n",
      "\n",
      "Name:\n",
      "Course:\n",
      "Class:Age:\n",
      "\n",
      " Control Id:\n",
      "\n",
      " Control Id:\n",
      "\n"
     ]
    }
   ],
   "source": [
    "y=open(\"file1.txt\",\"r+\")\n",
    "data=y.read()\n",
    "print(data)\n",
    "y.writelines([\"Control Id:\\n\"])\n",
    "\n",
    "#point again to start of file\n",
    "y.seek(0,0)\n",
    "data1=y.read()\n",
    "print(data1)\n",
    "y.close()"
   ]
  },
  {
   "cell_type": "code",
   "execution_count": 23,
   "id": "20053ff7-e8e3-4288-a038-9728c5f38a20",
   "metadata": {},
   "outputs": [
    {
     "name": "stdout",
     "output_type": "stream",
     "text": [
      "Fuck off!\n"
     ]
    }
   ],
   "source": [
    "y=open(\"file2.txt\",\"w+\")\n",
    "y.write(\"Fuck off!\")\n",
    "\n",
    "#point again to start of file\n",
    "y.seek(0,0)\n",
    "data=y.read()\n",
    "print(data)\n",
    "y.close()"
   ]
  },
  {
   "cell_type": "code",
   "execution_count": null,
   "id": "8b42bed1-1102-412b-a810-67848737a134",
   "metadata": {},
   "outputs": [],
   "source": []
  }
 ],
 "metadata": {
  "kernelspec": {
   "display_name": "Python 3 (ipykernel)",
   "language": "python",
   "name": "python3"
  },
  "language_info": {
   "codemirror_mode": {
    "name": "ipython",
    "version": 3
   },
   "file_extension": ".py",
   "mimetype": "text/x-python",
   "name": "python",
   "nbconvert_exporter": "python",
   "pygments_lexer": "ipython3",
   "version": "3.10.7"
  }
 },
 "nbformat": 4,
 "nbformat_minor": 5
}
