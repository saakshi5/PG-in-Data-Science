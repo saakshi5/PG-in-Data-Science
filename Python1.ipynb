{
 "cells": [
  {
   "cell_type": "code",
   "execution_count": 1,
   "id": "df4bb322-682c-41cb-806a-24234814bc61",
   "metadata": {},
   "outputs": [
    {
     "data": {
      "text/plain": [
       "True"
      ]
     },
     "execution_count": 1,
     "metadata": {},
     "output_type": "execute_result"
    }
   ],
   "source": [
    "x=2\n",
    "y=10\n",
    "res=x*5<=10 and y-6<=20\n",
    "res"
   ]
  },
  {
   "cell_type": "code",
   "execution_count": 4,
   "id": "5899353d-0796-42a2-9932-06c78cd16575",
   "metadata": {},
   "outputs": [
    {
     "data": {
      "text/plain": [
       "3"
      ]
     },
     "execution_count": 4,
     "metadata": {},
     "output_type": "execute_result"
    }
   ],
   "source": [
    "x=2\n",
    "y=10\n",
    "r1=x**3-5\n",
    "r=x**3-5<=10 or x>y\n",
    "r1"
   ]
  },
  {
   "cell_type": "code",
   "execution_count": 1,
   "id": "91b6dd2c-aed7-4703-ac67-e052c7b766c5",
   "metadata": {},
   "outputs": [
    {
     "name": "stdin",
     "output_type": "stream",
     "text": [
      "Enter first number: 10\n",
      "Enter second number: 2\n",
      "Enter 1 to add the numbers, 2 to subtract the numbers,3 to multiply the numbers and 4 to divide the numbers: 1\n"
     ]
    },
    {
     "name": "stdout",
     "output_type": "stream",
     "text": [
      "Addition of 10 and 2 is 12\n"
     ]
    }
   ],
   "source": [
    "num1=int(input(\"Enter first number:\"))\n",
    "num2=int(input(\"Enter second number:\"))\n",
    "choice=int(input(\"Enter 1 to add the numbers, 2 to subtract the numbers,3 to multiply the numbers and 4 to divide the numbers:\"))\n",
    "if choice==1:\n",
    "    summ=num1+num2\n",
    "    print(f\"Addition of {num1} and {num2} is {summ}\")\n",
    "elif choice==2:\n",
    "    sub=num1-num2\n",
    "    print(f\"Subtraction of {num1} and {num2} is {sub}\")    \n",
    "elif choice==3:\n",
    "    mul=num1*num2\n",
    "    print(f\"Multiplication of {num1} and {num2} is {mul}\")    \n",
    "elif choice==4:\n",
    "    div=num1/num2\n",
    "    print(f\"Division of {num1} and {num2} is {div}\")  \n",
    "else:\n",
    "    print(\"Invlid input\")\n"
   ]
  },
  {
   "cell_type": "code",
   "execution_count": 3,
   "id": "f2d6c5c8-1159-4e2c-905f-531ff2f2cc2c",
   "metadata": {},
   "outputs": [
    {
     "name": "stdin",
     "output_type": "stream",
     "text": [
      "Enter first number: 10\n",
      "Enter second number: 5\n",
      "Enter '+' to add the numbers, '-' to subtract the numbers,'*' to multiply the numbers and '/' to divide the numbers: /\n"
     ]
    },
    {
     "name": "stdout",
     "output_type": "stream",
     "text": [
      "Division of 10 and 5 is 2.0\n"
     ]
    }
   ],
   "source": [
    "num1=int(input(\"Enter first number:\"))\n",
    "num2=int(input(\"Enter second number:\"))\n",
    "choice=input(\"Enter '+' to add the numbers, '-' to subtract the numbers,'*' to multiply the numbers and '/' to divide the numbers:\")\n",
    "if choice=='+':\n",
    "    summ=num1+num2\n",
    "    print(f\"Addition of {num1} and {num2} is {summ}\")\n",
    "elif choice=='-':\n",
    "    sub=num1-num2\n",
    "    print(f\"Subtraction of {num1} and {num2} is {sub}\")    \n",
    "elif choice=='*':\n",
    "    mul=num1*num2\n",
    "    print(f\"Multiplication of {num1} and {num2} is {mul}\")    \n",
    "elif choice=='/':\n",
    "    div=num1/num2\n",
    "    print(f\"Division of {num1} and {num2} is {div}\")  \n",
    "else:\n",
    "    print(\"Invlid input\")\n"
   ]
  },
  {
   "cell_type": "code",
   "execution_count": null,
   "id": "05caa7de-a1d7-493d-8713-fd8b5e5c7d48",
   "metadata": {},
   "outputs": [],
   "source": []
  }
 ],
 "metadata": {
  "kernelspec": {
   "display_name": "Python 3 (ipykernel)",
   "language": "python",
   "name": "python3"
  },
  "language_info": {
   "codemirror_mode": {
    "name": "ipython",
    "version": 3
   },
   "file_extension": ".py",
   "mimetype": "text/x-python",
   "name": "python",
   "nbconvert_exporter": "python",
   "pygments_lexer": "ipython3",
   "version": "3.10.7"
  }
 },
 "nbformat": 4,
 "nbformat_minor": 5
}
