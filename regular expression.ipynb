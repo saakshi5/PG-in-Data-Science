{
 "cells": [
  {
   "cell_type": "code",
   "execution_count": 1,
   "id": "92b2d59f",
   "metadata": {},
   "outputs": [],
   "source": [
    "import re"
   ]
  },
  {
   "cell_type": "code",
   "execution_count": 5,
   "id": "2843591c",
   "metadata": {},
   "outputs": [
    {
     "name": "stdout",
     "output_type": "stream",
     "text": [
      "[]\n"
     ]
    }
   ],
   "source": [
    "text=\"this is my demo string demo demo demo\"\n",
    "pattern=r\"demo\"\n",
    "\n",
    "result=re.findall(pattern,text)\n",
    "print(result)"
   ]
  },
  {
   "cell_type": "code",
   "execution_count": 7,
   "id": "3bb3a3ea",
   "metadata": {},
   "outputs": [
    {
     "name": "stdout",
     "output_type": "stream",
     "text": [
      "this\\ndemo\n"
     ]
    }
   ],
   "source": [
    "print(r\"this\\ndemo\")"
   ]
  },
  {
   "cell_type": "code",
   "execution_count": 15,
   "id": "a8fc5854",
   "metadata": {},
   "outputs": [
    {
     "name": "stdout",
     "output_type": "stream",
     "text": [
      "['emR']\n"
     ]
    }
   ],
   "source": [
    "text=\"Rhis is my demo string demo demo demR\"\n",
    "pattern=r\"emR$\"\n",
    "\n",
    "result=re.findall(pattern,text)\n",
    "print(result)"
   ]
  },
  {
   "cell_type": "code",
   "execution_count": 19,
   "id": "7748b975",
   "metadata": {},
   "outputs": [
    {
     "name": "stdout",
     "output_type": "stream",
     "text": [
      "['air']\n"
     ]
    }
   ],
   "source": [
    "text=\"this is air aaghfr\"\n",
    "pattern=r\"a.r\"\n",
    "\n",
    "result=re.findall(pattern,text)\n",
    "print(result)"
   ]
  },
  {
   "cell_type": "code",
   "execution_count": 21,
   "id": "38624a4f",
   "metadata": {},
   "outputs": [
    {
     "name": "stdout",
     "output_type": "stream",
     "text": [
      "['air aaghfr ar']\n"
     ]
    }
   ],
   "source": [
    "text=\"this is air aaghfr\"\n",
    "pattern=r\"a.+r\"\n",
    "\n",
    "result=re.findall(pattern,text)\n",
    "print(result)"
   ]
  },
  {
   "cell_type": "code",
   "execution_count": 23,
   "id": "f0251bcb",
   "metadata": {},
   "outputs": [
    {
     "name": "stdout",
     "output_type": "stream",
     "text": [
      "['ar']\n"
     ]
    }
   ],
   "source": [
    "text=\"this is ar\"\n",
    "pattern=r\"a.*r\"\n",
    "\n",
    "result=re.findall(pattern,text)\n",
    "print(result)"
   ]
  },
  {
   "cell_type": "code",
   "execution_count": 26,
   "id": "9dc6df3f",
   "metadata": {},
   "outputs": [
    {
     "name": "stdout",
     "output_type": "stream",
     "text": [
      "[]\n"
     ]
    }
   ],
   "source": [
    "text=\"this is afhjr\"\n",
    "pattern=r\"a.?r\"\n",
    "\n",
    "result=re.findall(pattern,text)\n",
    "print(result)"
   ]
  },
  {
   "cell_type": "code",
   "execution_count": 32,
   "id": "1462b51d",
   "metadata": {},
   "outputs": [
    {
     "name": "stdout",
     "output_type": "stream",
     "text": [
      "['Mike', 'Smith']\n",
      "['24', '25']\n"
     ]
    }
   ],
   "source": [
    "text=\"this is Mike and my age is 24. this is Smith and my age is 25.\"\n",
    "\n",
    "pattern=r\"[A-Z][A-Za-z]+\"\n",
    "pattern1=r\"[0-9]+\"\n",
    "\n",
    "result=re.findall(pattern,text)\n",
    "print(result)\n",
    "\n",
    "\n",
    "result1=re.findall(pattern1,text)\n",
    "print(result1)"
   ]
  },
  {
   "cell_type": "code",
   "execution_count": null,
   "id": "b681bff3",
   "metadata": {},
   "outputs": [],
   "source": []
  }
 ],
 "metadata": {
  "kernelspec": {
   "display_name": "Python 3 (ipykernel)",
   "language": "python",
   "name": "python3"
  },
  "language_info": {
   "codemirror_mode": {
    "name": "ipython",
    "version": 3
   },
   "file_extension": ".py",
   "mimetype": "text/x-python",
   "name": "python",
   "nbconvert_exporter": "python",
   "pygments_lexer": "ipython3",
   "version": "3.11.4"
  }
 },
 "nbformat": 4,
 "nbformat_minor": 5
}
