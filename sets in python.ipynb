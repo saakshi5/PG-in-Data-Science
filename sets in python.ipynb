{
 "cells": [
  {
   "cell_type": "code",
   "execution_count": 5,
   "id": "96461e13",
   "metadata": {},
   "outputs": [
    {
     "data": {
      "text/plain": [
       "{100, 200, 300}"
      ]
     },
     "execution_count": 5,
     "metadata": {},
     "output_type": "execute_result"
    }
   ],
   "source": [
    "s={100,200,300}\n",
    "s"
   ]
  },
  {
   "cell_type": "code",
   "execution_count": 7,
   "id": "171dd8c7",
   "metadata": {},
   "outputs": [
    {
     "data": {
      "text/plain": [
       "{44, 55.1, 'cs'}"
      ]
     },
     "execution_count": 7,
     "metadata": {},
     "output_type": "execute_result"
    }
   ],
   "source": [
    "s={\"cs\",44,55.1}\n",
    "s"
   ]
  },
  {
   "cell_type": "code",
   "execution_count": 8,
   "id": "d4e4526c",
   "metadata": {},
   "outputs": [
    {
     "name": "stdout",
     "output_type": "stream",
     "text": [
      "{10, 11, 12, 20}\n"
     ]
    }
   ],
   "source": [
    "s={10,11,12,11,10,20,11}\n",
    "print(s)"
   ]
  },
  {
   "cell_type": "code",
   "execution_count": 9,
   "id": "25614efa",
   "metadata": {},
   "outputs": [
    {
     "name": "stdout",
     "output_type": "stream",
     "text": [
      "{101, 102, 103, 104, 105, 1000}\n"
     ]
    }
   ],
   "source": [
    "s={101,102,103,104,105}\n",
    "s.add(1000)\n",
    "print(s)"
   ]
  },
  {
   "cell_type": "code",
   "execution_count": 10,
   "id": "49b090fc",
   "metadata": {},
   "outputs": [],
   "source": [
    "s.discard(1000)"
   ]
  },
  {
   "cell_type": "code",
   "execution_count": 12,
   "id": "fa5dbbf4",
   "metadata": {},
   "outputs": [
    {
     "name": "stdout",
     "output_type": "stream",
     "text": [
      "{101, 102, 103, 104, 105}\n"
     ]
    }
   ],
   "source": [
    "print(s)"
   ]
  },
  {
   "cell_type": "code",
   "execution_count": 13,
   "id": "f823400f",
   "metadata": {},
   "outputs": [],
   "source": [
    "s.discard(1001)"
   ]
  },
  {
   "cell_type": "code",
   "execution_count": 14,
   "id": "909debaa",
   "metadata": {},
   "outputs": [
    {
     "name": "stdout",
     "output_type": "stream",
     "text": [
      "{101, 102, 103, 104, 105}\n"
     ]
    }
   ],
   "source": [
    "print(s)"
   ]
  },
  {
   "cell_type": "code",
   "execution_count": 16,
   "id": "843b1db9",
   "metadata": {},
   "outputs": [],
   "source": [
    "s.remove(101)"
   ]
  },
  {
   "cell_type": "code",
   "execution_count": 17,
   "id": "26bd5031",
   "metadata": {},
   "outputs": [
    {
     "name": "stdout",
     "output_type": "stream",
     "text": [
      "{102, 103, 104, 105}\n"
     ]
    }
   ],
   "source": [
    "print(s)"
   ]
  },
  {
   "cell_type": "code",
   "execution_count": 18,
   "id": "454c7e2b",
   "metadata": {},
   "outputs": [
    {
     "name": "stdout",
     "output_type": "stream",
     "text": [
      "{101, 102}\n"
     ]
    }
   ],
   "source": [
    "s1={101,102,103,104}\n",
    "s2={101,105,106,102}\n",
    "\n",
    "print(s1.intersection(s2))"
   ]
  },
  {
   "cell_type": "code",
   "execution_count": 19,
   "id": "961c1dc6",
   "metadata": {},
   "outputs": [
    {
     "name": "stdout",
     "output_type": "stream",
     "text": [
      "{101, 102, 103, 104, 105, 106}\n"
     ]
    }
   ],
   "source": [
    "print(s1.union(s2))"
   ]
  },
  {
   "cell_type": "code",
   "execution_count": 20,
   "id": "5acb9a82",
   "metadata": {},
   "outputs": [
    {
     "name": "stdout",
     "output_type": "stream",
     "text": [
      "{104, 103}\n"
     ]
    }
   ],
   "source": [
    "print(s1.difference(s2)) #elements which are present in s1 but not in s2"
   ]
  },
  {
   "cell_type": "code",
   "execution_count": 21,
   "id": "ec91e890",
   "metadata": {},
   "outputs": [
    {
     "name": "stdout",
     "output_type": "stream",
     "text": [
      "<class 'dict'>\n"
     ]
    }
   ],
   "source": [
    "s={}\n",
    "print(type(s))"
   ]
  },
  {
   "cell_type": "code",
   "execution_count": 23,
   "id": "60c48e51",
   "metadata": {},
   "outputs": [
    {
     "name": "stdout",
     "output_type": "stream",
     "text": [
      "<class 'set'>\n"
     ]
    }
   ],
   "source": [
    "s=set()\n",
    "print(type(s))"
   ]
  },
  {
   "cell_type": "code",
   "execution_count": 24,
   "id": "23cc6a87",
   "metadata": {},
   "outputs": [
    {
     "data": {
      "text/plain": [
       "['m', 'i', 'l', 'e', 's', 't', 'o', 'n', 'e']"
      ]
     },
     "execution_count": 24,
     "metadata": {},
     "output_type": "execute_result"
    }
   ],
   "source": [
    "list(\"milestone\")"
   ]
  },
  {
   "cell_type": "code",
   "execution_count": 25,
   "id": "809db4dc",
   "metadata": {},
   "outputs": [
    {
     "data": {
      "text/plain": [
       "(1000, 200, 300, 400)"
      ]
     },
     "execution_count": 25,
     "metadata": {},
     "output_type": "execute_result"
    }
   ],
   "source": [
    "tuple([1000,200,300,400])"
   ]
  },
  {
   "cell_type": "code",
   "execution_count": 26,
   "id": "fbe844d1",
   "metadata": {},
   "outputs": [
    {
     "data": {
      "text/plain": [
       "{100, 200, 300}"
      ]
     },
     "execution_count": 26,
     "metadata": {},
     "output_type": "execute_result"
    }
   ],
   "source": [
    "set([100,200,300])"
   ]
  },
  {
   "cell_type": "code",
   "execution_count": 27,
   "id": "ae2f3bc5",
   "metadata": {},
   "outputs": [
    {
     "ename": "TypeError",
     "evalue": "set expected at most 1 argument, got 3",
     "output_type": "error",
     "traceback": [
      "\u001b[1;31m---------------------------------------------------------------------------\u001b[0m",
      "\u001b[1;31mTypeError\u001b[0m                                 Traceback (most recent call last)",
      "Cell \u001b[1;32mIn[27], line 1\u001b[0m\n\u001b[1;32m----> 1\u001b[0m \u001b[38;5;28;43mset\u001b[39;49m\u001b[43m(\u001b[49m\u001b[38;5;241;43m100\u001b[39;49m\u001b[43m,\u001b[49m\u001b[38;5;241;43m200\u001b[39;49m\u001b[43m,\u001b[49m\u001b[38;5;241;43m300\u001b[39;49m\u001b[43m)\u001b[49m\n",
      "\u001b[1;31mTypeError\u001b[0m: set expected at most 1 argument, got 3"
     ]
    }
   ],
   "source": [
    "set(100,200,300)"
   ]
  },
  {
   "cell_type": "code",
   "execution_count": 28,
   "id": "695328f9",
   "metadata": {},
   "outputs": [
    {
     "ename": "TypeError",
     "evalue": "list expected at most 1 argument, got 3",
     "output_type": "error",
     "traceback": [
      "\u001b[1;31m---------------------------------------------------------------------------\u001b[0m",
      "\u001b[1;31mTypeError\u001b[0m                                 Traceback (most recent call last)",
      "Cell \u001b[1;32mIn[28], line 1\u001b[0m\n\u001b[1;32m----> 1\u001b[0m \u001b[38;5;28;43mlist\u001b[39;49m\u001b[43m(\u001b[49m\u001b[38;5;241;43m100\u001b[39;49m\u001b[43m,\u001b[49m\u001b[38;5;241;43m200\u001b[39;49m\u001b[43m,\u001b[49m\u001b[38;5;241;43m300\u001b[39;49m\u001b[43m)\u001b[49m\n",
      "\u001b[1;31mTypeError\u001b[0m: list expected at most 1 argument, got 3"
     ]
    }
   ],
   "source": [
    "list(100,200,300)"
   ]
  },
  {
   "cell_type": "code",
   "execution_count": 34,
   "id": "d8777e8a",
   "metadata": {},
   "outputs": [
    {
     "name": "stdout",
     "output_type": "stream",
     "text": [
      "addition 600\n"
     ]
    }
   ],
   "source": [
    "mylist=[\"$100\",\"$200\",\"$300\"]\n",
    "\n",
    "#add all elements from list o/p should be -: $600\n",
    "l=[]\n",
    "s=\"\"\n",
    "for i in mylist:\n",
    "    st=\"\"\n",
    "    #print(i)\n",
    "    st+=i\n",
    "    s=st.split(\"$\")[1]\n",
    "    l.append(s)\n",
    "#print(l)\n",
    "\n",
    "summ=0\n",
    "for i in l:\n",
    "    summ+=int(i)\n",
    "\n",
    "print(\"addition\",summ)"
   ]
  },
  {
   "cell_type": "code",
   "execution_count": 36,
   "id": "3ca3a352",
   "metadata": {},
   "outputs": [
    {
     "name": "stdout",
     "output_type": "stream",
     "text": [
      "$600\n"
     ]
    }
   ],
   "source": [
    "mylist=[\"$100\",\"$200\",\"$300\"]\n",
    "s=0\n",
    "for i in mylist:\n",
    "    s+=int(i.replace(\"$\",\"\"))\n",
    "    \n",
    "print(\"$\"+str(s))"
   ]
  },
  {
   "cell_type": "code",
   "execution_count": 56,
   "id": "a5e11cb8",
   "metadata": {},
   "outputs": [
    {
     "name": "stdout",
     "output_type": "stream",
     "text": [
      "[11, 11, 11, 12, 11, 11, 11]\n"
     ]
    }
   ],
   "source": [
    "mylist=[10,11,12,11,13,11,14,11,12]\n",
    "#print those elements which are repeating \n",
    "#op [11 , 12]\n",
    "# l=[]\n",
    "# cnt=0\n",
    "# for i in mylist:\n",
    "#     #print(i)\n",
    "#     if i not in l:\n",
    "#         l.append(i)\n",
    "#     else:\n",
    "#         continue\n",
    "\n",
    "# print(l)\n",
    "l=[]\n",
    "for i in range(0,len(mylist)):\n",
    "    #s=i\n",
    "    for j in range(i+1,len(mylist)):\n",
    "        if mylist[i]==mylist[j]:\n",
    "            l.append(mylist[i])\n",
    "print(l)   "
   ]
  },
  {
   "cell_type": "code",
   "execution_count": 55,
   "id": "015e84cc",
   "metadata": {},
   "outputs": [
    {
     "name": "stdout",
     "output_type": "stream",
     "text": [
      "[11, 11, 11, 12, 11, 11, 11]\n",
      "[11, 12]\n"
     ]
    }
   ],
   "source": [
    "mylist=[10,11,12,11,13,11,14,11,12]\n",
    "repeat=[]\n",
    "for i in range(0,len(mylist)):\n",
    "    for j in range(i+1,len(mylist)):\n",
    "        if mylist[i]==mylist[j]:\n",
    "            repeat.append(mylist[i])\n",
    "print(repeat)\n",
    "\n",
    "newlist=[]\n",
    "for i in repeat:\n",
    "    if i not in newlist:\n",
    "        newlist.append(i)\n",
    "        \n",
    "print(newlist)\n",
    "    \n",
    "            "
   ]
  },
  {
   "cell_type": "code",
   "execution_count": 65,
   "id": "6fa0b659",
   "metadata": {},
   "outputs": [
    {
     "name": "stdout",
     "output_type": "stream",
     "text": [
      "[10, 13, 14]\n"
     ]
    }
   ],
   "source": [
    "mylist=[10,11,12,11,13,11,14,11,12]\n",
    "#print those elemets which are not repeating \n",
    "#op [10,13,14]\n",
    "n=[]\n",
    "for i in range(0,len(mylist)):\n",
    "    #print(n)\n",
    "    if mylist[i] in n:\n",
    "        n.remove(mylist[i])\n",
    "    else:\n",
    "        n.append(mylist[i])\n",
    "print(n)    "
   ]
  },
  {
   "cell_type": "code",
   "execution_count": 66,
   "id": "85dce056",
   "metadata": {},
   "outputs": [
    {
     "name": "stdout",
     "output_type": "stream",
     "text": [
      "[10, 11, 12, 13, 14]\n"
     ]
    }
   ],
   "source": [
    "#remove repeating occurance from above list\n",
    "#op [10,11,12,13,14]\n",
    "mylist=[10,11,12,11,13,11,14,11,12]\n",
    "o=[]\n",
    "for i in range(0,len(mylist)):\n",
    "    if mylist[i] in o:\n",
    "        continue\n",
    "    else:\n",
    "        o.append(mylist[i])\n",
    "print(o)"
   ]
  },
  {
   "cell_type": "code",
   "execution_count": 92,
   "id": "5f4553aa",
   "metadata": {},
   "outputs": [
    {
     "name": "stdout",
     "output_type": "stream",
     "text": [
      "[1, 2, 3, 5, 6, 8, 9]\n"
     ]
    }
   ],
   "source": [
    "lt=[9,5,3,6,1,8,2]\n",
    "a=[]\n",
    "o=[]\n",
    "temp=0\n",
    "for i in range(0,len(lt)):\n",
    "    for j in range(i+1,len(lt)):\n",
    "        if lt[i]>lt[j]:\n",
    "            lt[i],lt[j]=lt[j],lt[i]\n",
    "            #a.append(temp)\n",
    "            \n",
    "print(lt)"
   ]
  },
  {
   "cell_type": "code",
   "execution_count": 90,
   "id": "7bb971fd",
   "metadata": {},
   "outputs": [
    {
     "name": "stdout",
     "output_type": "stream",
     "text": [
      "20\n"
     ]
    }
   ],
   "source": [
    "a=10\n",
    "b=20\n",
    "a,b=b,a\n",
    "print(a)"
   ]
  },
  {
   "cell_type": "code",
   "execution_count": null,
   "id": "dd606377",
   "metadata": {},
   "outputs": [],
   "source": []
  }
 ],
 "metadata": {
  "kernelspec": {
   "display_name": "Python 3 (ipykernel)",
   "language": "python",
   "name": "python3"
  },
  "language_info": {
   "codemirror_mode": {
    "name": "ipython",
    "version": 3
   },
   "file_extension": ".py",
   "mimetype": "text/x-python",
   "name": "python",
   "nbconvert_exporter": "python",
   "pygments_lexer": "ipython3",
   "version": "3.11.4"
  }
 },
 "nbformat": 4,
 "nbformat_minor": 5
}
