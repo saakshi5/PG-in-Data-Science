{
 "cells": [
  {
   "cell_type": "code",
   "execution_count": 16,
   "id": "f31672f2",
   "metadata": {},
   "outputs": [
    {
     "ename": "IndexError",
     "evalue": "list index out of range",
     "output_type": "error",
     "traceback": [
      "\u001b[1;31m---------------------------------------------------------------------------\u001b[0m",
      "\u001b[1;31mIndexError\u001b[0m                                Traceback (most recent call last)",
      "Cell \u001b[1;32mIn[16], line 8\u001b[0m\n\u001b[0;32m      6\u001b[0m     summ\u001b[38;5;241m.\u001b[39mappend(m1[i]\u001b[38;5;241m+\u001b[39mm2[i])\n\u001b[0;32m      7\u001b[0m \u001b[38;5;28;01melif\u001b[39;00m \u001b[38;5;28mlen\u001b[39m(m1)\u001b[38;5;241m>\u001b[39m\u001b[38;5;28mlen\u001b[39m(m2):\n\u001b[1;32m----> 8\u001b[0m     summ\u001b[38;5;241m.\u001b[39mappend(m1[i]\u001b[38;5;241m+\u001b[39m\u001b[43mm2\u001b[49m\u001b[43m[\u001b[49m\u001b[43mi\u001b[49m\u001b[43m]\u001b[49m)\n\u001b[0;32m      9\u001b[0m \u001b[38;5;28;01melif\u001b[39;00m \u001b[38;5;28mlen\u001b[39m(m1)\u001b[38;5;241m<\u001b[39m\u001b[38;5;28mlen\u001b[39m(m2):\n\u001b[0;32m     10\u001b[0m     \u001b[38;5;28mprint\u001b[39m(m1[i]\u001b[38;5;241m+\u001b[39mm2[i])\n",
      "\u001b[1;31mIndexError\u001b[0m: list index out of range"
     ]
    }
   ],
   "source": [
    "m1=[10,20,30]\n",
    "m2=[100,200,300]\n",
    "summ=[]\n",
    "for i in range(len(m1)):\n",
    "    if len(m1)==len(m2):\n",
    "        summ.append(m1[i]+m2[i])\n",
    "        \n",
    "    else:\n",
    "        print(\"Lists length mismatched\")\n",
    "        break\n",
    "print(summ)"
   ]
  },
  {
   "cell_type": "code",
   "execution_count": null,
   "id": "248ab30d",
   "metadata": {},
   "outputs": [],
   "source": []
  },
  {
   "cell_type": "code",
   "execution_count": 29,
   "id": "6f10079c",
   "metadata": {},
   "outputs": [
    {
     "name": "stdout",
     "output_type": "stream",
     "text": [
      "[110, 200, 300]\n"
     ]
    }
   ],
   "source": [
    "import math\n",
    "m1=[10]\n",
    "m2=[100,200,300]\n",
    "summ=[]\n",
    "diff=len(m1)-len(m2)\n",
    "d=int(math.fabs(diff))\n",
    "#print(d)\n",
    "\n",
    "for i in range(0,d):\n",
    "    if diff>0:\n",
    "        m2.append(0)\n",
    "    else:\n",
    "        m1.append(0)\n",
    "\n",
    "for i in range(len(m1)):\n",
    "    if len(m1)==len(m2):\n",
    "        summ.append(m1[i]+m2[i])\n",
    "print(summ)"
   ]
  },
  {
   "cell_type": "code",
   "execution_count": 65,
   "id": "6d390dbe",
   "metadata": {},
   "outputs": [
    {
     "name": "stdout",
     "output_type": "stream",
     "text": [
      "[]\n"
     ]
    }
   ],
   "source": [
    "l=[10,11,11,11,12,13,13,14,15,16,16,16,10]\n",
    "k=[]\n",
    "\n",
    "for i in range(0,len(l)):\n",
    "    #print(l[i])\n",
    "    for j in range(i,i+1):\n",
    "        #print(l[j])\n",
    "        #print(l[i])\n",
    "        if l[i]!=l[j]:\n",
    "            print(\"$$$\")\n",
    "            k.append(l[i])            \n",
    "        else:\n",
    "            continue\n",
    "\n",
    "print(k)  "
   ]
  },
  {
   "cell_type": "code",
   "execution_count": 81,
   "id": "0284dc95",
   "metadata": {},
   "outputs": [
    {
     "name": "stdout",
     "output_type": "stream",
     "text": [
      "[10, 11, 11, 11, 12, 13, 13, 10, 14, 15, 16, 16, 16, 10]\n"
     ]
    }
   ],
   "source": [
    "l=[10,11,11,11,12,13,13,10,14,15,16,16,16,10]\n",
    "newlist=[]\n",
    "\n",
    "for i in range(0,len(l)):\n",
    "    if i==len(l)-1:\n",
    "        newlist.append(l[i])\n",
    "        break\n",
    "    else:\n",
    "        for j in range(i+1,i+2):\n",
    "            if l[i]==l[j]:\n",
    "                newlist.append(l[i])\n",
    "                \n",
    "            else:\n",
    "                newlist.append(l[i])\n",
    "\n",
    "            \n",
    "print(newlist)\n",
    "            "
   ]
  },
  {
   "cell_type": "code",
   "execution_count": 105,
   "id": "7df19987",
   "metadata": {},
   "outputs": [
    {
     "name": "stdout",
     "output_type": "stream",
     "text": [
      "[10, 11, 12, 13, 23, 10, 14, 23, 15, 16, 10]\n"
     ]
    }
   ],
   "source": [
    "l=[10,11,11,11,11,12,13,13,23,10,14,23,15,16,16,16,10,10]\n",
    "newlist=[]\n",
    "for i in range(0,len(l)):\n",
    "    if i==len(l)-1 and newlist[-1]!=l[i]:\n",
    "            newlist.append(l[i])\n",
    "    for j in range(i+1,len(l)):\n",
    "        if l[i]==l[j] and newlist[-1]!=l[j]:\n",
    "            newlist.append(l[i])\n",
    "            \n",
    "        if i==0:\n",
    "            newlist.append(l[i])\n",
    "            \n",
    "        elif l[i]!=l[j] and newlist[-1]!=l[i]:\n",
    "            newlist.append(l[i])\n",
    "        break\n",
    "print(newlist)\n",
    "            \n",
    "            \n",
    "        "
   ]
  },
  {
   "cell_type": "code",
   "execution_count": null,
   "id": "c3f8072c",
   "metadata": {},
   "outputs": [],
   "source": []
  }
 ],
 "metadata": {
  "kernelspec": {
   "display_name": "Python 3 (ipykernel)",
   "language": "python",
   "name": "python3"
  },
  "language_info": {
   "codemirror_mode": {
    "name": "ipython",
    "version": 3
   },
   "file_extension": ".py",
   "mimetype": "text/x-python",
   "name": "python",
   "nbconvert_exporter": "python",
   "pygments_lexer": "ipython3",
   "version": "3.10.7"
  }
 },
 "nbformat": 4,
 "nbformat_minor": 5
}
