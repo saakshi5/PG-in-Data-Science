{
 "cells": [
  {
   "cell_type": "code",
   "execution_count": 1,
   "id": "f70bcaa0-5b61-4010-8d72-7b69f6f5d3db",
   "metadata": {},
   "outputs": [
    {
     "data": {
      "text/plain": [
       "True"
      ]
     },
     "execution_count": 1,
     "metadata": {},
     "output_type": "execute_result"
    }
   ],
   "source": [
    "#lambda(args:expression)\n",
    "#it doen't loop map() does\n",
    "res=lambda x:x%2==0\n",
    "res(6)"
   ]
  },
  {
   "cell_type": "code",
   "execution_count": 2,
   "id": "82836c65-0749-4aac-b96a-2e528703777c",
   "metadata": {},
   "outputs": [
    {
     "data": {
      "text/plain": [
       "36"
      ]
     },
     "execution_count": 2,
     "metadata": {},
     "output_type": "execute_result"
    }
   ],
   "source": [
    "res=lambda x:x**2\n",
    "res(6)"
   ]
  },
  {
   "cell_type": "code",
   "execution_count": 3,
   "id": "de3a04fe-6d51-49f6-b85b-133f960da42f",
   "metadata": {},
   "outputs": [
    {
     "data": {
      "text/plain": [
       "10"
      ]
     },
     "execution_count": 3,
     "metadata": {},
     "output_type": "execute_result"
    }
   ],
   "source": [
    "res=lambda x,y:x+y\n",
    "res(6,4)"
   ]
  },
  {
   "cell_type": "code",
   "execution_count": null,
   "id": "ebf634d7-723d-40fa-b1ab-2a7ec284a6cf",
   "metadata": {},
   "outputs": [],
   "source": [
    "#map(function,iterable)\n",
    "#returns ans in object we convert it into list or tuple"
   ]
  },
  {
   "cell_type": "code",
   "execution_count": 5,
   "id": "349f1c77-d415-4a7e-bb15-fbcb3f36a534",
   "metadata": {},
   "outputs": [
    {
     "data": {
      "text/plain": [
       "(False, True, False, True, False, True)"
      ]
     },
     "execution_count": 5,
     "metadata": {},
     "output_type": "execute_result"
    }
   ],
   "source": [
    "l=[1,2,3,4,5,6]\n",
    "r=map(lambda x:x%2==0,l)\n",
    "tuple(r)"
   ]
  },
  {
   "cell_type": "code",
   "execution_count": 14,
   "id": "e74acc00-f81c-47b6-bf9a-330d52682729",
   "metadata": {},
   "outputs": [
    {
     "data": {
      "text/plain": [
       "[1, 4, 9, 16, 25, 36]"
      ]
     },
     "execution_count": 14,
     "metadata": {},
     "output_type": "execute_result"
    }
   ],
   "source": [
    "l=[1,2,3,4,5,6]\n",
    "r=list(map(lambda x:x**2,l))\n",
    "#list(r)\n",
    "r"
   ]
  },
  {
   "cell_type": "code",
   "execution_count": 23,
   "id": "94702bae-515f-4d11-8d5a-c26c7d733fc1",
   "metadata": {},
   "outputs": [
    {
     "data": {
      "text/plain": [
       "[2, 7, 2]"
      ]
     },
     "execution_count": 23,
     "metadata": {},
     "output_type": "execute_result"
    }
   ],
   "source": [
    "p=\"he@llo wor@ld\"\n",
    "w=list(map(len,p.split(\"@\")))\n",
    "w"
   ]
  },
  {
   "cell_type": "code",
   "execution_count": 19,
   "id": "cf68afe4-2f41-4a8a-8a51-45a681382e57",
   "metadata": {},
   "outputs": [
    {
     "data": {
      "text/plain": [
       "[5, 7, 9]"
      ]
     },
     "execution_count": 19,
     "metadata": {},
     "output_type": "execute_result"
    }
   ],
   "source": [
    "n1=[1,2,3]\n",
    "n2=[4,5,6]\n",
    "s=list(map(lambda x,y:x+y,n1,n2))\n",
    "s"
   ]
  },
  {
   "cell_type": "code",
   "execution_count": 21,
   "id": "a48d4d98-0ab9-40f9-9167-ed98022bf45d",
   "metadata": {},
   "outputs": [
    {
     "data": {
      "text/plain": [
       "[2, 4, 6]"
      ]
     },
     "execution_count": 21,
     "metadata": {},
     "output_type": "execute_result"
    }
   ],
   "source": [
    "#filter(function,iterable)\n",
    "#it adds element to list if it satisfies the condition\n",
    "\n",
    "\n",
    "l=[1,2,3,4,5,6]\n",
    "r=list(filter(lambda x:x%2==0,l))\n",
    "#list(r)\n",
    "r"
   ]
  },
  {
   "cell_type": "code",
   "execution_count": 22,
   "id": "f69d210f-c034-4208-a04c-fa28bf7f63f5",
   "metadata": {},
   "outputs": [
    {
     "data": {
      "text/plain": [
       "(1, 3, 5)"
      ]
     },
     "execution_count": 22,
     "metadata": {},
     "output_type": "execute_result"
    }
   ],
   "source": [
    "#odd nos\n",
    "\n",
    "l=[1,2,3,4,5,6]\n",
    "r=tuple(filter(lambda x:x%2!=0,l))\n",
    "r"
   ]
  },
  {
   "cell_type": "code",
   "execution_count": 26,
   "id": "cd23aecc-2eaf-485c-bb1f-ce83671a07b0",
   "metadata": {},
   "outputs": [
    {
     "data": {
      "text/plain": [
       "['banana', 'cherry']"
      ]
     },
     "execution_count": 26,
     "metadata": {},
     "output_type": "execute_result"
    }
   ],
   "source": [
    "f=[\"apple\",\"mango\",\"banana\",\"cherry\"]\n",
    "c=list(filter(lambda x:len(x)>5,f))\n",
    "c"
   ]
  },
  {
   "cell_type": "code",
   "execution_count": 29,
   "id": "2071a621-de56-47bd-9230-93076dad4daf",
   "metadata": {},
   "outputs": [
    {
     "name": "stdout",
     "output_type": "stream",
     "text": [
      "2 * 1 = 2\n",
      "2 * 2 = 4\n",
      "2 * 3 = 6\n",
      "2 * 4 = 8\n",
      "2 * 5 = 10\n",
      "2 * 6 = 12\n",
      "2 * 7 = 14\n",
      "2 * 8 = 16\n",
      "2 * 9 = 18\n",
      "2 * 10 = 20\n"
     ]
    }
   ],
   "source": [
    "#table of 2\n",
    "def fun(x):\n",
    "    if x==11:\n",
    "        pass\n",
    "    else:\n",
    "        print(\"2 *\",x,\"=\",2*x)\n",
    "        fun(x+1)\n",
    "fun(1)"
   ]
  },
  {
   "cell_type": "code",
   "execution_count": null,
   "id": "ad601346-94a2-4453-95c5-e60303c98e2d",
   "metadata": {},
   "outputs": [],
   "source": [
    "f=1\n",
    "def factt(n):\n",
    "    #global f\n",
    "    #f=f*n\n",
    "    print(n)\n",
    "    factt(n-1)\n",
    "   # return f\n",
    "\n",
    "r=factt(5)\n",
    "r"
   ]
  },
  {
   "cell_type": "code",
   "execution_count": 1,
   "id": "6af9bdd9-8cf1-4d96-990d-8e214450647c",
   "metadata": {},
   "outputs": [
    {
     "name": "stdout",
     "output_type": "stream",
     "text": [
      "120\n"
     ]
    }
   ],
   "source": [
    "def fact(v):\n",
    "    if v==1:\n",
    "        return 1\n",
    "    else:\n",
    "        return v*fact(v-1)\n",
    "res=fact(5)\n",
    "print(res)"
   ]
  },
  {
   "cell_type": "code",
   "execution_count": null,
   "id": "072490ad-09c6-4abb-ba28-30b538de9789",
   "metadata": {},
   "outputs": [],
   "source": []
  },
  {
   "cell_type": "code",
   "execution_count": null,
   "id": "5ef84633-f97e-45de-91fa-feb17d5fdfc7",
   "metadata": {},
   "outputs": [],
   "source": []
  },
  {
   "cell_type": "code",
   "execution_count": null,
   "id": "301f3656-f52b-4883-a789-305ede9ff78f",
   "metadata": {},
   "outputs": [],
   "source": []
  }
 ],
 "metadata": {
  "kernelspec": {
   "display_name": "Python 3 (ipykernel)",
   "language": "python",
   "name": "python3"
  },
  "language_info": {
   "codemirror_mode": {
    "name": "ipython",
    "version": 3
   },
   "file_extension": ".py",
   "mimetype": "text/x-python",
   "name": "python",
   "nbconvert_exporter": "python",
   "pygments_lexer": "ipython3",
   "version": "3.10.7"
  }
 },
 "nbformat": 4,
 "nbformat_minor": 5
}
