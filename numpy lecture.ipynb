{
 "cells": [
  {
   "cell_type": "code",
   "execution_count": 1,
   "id": "7ff30342",
   "metadata": {},
   "outputs": [],
   "source": [
    "import numpy as np"
   ]
  },
  {
   "cell_type": "code",
   "execution_count": 2,
   "id": "56bf3b10",
   "metadata": {},
   "outputs": [
    {
     "data": {
      "text/plain": [
       "array([100, 200, 300])"
      ]
     },
     "execution_count": 2,
     "metadata": {},
     "output_type": "execute_result"
    }
   ],
   "source": [
    "ar=np.array([100,200,300])\n",
    "ar"
   ]
  },
  {
   "cell_type": "code",
   "execution_count": 3,
   "id": "894a112c",
   "metadata": {},
   "outputs": [
    {
     "data": {
      "text/plain": [
       "numpy.ndarray"
      ]
     },
     "execution_count": 3,
     "metadata": {},
     "output_type": "execute_result"
    }
   ],
   "source": [
    "type(ar)"
   ]
  },
  {
   "cell_type": "code",
   "execution_count": 4,
   "id": "19cf339b",
   "metadata": {},
   "outputs": [
    {
     "data": {
      "text/plain": [
       "array([3.2, 4.5, 5.6])"
      ]
     },
     "execution_count": 4,
     "metadata": {},
     "output_type": "execute_result"
    }
   ],
   "source": [
    "ar2=np.array([3.2,4.5,5.6])\n",
    "ar2"
   ]
  },
  {
   "cell_type": "code",
   "execution_count": 5,
   "id": "f94bae57",
   "metadata": {},
   "outputs": [
    {
     "data": {
      "text/plain": [
       "array([3.2, 4.5, 8. , 9. ])"
      ]
     },
     "execution_count": 5,
     "metadata": {},
     "output_type": "execute_result"
    }
   ],
   "source": [
    "ar3=np.array([3.2,4.5,8,9])\n",
    "ar3"
   ]
  },
  {
   "cell_type": "code",
   "execution_count": 6,
   "id": "d0f977b9",
   "metadata": {},
   "outputs": [
    {
     "data": {
      "text/plain": [
       "array(['3.2', '4.5', 'cs'], dtype='<U32')"
      ]
     },
     "execution_count": 6,
     "metadata": {},
     "output_type": "execute_result"
    }
   ],
   "source": [
    "ar4=np.array([3.2,4.5,\"cs\"])\n",
    "ar4"
   ]
  },
  {
   "cell_type": "code",
   "execution_count": 7,
   "id": "dc7fe459",
   "metadata": {},
   "outputs": [
    {
     "data": {
      "text/plain": [
       "array([3, 4, 8, 9])"
      ]
     },
     "execution_count": 7,
     "metadata": {},
     "output_type": "execute_result"
    }
   ],
   "source": [
    "ar5=np.array([3.2,4.5,8,9],dtype=int)\n",
    "ar5"
   ]
  },
  {
   "cell_type": "code",
   "execution_count": null,
   "id": "8df6c34a",
   "metadata": {},
   "outputs": [],
   "source": [
    "ar=np.array([100,200,300,400,500])\n",
    "#perfomr indexing and slicing (same as list)"
   ]
  },
  {
   "cell_type": "code",
   "execution_count": 8,
   "id": "81a49e24",
   "metadata": {},
   "outputs": [
    {
     "data": {
      "text/plain": [
       "array([[10, 20, 30],\n",
       "       [40, 50, 60],\n",
       "       [70, 80, 90]])"
      ]
     },
     "execution_count": 8,
     "metadata": {},
     "output_type": "execute_result"
    }
   ],
   "source": [
    "np.array([[10,20,30],[40,50,60],[70,80,90]])"
   ]
  },
  {
   "cell_type": "code",
   "execution_count": 9,
   "id": "a6730b47",
   "metadata": {},
   "outputs": [],
   "source": [
    "# different ways of creating array."
   ]
  },
  {
   "cell_type": "code",
   "execution_count": 10,
   "id": "69aad8f2",
   "metadata": {},
   "outputs": [
    {
     "data": {
      "text/plain": [
       "array([ 1,  2,  3,  4,  5,  6,  7,  8,  9, 10])"
      ]
     },
     "execution_count": 10,
     "metadata": {},
     "output_type": "execute_result"
    }
   ],
   "source": [
    "np.arange(1,11)"
   ]
  },
  {
   "cell_type": "code",
   "execution_count": 13,
   "id": "db3f6b10",
   "metadata": {},
   "outputs": [
    {
     "data": {
      "text/plain": [
       "array([ 0.82322947, -0.68104401, -2.05659479, -0.15230985,  0.60508013,\n",
       "       -0.04216279])"
      ]
     },
     "execution_count": 13,
     "metadata": {},
     "output_type": "execute_result"
    }
   ],
   "source": [
    "np.random.randn(6)  # choose n random numbers from 0-1 and create an array."
   ]
  },
  {
   "cell_type": "code",
   "execution_count": 15,
   "id": "06598a07",
   "metadata": {},
   "outputs": [
    {
     "data": {
      "text/plain": [
       "array([[ 0.22453166, -1.07050851,  1.76119661],\n",
       "       [-0.38227436,  0.54585444, -0.35399241],\n",
       "       [-0.1987203 ,  1.60286923,  0.45705805]])"
      ]
     },
     "execution_count": 15,
     "metadata": {},
     "output_type": "execute_result"
    }
   ],
   "source": [
    "np.random.randn(3,3)"
   ]
  },
  {
   "cell_type": "code",
   "execution_count": 16,
   "id": "e4dc64da",
   "metadata": {},
   "outputs": [
    {
     "data": {
      "text/plain": [
       "array([ 1,  2,  3,  6,  8,  9, 10])"
      ]
     },
     "execution_count": 16,
     "metadata": {},
     "output_type": "execute_result"
    }
   ],
   "source": [
    "ar6=np.array([1,2,3,6,8,9,10])\n",
    "ar6"
   ]
  },
  {
   "cell_type": "code",
   "execution_count": 20,
   "id": "81076246",
   "metadata": {},
   "outputs": [
    {
     "data": {
      "text/plain": [
       "5.571428571428571"
      ]
     },
     "execution_count": 20,
     "metadata": {},
     "output_type": "execute_result"
    }
   ],
   "source": [
    "np.mean(ar6)"
   ]
  },
  {
   "cell_type": "code",
   "execution_count": 19,
   "id": "bfff4fcf",
   "metadata": {},
   "outputs": [
    {
     "data": {
      "text/plain": [
       "6.0"
      ]
     },
     "execution_count": 19,
     "metadata": {},
     "output_type": "execute_result"
    }
   ],
   "source": [
    "np.median(ar6)"
   ]
  },
  {
   "cell_type": "code",
   "execution_count": 21,
   "id": "02cd478c",
   "metadata": {},
   "outputs": [
    {
     "data": {
      "text/plain": [
       "39"
      ]
     },
     "execution_count": 21,
     "metadata": {},
     "output_type": "execute_result"
    }
   ],
   "source": [
    "np.sum(ar6)"
   ]
  },
  {
   "cell_type": "code",
   "execution_count": 22,
   "id": "cb5ea49e",
   "metadata": {},
   "outputs": [
    {
     "data": {
      "text/plain": [
       "array([1.        , 1.41421356, 1.73205081, 2.44948974, 2.82842712,\n",
       "       3.        , 3.16227766])"
      ]
     },
     "execution_count": 22,
     "metadata": {},
     "output_type": "execute_result"
    }
   ],
   "source": [
    "np.sqrt(ar6)"
   ]
  },
  {
   "cell_type": "code",
   "execution_count": null,
   "id": "72b208ae",
   "metadata": {},
   "outputs": [],
   "source": []
  }
 ],
 "metadata": {
  "kernelspec": {
   "display_name": "Python 3 (ipykernel)",
   "language": "python",
   "name": "python3"
  },
  "language_info": {
   "codemirror_mode": {
    "name": "ipython",
    "version": 3
   },
   "file_extension": ".py",
   "mimetype": "text/x-python",
   "name": "python",
   "nbconvert_exporter": "python",
   "pygments_lexer": "ipython3",
   "version": "3.10.7"
  }
 },
 "nbformat": 4,
 "nbformat_minor": 5
}
