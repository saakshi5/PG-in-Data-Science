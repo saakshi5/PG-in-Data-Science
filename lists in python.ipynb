{
 "cells": [
  {
   "cell_type": "code",
   "execution_count": 1,
   "id": "d5093ea0",
   "metadata": {},
   "outputs": [
    {
     "name": "stdout",
     "output_type": "stream",
     "text": [
      "[1000, 2000, 300, 400, 500, 600]\n"
     ]
    }
   ],
   "source": [
    "ml=[100,200,300,400,500,600]\n",
    "\n",
    "ml[0:2]=[1000,2000]\n",
    "\n",
    "print(ml)"
   ]
  },
  {
   "cell_type": "code",
   "execution_count": 2,
   "id": "097418fc",
   "metadata": {},
   "outputs": [
    {
     "name": "stdout",
     "output_type": "stream",
     "text": [
      "[1, 2, 5, 3, 4]\n"
     ]
    }
   ],
   "source": [
    "a=[1,2,3,4]\n",
    "a.insert(2,5)\n",
    "print(a)"
   ]
  },
  {
   "cell_type": "code",
   "execution_count": 3,
   "id": "cac702e8",
   "metadata": {},
   "outputs": [
    {
     "name": "stdout",
     "output_type": "stream",
     "text": [
      "[1, 2, 5, 3, 4, 6]\n"
     ]
    }
   ],
   "source": [
    "a.append(6)\n",
    "print(a)"
   ]
  },
  {
   "cell_type": "code",
   "execution_count": 4,
   "id": "62dfd5d1",
   "metadata": {},
   "outputs": [
    {
     "name": "stdout",
     "output_type": "stream",
     "text": [
      "[1, 2, 500, 3, 4, 6]\n"
     ]
    }
   ],
   "source": [
    "#modify\n",
    "a[2]=500\n",
    "print(a)"
   ]
  },
  {
   "cell_type": "code",
   "execution_count": 5,
   "id": "2221a9cf",
   "metadata": {},
   "outputs": [
    {
     "name": "stdout",
     "output_type": "stream",
     "text": [
      "[1, 2, 3, 4, 6]\n"
     ]
    }
   ],
   "source": [
    "#remove\n",
    "\n",
    "\n",
    "a.remove(500)\n",
    "print(a)"
   ]
  },
  {
   "cell_type": "code",
   "execution_count": 6,
   "id": "d3e25833",
   "metadata": {},
   "outputs": [
    {
     "name": "stdout",
     "output_type": "stream",
     "text": [
      "[1, 2, 3, 4]\n"
     ]
    }
   ],
   "source": [
    "a.pop()\n",
    "print(a)"
   ]
  },
  {
   "cell_type": "code",
   "execution_count": 7,
   "id": "d4fbf59c",
   "metadata": {},
   "outputs": [
    {
     "name": "stdout",
     "output_type": "stream",
     "text": [
      "[1, 2, 3]\n"
     ]
    }
   ],
   "source": [
    "a.pop(3)\n",
    "print(a)"
   ]
  },
  {
   "cell_type": "code",
   "execution_count": 8,
   "id": "6b29f9c1",
   "metadata": {},
   "outputs": [
    {
     "name": "stdout",
     "output_type": "stream",
     "text": [
      "['a', 'b', 'c']\n"
     ]
    }
   ],
   "source": [
    "b=[\"a\",\"b\",\"c\",\"d\"]\n",
    "b.pop() #remove last element\n",
    "print(b)"
   ]
  },
  {
   "cell_type": "code",
   "execution_count": 9,
   "id": "30017453",
   "metadata": {},
   "outputs": [
    {
     "name": "stdout",
     "output_type": "stream",
     "text": [
      "['a', 4.4, 1]\n"
     ]
    }
   ],
   "source": [
    "c=[\"a\",4.4,1]\n",
    "print(c)"
   ]
  },
  {
   "cell_type": "code",
   "execution_count": null,
   "id": "726b17b6",
   "metadata": {},
   "outputs": [],
   "source": [
    "c.clear() #keep empty\n",
    "print(c)"
   ]
  },
  {
   "cell_type": "code",
   "execution_count": 11,
   "id": "17260c0b",
   "metadata": {},
   "outputs": [
    {
     "data": {
      "text/plain": [
       "[101, 102, 103]"
      ]
     },
     "execution_count": 11,
     "metadata": {},
     "output_type": "execute_result"
    }
   ],
   "source": [
    "d=[101,102,103,104,105]\n",
    "d[0:3]"
   ]
  },
  {
   "cell_type": "code",
   "execution_count": 12,
   "id": "dc7bf6e3",
   "metadata": {},
   "outputs": [
    {
     "data": {
      "text/plain": [
       "[101, 102, 103, 104, 105]"
      ]
     },
     "execution_count": 12,
     "metadata": {},
     "output_type": "execute_result"
    }
   ],
   "source": [
    "d[::]"
   ]
  },
  {
   "cell_type": "code",
   "execution_count": 13,
   "id": "c095deff",
   "metadata": {},
   "outputs": [
    {
     "data": {
      "text/plain": [
       "[101, 102, 103, 104, 105]"
      ]
     },
     "execution_count": 13,
     "metadata": {},
     "output_type": "execute_result"
    }
   ],
   "source": [
    "d[0:]"
   ]
  },
  {
   "cell_type": "code",
   "execution_count": 14,
   "id": "48d1052a",
   "metadata": {},
   "outputs": [
    {
     "data": {
      "text/plain": [
       "[101, 102]"
      ]
     },
     "execution_count": 14,
     "metadata": {},
     "output_type": "execute_result"
    }
   ],
   "source": [
    "d[:2]"
   ]
  },
  {
   "cell_type": "code",
   "execution_count": 15,
   "id": "c3bf2078",
   "metadata": {},
   "outputs": [
    {
     "data": {
      "text/plain": [
       "[101, 103, 105]"
      ]
     },
     "execution_count": 15,
     "metadata": {},
     "output_type": "execute_result"
    }
   ],
   "source": [
    "#step\n",
    "d[0::2]"
   ]
  },
  {
   "cell_type": "code",
   "execution_count": 16,
   "id": "c909c0ab",
   "metadata": {},
   "outputs": [
    {
     "data": {
      "text/plain": [
       "[105]"
      ]
     },
     "execution_count": 16,
     "metadata": {},
     "output_type": "execute_result"
    }
   ],
   "source": [
    "d[-1:]"
   ]
  },
  {
   "cell_type": "code",
   "execution_count": 17,
   "id": "9bcadda6",
   "metadata": {},
   "outputs": [
    {
     "data": {
      "text/plain": [
       "[]"
      ]
     },
     "execution_count": 17,
     "metadata": {},
     "output_type": "execute_result"
    }
   ],
   "source": [
    "#last 3 elements\n",
    "d[-1:-4] #step=1 so -1+1=0 prints nothing"
   ]
  },
  {
   "cell_type": "code",
   "execution_count": 18,
   "id": "d619dde9",
   "metadata": {},
   "outputs": [
    {
     "data": {
      "text/plain": [
       "[105, 104, 103, 102, 101]"
      ]
     },
     "execution_count": 18,
     "metadata": {},
     "output_type": "execute_result"
    }
   ],
   "source": [
    "#reverse all elements\n",
    "d[::-1]"
   ]
  },
  {
   "cell_type": "code",
   "execution_count": 19,
   "id": "b8c07890",
   "metadata": {},
   "outputs": [
    {
     "data": {
      "text/plain": [
       "[105, 104, 103]"
      ]
     },
     "execution_count": 19,
     "metadata": {},
     "output_type": "execute_result"
    }
   ],
   "source": [
    "#start index is 0\n",
    "d[:-4:-1]"
   ]
  },
  {
   "cell_type": "code",
   "execution_count": 20,
   "id": "af379e03",
   "metadata": {},
   "outputs": [
    {
     "name": "stdout",
     "output_type": "stream",
     "text": [
      "[101, 102, 103, 104, 105]\n"
     ]
    }
   ],
   "source": [
    "print(d)"
   ]
  },
  {
   "cell_type": "code",
   "execution_count": 21,
   "id": "c9499e13",
   "metadata": {},
   "outputs": [],
   "source": [
    "d=[101,102,103,104,105,102,102]"
   ]
  },
  {
   "cell_type": "code",
   "execution_count": 24,
   "id": "3a2e79fb",
   "metadata": {},
   "outputs": [
    {
     "data": {
      "text/plain": [
       "3"
      ]
     },
     "execution_count": 24,
     "metadata": {},
     "output_type": "execute_result"
    }
   ],
   "source": [
    "d.count(102)"
   ]
  },
  {
   "cell_type": "code",
   "execution_count": 25,
   "id": "9d1063ad",
   "metadata": {},
   "outputs": [
    {
     "data": {
      "text/plain": [
       "719"
      ]
     },
     "execution_count": 25,
     "metadata": {},
     "output_type": "execute_result"
    }
   ],
   "source": [
    "sum(d) "
   ]
  },
  {
   "cell_type": "code",
   "execution_count": 26,
   "id": "e851551e",
   "metadata": {},
   "outputs": [
    {
     "data": {
      "text/plain": [
       "7"
      ]
     },
     "execution_count": 26,
     "metadata": {},
     "output_type": "execute_result"
    }
   ],
   "source": [
    "len(d)"
   ]
  },
  {
   "cell_type": "code",
   "execution_count": 27,
   "id": "1b1eeb44",
   "metadata": {},
   "outputs": [
    {
     "data": {
      "text/plain": [
       "105"
      ]
     },
     "execution_count": 27,
     "metadata": {},
     "output_type": "execute_result"
    }
   ],
   "source": [
    "max(d)"
   ]
  },
  {
   "cell_type": "code",
   "execution_count": 28,
   "id": "10eefaf8",
   "metadata": {},
   "outputs": [
    {
     "data": {
      "text/plain": [
       "101"
      ]
     },
     "execution_count": 28,
     "metadata": {},
     "output_type": "execute_result"
    }
   ],
   "source": [
    "min(d)"
   ]
  },
  {
   "cell_type": "code",
   "execution_count": 30,
   "id": "cdf04906",
   "metadata": {},
   "outputs": [
    {
     "name": "stdout",
     "output_type": "stream",
     "text": [
      "[2, 12, 54, 100]\n"
     ]
    }
   ],
   "source": [
    "ml=[12,54,2,100]\n",
    "ml.sort()\n",
    "print(ml)"
   ]
  },
  {
   "cell_type": "code",
   "execution_count": 31,
   "id": "9cceba3a",
   "metadata": {},
   "outputs": [
    {
     "name": "stdout",
     "output_type": "stream",
     "text": [
      "[100, 54, 12, 2]\n"
     ]
    }
   ],
   "source": [
    "ml=[12,54,2,100]\n",
    "ml.sort(reverse=True)\n",
    "print(ml)"
   ]
  },
  {
   "cell_type": "code",
   "execution_count": 34,
   "id": "ffa9ce32",
   "metadata": {},
   "outputs": [
    {
     "name": "stdout",
     "output_type": "stream",
     "text": [
      "[87, 45, 200, 100]\n"
     ]
    }
   ],
   "source": [
    "pl=[100,200,45,87]\n",
    "# pl[::-1]\n",
    "pl.reverse()\n",
    "print(pl)"
   ]
  },
  {
   "cell_type": "code",
   "execution_count": 36,
   "id": "40d6f3ce",
   "metadata": {},
   "outputs": [
    {
     "name": "stdout",
     "output_type": "stream",
     "text": [
      "[100, 200, 300, 400, [500, 600, 700]]\n"
     ]
    }
   ],
   "source": [
    "dl=[100,200,300,400]\n",
    "dl.append([500,600,700])\n",
    "print(dl)"
   ]
  },
  {
   "cell_type": "code",
   "execution_count": 39,
   "id": "17f7b55c",
   "metadata": {},
   "outputs": [
    {
     "name": "stdout",
     "output_type": "stream",
     "text": [
      "[100, 200, 300, 400, 500, 600, 700]\n"
     ]
    }
   ],
   "source": [
    "dl=[100,200,300,400]\n",
    "dl.extend([500,600,700])\n",
    "print(dl)"
   ]
  },
  {
   "cell_type": "code",
   "execution_count": 42,
   "id": "bfcee2ee",
   "metadata": {},
   "outputs": [
    {
     "data": {
      "text/plain": [
       "2"
      ]
     },
     "execution_count": 42,
     "metadata": {},
     "output_type": "execute_result"
    }
   ],
   "source": [
    "dl=[100,200,300,400]\n",
    "dl.index(300)"
   ]
  },
  {
   "cell_type": "code",
   "execution_count": 43,
   "id": "2099b04e",
   "metadata": {},
   "outputs": [],
   "source": [
    "# Traversing on a list   -> accessing each element of a list one by one"
   ]
  },
  {
   "cell_type": "code",
   "execution_count": 44,
   "id": "27ee0012",
   "metadata": {},
   "outputs": [
    {
     "name": "stdout",
     "output_type": "stream",
     "text": [
      "10\n",
      "20\n",
      "30\n",
      "40\n",
      "50\n"
     ]
    }
   ],
   "source": [
    "mylist=[10,20,30,40,50]\n",
    "for i in mylist:\n",
    "    print(i)"
   ]
  },
  {
   "cell_type": "code",
   "execution_count": 45,
   "id": "0efcf769",
   "metadata": {},
   "outputs": [
    {
     "name": "stdout",
     "output_type": "stream",
     "text": [
      "0 = 10\n",
      "1 = 20\n",
      "2 = 30\n",
      "3 = 40\n",
      "4 = 50\n"
     ]
    }
   ],
   "source": [
    "for i in range(0,5):\n",
    "    print(i,\"=\",mylist[i])"
   ]
  },
  {
   "cell_type": "code",
   "execution_count": 46,
   "id": "cc22bc64",
   "metadata": {},
   "outputs": [
    {
     "name": "stdout",
     "output_type": "stream",
     "text": [
      "Number of elements in list 6\n"
     ]
    }
   ],
   "source": [
    "#find total number elemnets without len()\n",
    "\n",
    "count=0\n",
    "mylist=[10,20,30,40,50,60]\n",
    "for i in mylist:\n",
    "    count+=1\n",
    "print(f\"Number of elements in list {count}\")"
   ]
  },
  {
   "cell_type": "code",
   "execution_count": 49,
   "id": "50281832",
   "metadata": {},
   "outputs": [
    {
     "name": "stdout",
     "output_type": "stream",
     "text": [
      "100\n",
      "400\n",
      "900\n",
      "1600\n",
      "2500\n",
      "3600\n"
     ]
    }
   ],
   "source": [
    "#sq\n",
    "mylist=[10,20,30,40,50,60]\n",
    "for i in range(0,len(mylist)):\n",
    "    print(mylist[i]**2)\n",
    "    "
   ]
  },
  {
   "cell_type": "code",
   "execution_count": 51,
   "id": "a1e5a93e",
   "metadata": {},
   "outputs": [
    {
     "name": "stdout",
     "output_type": "stream",
     "text": [
      "150\n"
     ]
    }
   ],
   "source": [
    "#sum\n",
    "mylist=[10,20,30,40,50]\n",
    "print(sum(mylist))"
   ]
  },
  {
   "cell_type": "code",
   "execution_count": 55,
   "id": "6ff28759",
   "metadata": {},
   "outputs": [
    {
     "name": "stdout",
     "output_type": "stream",
     "text": [
      "Addition of first and last element 10\n"
     ]
    }
   ],
   "source": [
    "mylist=[10,20,30,40,50,60]\n",
    "f=0\n",
    "l=0\n",
    "for i in range(0,len(mylist)):\n",
    "    if i==0:\n",
    "        f=mylist[i]\n",
    "    if i==len(mylist):\n",
    "        l=mylist[i]\n",
    "\n",
    "summ=f+l\n",
    "print(\"Addition of first and last element\",summ)"
   ]
  },
  {
   "cell_type": "code",
   "execution_count": 56,
   "id": "c2732358",
   "metadata": {},
   "outputs": [
    {
     "name": "stdout",
     "output_type": "stream",
     "text": [
      "Addition of first and last element 70\n"
     ]
    }
   ],
   "source": [
    "mylist=[10,20,30,40,50,60]\n",
    "f=mylist[0]\n",
    "l=mylist[-1]\n",
    "summ=f+l\n",
    "print(\"Addition of first and last element\",summ)"
   ]
  },
  {
   "cell_type": "code",
   "execution_count": 62,
   "id": "1d7198c5",
   "metadata": {},
   "outputs": [
    {
     "name": "stdout",
     "output_type": "stream",
     "text": [
      "3\n",
      "15\n",
      "9\n",
      "21\n"
     ]
    }
   ],
   "source": [
    "d=[1,12,3,4,15,9,21]\n",
    "for i in d:\n",
    "    if i%3==0 and i%6!=0:\n",
    "        print(i)"
   ]
  },
  {
   "cell_type": "code",
   "execution_count": 66,
   "id": "e2fa0df6",
   "metadata": {},
   "outputs": [
    {
     "name": "stdout",
     "output_type": "stream",
     "text": [
      "Even elements:\n",
      "12\n",
      "4\n",
      "Count of even nos: 2\n",
      "Count of odd nos: 5\n",
      "List of even nos: [12, 4]\n",
      "List of odd nos: [1, 3, 15, 9, 21]\n"
     ]
    }
   ],
   "source": [
    "d=[1,12,3,4,15,9,21]\n",
    "ce=0\n",
    "co=0\n",
    "even=[]\n",
    "odd=[]\n",
    "print(\"Even elements:\")\n",
    "for i in d:\n",
    "    if i%2==0:\n",
    "        ce+=1\n",
    "        print(i)\n",
    "        even.append(i)\n",
    "    else:\n",
    "        co+=1\n",
    "        odd.append(i)\n",
    "print(\"Count of even nos:\",ce)\n",
    "print(\"Count of odd nos:\",co)\n",
    "print(\"List of even nos:\",even)\n",
    "print(\"List of odd nos:\",odd)"
   ]
  },
  {
   "cell_type": "code",
   "execution_count": 69,
   "id": "56c28296",
   "metadata": {},
   "outputs": [
    {
     "name": "stdout",
     "output_type": "stream",
     "text": [
      "Occurence of 100: 3\n"
     ]
    }
   ],
   "source": [
    "cnt=0\n",
    "l1=[100,200,100,700,100,300]\n",
    "for i in l1:\n",
    "    if i==100:\n",
    "        cnt+=1\n",
    "print(\"Occurence of 100:\",cnt)"
   ]
  },
  {
   "cell_type": "code",
   "execution_count": 72,
   "id": "b1d023d0",
   "metadata": {},
   "outputs": [
    {
     "name": "stdout",
     "output_type": "stream",
     "text": [
      "Enter the number of elements to be include in the list:5\n",
      "Enter element of the list:1\n",
      "Enter element of the list:2\n",
      "Enter element of the list:3\n",
      "Enter element of the list:4\n",
      "Enter element of the list:5\n",
      "New list: [1, 2, 3, 4, 5]\n"
     ]
    }
   ],
   "source": [
    "el=int(input(\"Enter the number of elements to be include in the list:\"))\n",
    "mylist=[]\n",
    "i=1\n",
    "while i<=el:\n",
    "    n=int(input(\"Enter element of the list:\"))\n",
    "    mylist.append(n)\n",
    "    i+=1\n",
    "print(\"New list:\",mylist)\n",
    "    \n",
    "    "
   ]
  },
  {
   "cell_type": "code",
   "execution_count": 74,
   "id": "150e1944",
   "metadata": {},
   "outputs": [
    {
     "name": "stdout",
     "output_type": "stream",
     "text": [
      "Enter the number of elements to be include in the list:5\n",
      "Enter element of the list:1\n",
      "Enter element of the list:2\n",
      "Enter element of the list:3\n",
      "Enter element of the list:4\n",
      "Enter element of the list:5\n",
      "New list: [1, 2, 3, 4, 5]\n"
     ]
    }
   ],
   "source": [
    "el=int(input(\"Enter the number of elements to be include in the list:\"))\n",
    "mylist=[]\n",
    "for i in range(0,el):\n",
    "    n=int(input(\"Enter element of the list:\"))\n",
    "    mylist.append(n)\n",
    "print(\"New list:\",mylist)    "
   ]
  },
  {
   "cell_type": "code",
   "execution_count": 75,
   "id": "2928b253",
   "metadata": {},
   "outputs": [],
   "source": [
    "#operators with list"
   ]
  },
  {
   "cell_type": "code",
   "execution_count": 76,
   "id": "0c1abcda",
   "metadata": {},
   "outputs": [
    {
     "name": "stdout",
     "output_type": "stream",
     "text": [
      "[100, 200, 300, 400, 500, 600]\n"
     ]
    }
   ],
   "source": [
    "ml=[100,200,300]\n",
    "dl=[400,500,600]\n",
    "\n",
    "print(ml+dl)"
   ]
  },
  {
   "cell_type": "code",
   "execution_count": 77,
   "id": "3b50cb9e",
   "metadata": {},
   "outputs": [
    {
     "data": {
      "text/plain": [
       "[100, 200, 300]"
      ]
     },
     "execution_count": 77,
     "metadata": {},
     "output_type": "execute_result"
    }
   ],
   "source": [
    "ml"
   ]
  },
  {
   "cell_type": "code",
   "execution_count": 78,
   "id": "0d27bb75",
   "metadata": {},
   "outputs": [
    {
     "data": {
      "text/plain": [
       "[100, 200, 300, 100, 200, 300, 100, 200, 300, 100, 200, 300]"
      ]
     },
     "execution_count": 78,
     "metadata": {},
     "output_type": "execute_result"
    }
   ],
   "source": [
    "ml*4"
   ]
  },
  {
   "cell_type": "code",
   "execution_count": 79,
   "id": "a1b8ec5c",
   "metadata": {},
   "outputs": [
    {
     "data": {
      "text/plain": [
       "[100, 200, 300]"
      ]
     },
     "execution_count": 79,
     "metadata": {},
     "output_type": "execute_result"
    }
   ],
   "source": [
    "ml"
   ]
  },
  {
   "cell_type": "code",
   "execution_count": 80,
   "id": "dd563237",
   "metadata": {},
   "outputs": [
    {
     "data": {
      "text/plain": [
       "True"
      ]
     },
     "execution_count": 80,
     "metadata": {},
     "output_type": "execute_result"
    }
   ],
   "source": [
    "100 in ml"
   ]
  },
  {
   "cell_type": "code",
   "execution_count": 84,
   "id": "e32a5b61",
   "metadata": {},
   "outputs": [
    {
     "name": "stdout",
     "output_type": "stream",
     "text": [
      "[10, 20, 30]\n",
      "False\n",
      "False\n"
     ]
    }
   ],
   "source": [
    "x=[10,20,30]\n",
    "y=[10,20,30]\n",
    "x1=x.copy()\n",
    "print(x1)\n",
    "print(x is y)\n",
    "print(x is x1)"
   ]
  },
  {
   "cell_type": "code",
   "execution_count": 85,
   "id": "69fb1f35",
   "metadata": {},
   "outputs": [],
   "source": [
    "#nested list"
   ]
  },
  {
   "cell_type": "code",
   "execution_count": 86,
   "id": "8238db89",
   "metadata": {},
   "outputs": [
    {
     "name": "stdout",
     "output_type": "stream",
     "text": [
      "[10, 20]\n",
      "[30, 40]\n",
      "[50, 60]\n"
     ]
    }
   ],
   "source": [
    "mylist=[[10,20],[30,40],[50,60]]\n",
    "\n",
    "print(mylist[0][0])\n",
    "# for i in mylist:\n",
    "#     print(i)\n",
    "\n"
   ]
  },
  {
   "cell_type": "code",
   "execution_count": 96,
   "id": "7b74fa66",
   "metadata": {},
   "outputs": [
    {
     "name": "stdout",
     "output_type": "stream",
     "text": [
      "elements whose index is odd\n",
      "200\n",
      "400\n"
     ]
    }
   ],
   "source": [
    "ml=[100,200,300,400,500]\n",
    "print(\"elements whose index is odd\")\n",
    "for i in range(0,len(ml)):\n",
    "    if i%2!=0:\n",
    "        print(ml[i])\n",
    "    "
   ]
  },
  {
   "cell_type": "code",
   "execution_count": 99,
   "id": "099b8801",
   "metadata": {},
   "outputs": [
    {
     "name": "stdout",
     "output_type": "stream",
     "text": [
      "10\n",
      "30\n",
      "90\n"
     ]
    }
   ],
   "source": [
    "nested=[[10,20],[30,40],[90,100]]\n",
    "for i in range(0,len(nested)):\n",
    "        print(nested[i][0])\n",
    "    "
   ]
  },
  {
   "cell_type": "code",
   "execution_count": 105,
   "id": "a5a016a8",
   "metadata": {},
   "outputs": [
    {
     "name": "stdout",
     "output_type": "stream",
     "text": [
      "20\n",
      "40\n",
      "100\n",
      "Addition of 2nd elements: 160\n"
     ]
    }
   ],
   "source": [
    "summ=0\n",
    "for i in nested:\n",
    "    print(i[1])\n",
    "    summ+=i[1]\n",
    "print(\"Addition of 2nd elements:\",summ)"
   ]
  },
  {
   "cell_type": "code",
   "execution_count": 1,
   "id": "20948b2f",
   "metadata": {},
   "outputs": [
    {
     "name": "stdout",
     "output_type": "stream",
     "text": [
      "290\n"
     ]
    }
   ],
   "source": [
    "#addition of all nos in list\n",
    "s=0\n",
    "nested=[[10,20],[30,40],[90,100]]\n",
    "for i in nested:\n",
    "    for j in i:\n",
    "        s+=j\n",
    "print(s)\n",
    "        "
   ]
  },
  {
   "cell_type": "code",
   "execution_count": 1,
   "id": "ed69197f",
   "metadata": {},
   "outputs": [
    {
     "name": "stdout",
     "output_type": "stream",
     "text": [
      "150\n",
      "10\n"
     ]
    }
   ],
   "source": [
    "#divisible by 5\n",
    "l=[23,3,4,150,10]\n",
    "for i in l:\n",
    "    if i%5==0:\n",
    "        print(i)"
   ]
  },
  {
   "cell_type": "code",
   "execution_count": 17,
   "id": "0489a6e1-1a43-4272-a822-5d5e745dbfe6",
   "metadata": {},
   "outputs": [
    {
     "name": "stdout",
     "output_type": "stream",
     "text": [
      "Smallest number: 3\n"
     ]
    }
   ],
   "source": [
    "minn=l[0]\n",
    "l=[23,3,4,150,10]\n",
    "for i in l:\n",
    "    if i<minn:\n",
    "        minn=i\n",
    "        \n",
    "print(f\"Smallest number: {minn}\")\n",
    "\n",
    "#min(l)"
   ]
  },
  {
   "cell_type": "code",
   "execution_count": 18,
   "id": "2ee0cbcf-3431-4522-be3c-74f7b6c21c09",
   "metadata": {},
   "outputs": [
    {
     "name": "stdout",
     "output_type": "stream",
     "text": [
      "Largest number: 150\n"
     ]
    }
   ],
   "source": [
    "l=[23,3,4,150,10]\n",
    "maxx=l[0]\n",
    "for i in l:\n",
    "    if i>maxx:\n",
    "        maxx=i\n",
    "        \n",
    "print(f\"Largest number: {maxx}\")\n",
    "\n",
    "\n",
    "\n",
    "\n",
    "#max(l)"
   ]
  },
  {
   "cell_type": "code",
   "execution_count": 6,
   "id": "2b8b2218-eb19-4421-bf36-544f8e6f5cbc",
   "metadata": {},
   "outputs": [
    {
     "name": "stdout",
     "output_type": "stream",
     "text": [
      "[1, 2, 3, 4, 5, 6, 7, 8, 9, 10, 11, 12, 13, 14, 15, 16, 17, 18, 19, 20]\n"
     ]
    }
   ],
   "source": [
    "#Create list which willcontain 1 to 20 elements\n",
    "m=[]\n",
    "for i in range(1,21):\n",
    "    m.append(i)\n",
    "print(m)"
   ]
  },
  {
   "cell_type": "code",
   "execution_count": 8,
   "id": "1f81b021-6bac-4024-ad8f-371aca6fbe7f",
   "metadata": {},
   "outputs": [
    {
     "name": "stdout",
     "output_type": "stream",
     "text": [
      "[1, 4, 9, 16, 25, 36, 49, 64, 81, 100, 121, 144, 169, 196, 225, 256, 289, 324, 361, 400]\n"
     ]
    }
   ],
   "source": [
    "#sq of 1 to 20\n",
    "p=[]\n",
    "for i in range(1,21):\n",
    "    p.append(i**2)\n",
    "print(p)"
   ]
  },
  {
   "cell_type": "code",
   "execution_count": 9,
   "id": "5c500a3c-4f49-46dd-aa7d-8d9bd798402e",
   "metadata": {},
   "outputs": [
    {
     "name": "stdout",
     "output_type": "stream",
     "text": [
      "[2, 4, 6, 8, 10, 12, 14, 16, 18, 20]\n"
     ]
    }
   ],
   "source": [
    "#all even nos from 1 to 20\n",
    "e=[]\n",
    "for i in range(1,21):\n",
    "    if i%2==0:\n",
    "        e.append(i)\n",
    "print(e)"
   ]
  },
  {
   "cell_type": "code",
   "execution_count": 5,
   "id": "42f57365-4560-4ad5-86b1-7d8b2268030f",
   "metadata": {},
   "outputs": [
    {
     "name": "stdout",
     "output_type": "stream",
     "text": [
      "[1, 3, 5, 7, 8, 9]\n"
     ]
    }
   ],
   "source": [
    "#ascending order\n",
    "lt=[9,3,5,7,1,8]\n",
    "\n",
    "for i in range(0,len(lt)):\n",
    "    for j in range(0,len(lt)):\n",
    "        if lt[i]<lt[j]:\n",
    "            t=lt[i]\n",
    "            lt[i]=lt[j]\n",
    "            lt[j]=t\n",
    "print(lt)\n",
    "            \n",
    "        "
   ]
  },
  {
   "cell_type": "code",
   "execution_count": null,
   "id": "d3d05afb-869f-4d06-a274-931bf7aede3a",
   "metadata": {},
   "outputs": [],
   "source": []
  },
  {
   "cell_type": "code",
   "execution_count": null,
   "id": "0b12026c-5f85-414b-8818-1c00417091cf",
   "metadata": {},
   "outputs": [],
   "source": []
  },
  {
   "cell_type": "code",
   "execution_count": null,
   "id": "41791e8a-ef6d-4b90-a6c7-2676d27e5956",
   "metadata": {},
   "outputs": [],
   "source": []
  }
 ],
 "metadata": {
  "kernelspec": {
   "display_name": "Python 3 (ipykernel)",
   "language": "python",
   "name": "python3"
  },
  "language_info": {
   "codemirror_mode": {
    "name": "ipython",
    "version": 3
   },
   "file_extension": ".py",
   "mimetype": "text/x-python",
   "name": "python",
   "nbconvert_exporter": "python",
   "pygments_lexer": "ipython3",
   "version": "3.10.7"
  }
 },
 "nbformat": 4,
 "nbformat_minor": 5
}
