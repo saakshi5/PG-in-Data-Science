{
 "cells": [
  {
   "cell_type": "code",
   "execution_count": 4,
   "id": "aa5817e9-6678-4686-875b-224516cb649c",
   "metadata": {},
   "outputs": [
    {
     "name": "stdout",
     "output_type": "stream",
     "text": [
      "15\n"
     ]
    }
   ],
   "source": [
    "def outer_fun(a,b):\n",
    "    def inner_fun(c,d):\n",
    "        return c+d\n",
    "    return inner_fun(a,b)\n",
    "    return a\n",
    "\n",
    "result=outer_fun(5,10)\n",
    "print(result)\n",
    "    "
   ]
  },
  {
   "cell_type": "code",
   "execution_count": null,
   "id": "5ea54bc6-f8c3-43c4-a859-73ce56189800",
   "metadata": {},
   "outputs": [],
   "source": [
    "#factorial\n",
    "def fact(v):\n",
    "    if v==1:\n",
    "        return 1\n",
    "    else:\n",
    "        return v*fact(v-1)\n",
    "res=fact(5)\n",
    "print(res)"
   ]
  },
  {
   "cell_type": "code",
   "execution_count": null,
   "id": "bbff46e8-f488-4792-83c0-c2d1c314f36f",
   "metadata": {},
   "outputs": [],
   "source": [
    "#table of 2\n",
    "def fun(x):\n",
    "    if x==11:\n",
    "        pass\n",
    "    else:\n",
    "        print(\"2 *\",x,\"=\",2*x)\n",
    "        fun(x+1)\n",
    "fun(1)"
   ]
  }
 ],
 "metadata": {
  "kernelspec": {
   "display_name": "Python 3 (ipykernel)",
   "language": "python",
   "name": "python3"
  },
  "language_info": {
   "codemirror_mode": {
    "name": "ipython",
    "version": 3
   },
   "file_extension": ".py",
   "mimetype": "text/x-python",
   "name": "python",
   "nbconvert_exporter": "python",
   "pygments_lexer": "ipython3",
   "version": "3.10.7"
  }
 },
 "nbformat": 4,
 "nbformat_minor": 5
}
