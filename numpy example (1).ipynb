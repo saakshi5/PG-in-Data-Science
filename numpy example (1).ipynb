{
 "cells": [
  {
   "cell_type": "raw",
   "id": "a296bfea",
   "metadata": {
    "id": "a296bfea"
   },
   "source": [
    "About numpy array:\n",
    "    \n",
    "What is NumPy?\n",
    "\n",
    "NumPy is a general-purpose array-processing package. \n",
    "\n",
    "It provides a high-performance multidimensional array object, and tools for working with these arrays.\n",
    "\n",
    "It is the fundamental package for scientific computing with Python. \n",
    "\n",
    "It contains various features including these important ones:\n",
    "\n",
    "\n",
    "including mathematical\n",
    "\n",
    "logical\n",
    "\n",
    "shape manipulation\n",
    "\n",
    "sorting, selecting\n",
    "\n",
    "I/O\n",
    "\n",
    "discrete Fourier transforms\n",
    "\n",
    "basic linear algebra\n",
    "\n",
    "basic statistical operations\n",
    "\n",
    "random simulation etc."
   ]
  },
  {
   "cell_type": "markdown",
   "id": "acf78d3a",
   "metadata": {
    "id": "acf78d3a"
   },
   "source": [
    "# numpy vs list"
   ]
  },
  {
   "cell_type": "code",
   "execution_count": null,
   "id": "7dc6aee8",
   "metadata": {
    "id": "7dc6aee8"
   },
   "outputs": [],
   "source": [
    "#memory consumption betwn numpy and list\n",
    "import sys\n",
    "import numpy as np\n",
    "list1=list(range(1,1000))\n",
    "\n",
    "print(\"size of an object=\",(sys.getsizeof(list1)))\n",
    "\n",
    "\n",
    "d=np.arange(1000)\n",
    "print(\"size of entire array\",(d.itemsize*d.size))"
   ]
  },
  {
   "cell_type": "code",
   "execution_count": null,
   "id": "3178c8f2",
   "metadata": {
    "id": "3178c8f2"
   },
   "outputs": [],
   "source": [
    "#time comparision\n",
    "\n",
    "import time\n",
    "size=1000\n",
    "\n",
    "list1=range(1000)\n",
    "list2=range(1000)\n",
    "\n",
    "initialtime=time.time()\n",
    "print(initialtime)\n",
    "op=[a*b for a,b in zip(list1,list2)]\n",
    "endtime=time.time()-initialtime\n",
    "print(time.time())\n",
    "print(\"-----------------------------\")\n",
    "\n",
    "a1=np.arange(size)\n",
    "a2=np.arange(size)\n",
    "initialtime=time.time()\n",
    "print(initialtime)\n",
    "op=a1*a2\n",
    "endtime=time.time()-initialtime\n",
    "print(time.time())"
   ]
  },
  {
   "cell_type": "markdown",
   "id": "77862525",
   "metadata": {
    "id": "77862525"
   },
   "source": [
    "# creating numpy array"
   ]
  },
  {
   "cell_type": "code",
   "execution_count": 2,
   "id": "95dc605e",
   "metadata": {},
   "outputs": [],
   "source": [
    "import numpy as np"
   ]
  },
  {
   "cell_type": "code",
   "execution_count": null,
   "id": "0312506c",
   "metadata": {
    "id": "0312506c"
   },
   "outputs": [],
   "source": [
    "a1=np.array([10,20,30,40])"
   ]
  },
  {
   "cell_type": "code",
   "execution_count": null,
   "id": "2686533f",
   "metadata": {
    "id": "2686533f"
   },
   "outputs": [],
   "source": [
    "a1"
   ]
  },
  {
   "cell_type": "code",
   "execution_count": null,
   "id": "b700bc80",
   "metadata": {
    "id": "b700bc80"
   },
   "outputs": [],
   "source": [
    "a2=np.array([10,20,30,'mystr'])"
   ]
  },
  {
   "cell_type": "code",
   "execution_count": null,
   "id": "d65a2ea2",
   "metadata": {
    "id": "d65a2ea2"
   },
   "outputs": [],
   "source": [
    "a2"
   ]
  },
  {
   "cell_type": "code",
   "execution_count": null,
   "id": "e8c09ac2",
   "metadata": {
    "id": "e8c09ac2"
   },
   "outputs": [],
   "source": [
    "a3=np.array([10,20,30,40],dtype='int')"
   ]
  },
  {
   "cell_type": "code",
   "execution_count": null,
   "id": "5e244337",
   "metadata": {
    "id": "5e244337"
   },
   "outputs": [],
   "source": [
    "a3"
   ]
  },
  {
   "cell_type": "code",
   "execution_count": null,
   "id": "34e8c77a",
   "metadata": {
    "id": "34e8c77a"
   },
   "outputs": [],
   "source": [
    "a4=np.array([10,20,30,40],dtype='float')"
   ]
  },
  {
   "cell_type": "code",
   "execution_count": null,
   "id": "efa969f9",
   "metadata": {
    "id": "efa969f9"
   },
   "outputs": [],
   "source": [
    "a4"
   ]
  },
  {
   "cell_type": "code",
   "execution_count": null,
   "id": "97c98133",
   "metadata": {
    "id": "97c98133"
   },
   "outputs": [],
   "source": [
    "a5=np.arange(1,10)"
   ]
  },
  {
   "cell_type": "code",
   "execution_count": null,
   "id": "d11f28ff",
   "metadata": {
    "id": "d11f28ff"
   },
   "outputs": [],
   "source": [
    "a5"
   ]
  },
  {
   "cell_type": "code",
   "execution_count": null,
   "id": "56f2feb3",
   "metadata": {
    "id": "56f2feb3"
   },
   "outputs": [],
   "source": [
    "a6=np.arange(1,10,2)"
   ]
  },
  {
   "cell_type": "code",
   "execution_count": null,
   "id": "25287c54",
   "metadata": {
    "id": "25287c54"
   },
   "outputs": [],
   "source": [
    "a6"
   ]
  },
  {
   "cell_type": "code",
   "execution_count": null,
   "id": "b17aca91",
   "metadata": {
    "id": "b17aca91"
   },
   "outputs": [],
   "source": [
    "a7=np.arange(10,0,-1)"
   ]
  },
  {
   "cell_type": "code",
   "execution_count": null,
   "id": "615a0c97",
   "metadata": {
    "id": "615a0c97"
   },
   "outputs": [],
   "source": [
    "a7"
   ]
  },
  {
   "cell_type": "code",
   "execution_count": 5,
   "id": "8c6fcec5",
   "metadata": {
    "id": "8c6fcec5"
   },
   "outputs": [],
   "source": [
    "#Return evenly spaced numbers over a specified interval\n",
    "a8=np.linspace(1,21,num=7,endpoint=False)"
   ]
  },
  {
   "cell_type": "code",
   "execution_count": 6,
   "id": "7fad84a3",
   "metadata": {
    "id": "7fad84a3"
   },
   "outputs": [
    {
     "data": {
      "text/plain": [
       "array([ 1.        ,  3.85714286,  6.71428571,  9.57142857, 12.42857143,\n",
       "       15.28571429, 18.14285714])"
      ]
     },
     "execution_count": 6,
     "metadata": {},
     "output_type": "execute_result"
    }
   ],
   "source": [
    "a8"
   ]
  },
  {
   "cell_type": "code",
   "execution_count": null,
   "id": "74f47ec9",
   "metadata": {
    "id": "74f47ec9"
   },
   "outputs": [],
   "source": [
    "r=np.random.randn(5)\n",
    "a9=np.array(r)"
   ]
  },
  {
   "cell_type": "code",
   "execution_count": null,
   "id": "6099a72a",
   "metadata": {
    "id": "6099a72a"
   },
   "outputs": [],
   "source": [
    "a9"
   ]
  },
  {
   "cell_type": "code",
   "execution_count": null,
   "id": "beb522b1",
   "metadata": {
    "id": "beb522b1"
   },
   "outputs": [],
   "source": [
    "r1=np.random.random(10)"
   ]
  },
  {
   "cell_type": "code",
   "execution_count": null,
   "id": "8b3b3826",
   "metadata": {
    "id": "8b3b3826"
   },
   "outputs": [],
   "source": [
    "a10=np.array(r1)"
   ]
  },
  {
   "cell_type": "code",
   "execution_count": null,
   "id": "15f5df0e",
   "metadata": {
    "id": "15f5df0e"
   },
   "outputs": [],
   "source": [
    "a10"
   ]
  },
  {
   "cell_type": "code",
   "execution_count": 17,
   "id": "f352b967",
   "metadata": {
    "id": "f352b967"
   },
   "outputs": [],
   "source": [
    "a11=np.zeros((3,5,5),dtype=int)"
   ]
  },
  {
   "cell_type": "code",
   "execution_count": 18,
   "id": "e19a6104",
   "metadata": {
    "id": "e19a6104"
   },
   "outputs": [
    {
     "data": {
      "text/plain": [
       "array([[[0, 0, 0, 0, 0],\n",
       "        [0, 0, 0, 0, 0],\n",
       "        [0, 0, 0, 0, 0],\n",
       "        [0, 0, 0, 0, 0],\n",
       "        [0, 0, 0, 0, 0]],\n",
       "\n",
       "       [[0, 0, 0, 0, 0],\n",
       "        [0, 0, 0, 0, 0],\n",
       "        [0, 0, 0, 0, 0],\n",
       "        [0, 0, 0, 0, 0],\n",
       "        [0, 0, 0, 0, 0]],\n",
       "\n",
       "       [[0, 0, 0, 0, 0],\n",
       "        [0, 0, 0, 0, 0],\n",
       "        [0, 0, 0, 0, 0],\n",
       "        [0, 0, 0, 0, 0],\n",
       "        [0, 0, 0, 0, 0]]])"
      ]
     },
     "execution_count": 18,
     "metadata": {},
     "output_type": "execute_result"
    }
   ],
   "source": [
    "a11"
   ]
  },
  {
   "cell_type": "code",
   "execution_count": 10,
   "id": "e1115040",
   "metadata": {
    "id": "e1115040"
   },
   "outputs": [],
   "source": [
    "a12=np.ones(5)\n"
   ]
  },
  {
   "cell_type": "code",
   "execution_count": 11,
   "id": "fa345fa3",
   "metadata": {
    "id": "fa345fa3"
   },
   "outputs": [
    {
     "data": {
      "text/plain": [
       "array([1., 1., 1., 1., 1.])"
      ]
     },
     "execution_count": 11,
     "metadata": {},
     "output_type": "execute_result"
    }
   ],
   "source": [
    "a12"
   ]
  },
  {
   "cell_type": "code",
   "execution_count": null,
   "id": "f67cea2b",
   "metadata": {
    "id": "f67cea2b"
   },
   "outputs": [],
   "source": [
    "# creating 2d array"
   ]
  },
  {
   "cell_type": "code",
   "execution_count": 1,
   "id": "d5dbbd16",
   "metadata": {
    "colab": {
     "base_uri": "https://localhost:8080/",
     "height": 165
    },
    "executionInfo": {
     "elapsed": 21,
     "status": "error",
     "timestamp": 1684415255671,
     "user": {
      "displayName": "Rashmi Chindarkar",
      "userId": "13451058199715438162"
     },
     "user_tz": -330
    },
    "id": "d5dbbd16",
    "outputId": "8ecd9c49-88c9-476e-e71e-29cda2783b60"
   },
   "outputs": [
    {
     "ename": "NameError",
     "evalue": "ignored",
     "output_type": "error",
     "traceback": [
      "\u001b[0;31m---------------------------------------------------------------------------\u001b[0m",
      "\u001b[0;31mNameError\u001b[0m                                 Traceback (most recent call last)",
      "\u001b[0;32m<ipython-input-1-abfe9095a063>\u001b[0m in \u001b[0;36m<cell line: 1>\u001b[0;34m()\u001b[0m\n\u001b[0;32m----> 1\u001b[0;31m \u001b[0ma13\u001b[0m\u001b[0;34m=\u001b[0m\u001b[0mnp\u001b[0m\u001b[0;34m.\u001b[0m\u001b[0marray\u001b[0m\u001b[0;34m(\u001b[0m\u001b[0;34m[\u001b[0m\u001b[0;34m[\u001b[0m\u001b[0;36m10\u001b[0m\u001b[0;34m,\u001b[0m\u001b[0;36m20\u001b[0m\u001b[0;34m,\u001b[0m\u001b[0;36m30\u001b[0m\u001b[0;34m]\u001b[0m\u001b[0;34m,\u001b[0m\u001b[0;34m[\u001b[0m\u001b[0;36m1\u001b[0m\u001b[0;34m,\u001b[0m\u001b[0;36m2\u001b[0m\u001b[0;34m,\u001b[0m\u001b[0;36m3\u001b[0m\u001b[0;34m]\u001b[0m\u001b[0;34m,\u001b[0m\u001b[0;34m[\u001b[0m\u001b[0;36m5\u001b[0m\u001b[0;34m,\u001b[0m\u001b[0;36m67\u001b[0m\u001b[0;34m,\u001b[0m\u001b[0;36m7\u001b[0m\u001b[0;34m]\u001b[0m\u001b[0;34m]\u001b[0m\u001b[0;34m)\u001b[0m\u001b[0;34m\u001b[0m\u001b[0;34m\u001b[0m\u001b[0m\n\u001b[0m",
      "\u001b[0;31mNameError\u001b[0m: name 'np' is not defined"
     ]
    }
   ],
   "source": [
    "a13=np.array([[10,20,30],[1,2,3],[5,67,7]])"
   ]
  },
  {
   "cell_type": "code",
   "execution_count": null,
   "id": "bb3ab6b2",
   "metadata": {
    "id": "bb3ab6b2"
   },
   "outputs": [],
   "source": [
    "a13"
   ]
  },
  {
   "cell_type": "code",
   "execution_count": 12,
   "id": "b659d51b",
   "metadata": {
    "id": "b659d51b"
   },
   "outputs": [],
   "source": [
    "a14=np.array([[[2,17],[45,78]],[[5,6],[100,101]],[[99,98],[97,96]]])"
   ]
  },
  {
   "cell_type": "code",
   "execution_count": 14,
   "id": "c76cdd3a",
   "metadata": {
    "id": "c76cdd3a"
   },
   "outputs": [
    {
     "data": {
      "text/plain": [
       "array([[[  2,  17],\n",
       "        [ 45,  78]],\n",
       "\n",
       "       [[  5,   6],\n",
       "        [100, 101]],\n",
       "\n",
       "       [[ 99,  98],\n",
       "        [ 97,  96]]])"
      ]
     },
     "execution_count": 14,
     "metadata": {},
     "output_type": "execute_result"
    }
   ],
   "source": [
    "a14"
   ]
  },
  {
   "cell_type": "code",
   "execution_count": null,
   "id": "78c13051",
   "metadata": {
    "id": "78c13051"
   },
   "outputs": [],
   "source": [
    "a14[0][1]"
   ]
  },
  {
   "cell_type": "code",
   "execution_count": null,
   "id": "769b7b94",
   "metadata": {
    "id": "769b7b94"
   },
   "outputs": [],
   "source": [
    "a14[0][1][1]"
   ]
  },
  {
   "cell_type": "code",
   "execution_count": 23,
   "id": "d8212055",
   "metadata": {},
   "outputs": [
    {
     "data": {
      "text/plain": [
       "(3, 2, 2)"
      ]
     },
     "execution_count": 23,
     "metadata": {},
     "output_type": "execute_result"
    }
   ],
   "source": [
    "a14.shape"
   ]
  },
  {
   "cell_type": "markdown",
   "id": "d7232dc4",
   "metadata": {
    "id": "d7232dc4"
   },
   "source": [
    "# numpy properties"
   ]
  },
  {
   "cell_type": "code",
   "execution_count": 11,
   "id": "ceed0e8a",
   "metadata": {
    "id": "ceed0e8a"
   },
   "outputs": [],
   "source": [
    "n1=np.array([10,20,30,40])"
   ]
  },
  {
   "cell_type": "code",
   "execution_count": 12,
   "id": "a6eeb14a",
   "metadata": {
    "id": "a6eeb14a"
   },
   "outputs": [
    {
     "data": {
      "text/plain": [
       "dtype('int32')"
      ]
     },
     "execution_count": 12,
     "metadata": {},
     "output_type": "execute_result"
    }
   ],
   "source": [
    "n1.dtype"
   ]
  },
  {
   "cell_type": "code",
   "execution_count": 19,
   "id": "5812b9d4",
   "metadata": {
    "id": "5812b9d4"
   },
   "outputs": [
    {
     "data": {
      "text/plain": [
       "2"
      ]
     },
     "execution_count": 19,
     "metadata": {},
     "output_type": "execute_result"
    }
   ],
   "source": [
    "od=np.array([[1,2,3],[4,5,6]])\n",
    "od.ndim"
   ]
  },
  {
   "cell_type": "code",
   "execution_count": 20,
   "id": "ca5d109c",
   "metadata": {},
   "outputs": [
    {
     "data": {
      "text/plain": [
       "array([[1, 2, 3],\n",
       "       [4, 5, 6]])"
      ]
     },
     "execution_count": 20,
     "metadata": {},
     "output_type": "execute_result"
    }
   ],
   "source": [
    "od"
   ]
  },
  {
   "cell_type": "code",
   "execution_count": null,
   "id": "297f773b",
   "metadata": {
    "id": "297f773b"
   },
   "outputs": [],
   "source": []
  },
  {
   "cell_type": "code",
   "execution_count": 22,
   "id": "66fd56dd",
   "metadata": {
    "id": "66fd56dd"
   },
   "outputs": [
    {
     "data": {
      "text/plain": [
       "(2, 3)"
      ]
     },
     "execution_count": 22,
     "metadata": {},
     "output_type": "execute_result"
    }
   ],
   "source": [
    "od.shape"
   ]
  },
  {
   "cell_type": "code",
   "execution_count": 24,
   "id": "a9a52df9",
   "metadata": {
    "id": "a9a52df9"
   },
   "outputs": [
    {
     "data": {
      "text/plain": [
       "6"
      ]
     },
     "execution_count": 24,
     "metadata": {},
     "output_type": "execute_result"
    }
   ],
   "source": [
    "od.size #total number of elements present."
   ]
  },
  {
   "cell_type": "code",
   "execution_count": 25,
   "id": "a1c02098",
   "metadata": {
    "id": "a1c02098"
   },
   "outputs": [
    {
     "data": {
      "text/plain": [
       "2"
      ]
     },
     "execution_count": 25,
     "metadata": {},
     "output_type": "execute_result"
    }
   ],
   "source": [
    "len(od) #total number of rows"
   ]
  },
  {
   "cell_type": "code",
   "execution_count": 26,
   "id": "389e6a0e",
   "metadata": {
    "id": "389e6a0e"
   },
   "outputs": [],
   "source": [
    "#lets understand difference betwn len and size\n",
    "n2=np.array([[1,2,3],[4,5,6]])"
   ]
  },
  {
   "cell_type": "code",
   "execution_count": 27,
   "id": "5e65724d",
   "metadata": {
    "id": "5e65724d"
   },
   "outputs": [
    {
     "data": {
      "text/plain": [
       "2"
      ]
     },
     "execution_count": 27,
     "metadata": {},
     "output_type": "execute_result"
    }
   ],
   "source": [
    "n2.ndim"
   ]
  },
  {
   "cell_type": "code",
   "execution_count": 28,
   "id": "634f06fb",
   "metadata": {
    "id": "634f06fb"
   },
   "outputs": [
    {
     "data": {
      "text/plain": [
       "6"
      ]
     },
     "execution_count": 28,
     "metadata": {},
     "output_type": "execute_result"
    }
   ],
   "source": [
    "n2.size"
   ]
  },
  {
   "cell_type": "code",
   "execution_count": 29,
   "id": "3627467c",
   "metadata": {
    "id": "3627467c"
   },
   "outputs": [
    {
     "data": {
      "text/plain": [
       "2"
      ]
     },
     "execution_count": 29,
     "metadata": {},
     "output_type": "execute_result"
    }
   ],
   "source": [
    "len(n2)"
   ]
  },
  {
   "cell_type": "code",
   "execution_count": 30,
   "id": "3fb85ec4",
   "metadata": {
    "id": "3fb85ec4"
   },
   "outputs": [
    {
     "data": {
      "text/plain": [
       "4"
      ]
     },
     "execution_count": 30,
     "metadata": {},
     "output_type": "execute_result"
    }
   ],
   "source": [
    "od.itemsize  #return size (in bytes) of each element"
   ]
  },
  {
   "cell_type": "code",
   "execution_count": 19,
   "id": "86607739",
   "metadata": {
    "id": "86607739"
   },
   "outputs": [
    {
     "data": {
      "text/plain": [
       "array([[1, 2, 3],\n",
       "       [4, 5, 6]])"
      ]
     },
     "execution_count": 19,
     "metadata": {},
     "output_type": "execute_result"
    }
   ],
   "source": [
    "od"
   ]
  },
  {
   "cell_type": "code",
   "execution_count": 31,
   "id": "5a169fca",
   "metadata": {
    "id": "5a169fca"
   },
   "outputs": [],
   "source": [
    "newt=od.T #transpose"
   ]
  },
  {
   "cell_type": "code",
   "execution_count": 32,
   "id": "518c4a32",
   "metadata": {
    "id": "518c4a32"
   },
   "outputs": [
    {
     "data": {
      "text/plain": [
       "array([[1, 4],\n",
       "       [2, 5],\n",
       "       [3, 6]])"
      ]
     },
     "execution_count": 32,
     "metadata": {},
     "output_type": "execute_result"
    }
   ],
   "source": [
    "newt"
   ]
  },
  {
   "cell_type": "markdown",
   "id": "f15ad3f4",
   "metadata": {
    "id": "f15ad3f4"
   },
   "source": [
    "# numpy indexing"
   ]
  },
  {
   "cell_type": "code",
   "execution_count": null,
   "id": "95a747d1",
   "metadata": {
    "id": "95a747d1"
   },
   "outputs": [],
   "source": [
    "n3=np.array([100,200,300,400,500])"
   ]
  },
  {
   "cell_type": "code",
   "execution_count": null,
   "id": "dcd50fca",
   "metadata": {
    "id": "dcd50fca"
   },
   "outputs": [],
   "source": [
    "n3[0]"
   ]
  },
  {
   "cell_type": "code",
   "execution_count": null,
   "id": "da0ee709",
   "metadata": {
    "id": "da0ee709"
   },
   "outputs": [],
   "source": [
    "n3[0:3]"
   ]
  },
  {
   "cell_type": "code",
   "execution_count": null,
   "id": "613d4c02",
   "metadata": {
    "id": "613d4c02"
   },
   "outputs": [],
   "source": [
    "n4=np.array([[1,2,3],[4,5,6],[7,8,9]])"
   ]
  },
  {
   "cell_type": "code",
   "execution_count": null,
   "id": "9057f892",
   "metadata": {
    "id": "9057f892"
   },
   "outputs": [],
   "source": [
    "n4[1:,1:]"
   ]
  },
  {
   "cell_type": "code",
   "execution_count": null,
   "id": "13013b2a",
   "metadata": {
    "id": "13013b2a"
   },
   "outputs": [],
   "source": [
    "n4[1:]"
   ]
  },
  {
   "cell_type": "code",
   "execution_count": null,
   "id": "3aa65afc",
   "metadata": {
    "id": "3aa65afc"
   },
   "outputs": [],
   "source": [
    "n4[1][2]"
   ]
  },
  {
   "cell_type": "code",
   "execution_count": null,
   "id": "3fa7e521",
   "metadata": {
    "id": "3fa7e521"
   },
   "outputs": [],
   "source": [
    "n4[1,2] #similar to n4[1][2]"
   ]
  },
  {
   "cell_type": "code",
   "execution_count": null,
   "id": "83467490",
   "metadata": {
    "id": "83467490"
   },
   "outputs": [],
   "source": [
    "n4[1:,1:]"
   ]
  },
  {
   "cell_type": "code",
   "execution_count": null,
   "id": "a20c13bb",
   "metadata": {
    "id": "a20c13bb"
   },
   "outputs": [],
   "source": [
    "n4[::-1,::-1]"
   ]
  },
  {
   "cell_type": "code",
   "execution_count": null,
   "id": "9a5957ba",
   "metadata": {
    "id": "9a5957ba"
   },
   "outputs": [],
   "source": [
    "n4"
   ]
  },
  {
   "cell_type": "code",
   "execution_count": null,
   "id": "7f05e974",
   "metadata": {
    "id": "7f05e974"
   },
   "outputs": [],
   "source": [
    "n4[:,:2]"
   ]
  },
  {
   "cell_type": "markdown",
   "id": "10dd1444",
   "metadata": {
    "id": "10dd1444"
   },
   "source": [
    "# numpy function"
   ]
  },
  {
   "cell_type": "code",
   "execution_count": 33,
   "id": "f8f1253e",
   "metadata": {
    "id": "f8f1253e"
   },
   "outputs": [],
   "source": [
    "myarr=np.array([1,2,3,4,5,6,7,8,9,])"
   ]
  },
  {
   "cell_type": "code",
   "execution_count": 34,
   "id": "b3764f1d",
   "metadata": {
    "id": "b3764f1d"
   },
   "outputs": [
    {
     "data": {
      "text/plain": [
       "5.0"
      ]
     },
     "execution_count": 34,
     "metadata": {},
     "output_type": "execute_result"
    }
   ],
   "source": [
    "np.mean(myarr)"
   ]
  },
  {
   "cell_type": "code",
   "execution_count": 35,
   "id": "dc1b85a6",
   "metadata": {
    "id": "dc1b85a6"
   },
   "outputs": [
    {
     "data": {
      "text/plain": [
       "5.0"
      ]
     },
     "execution_count": 35,
     "metadata": {},
     "output_type": "execute_result"
    }
   ],
   "source": [
    "np.median(myarr)"
   ]
  },
  {
   "cell_type": "code",
   "execution_count": 36,
   "id": "90c91c23",
   "metadata": {
    "id": "90c91c23"
   },
   "outputs": [
    {
     "data": {
      "text/plain": [
       "1"
      ]
     },
     "execution_count": 36,
     "metadata": {},
     "output_type": "execute_result"
    }
   ],
   "source": [
    "np.min(myarr)"
   ]
  },
  {
   "cell_type": "code",
   "execution_count": 37,
   "id": "0f9d5c4c",
   "metadata": {
    "id": "0f9d5c4c"
   },
   "outputs": [
    {
     "data": {
      "text/plain": [
       "9"
      ]
     },
     "execution_count": 37,
     "metadata": {},
     "output_type": "execute_result"
    }
   ],
   "source": [
    "np.max(myarr)"
   ]
  },
  {
   "cell_type": "code",
   "execution_count": null,
   "id": "6e9982e6",
   "metadata": {
    "id": "6e9982e6"
   },
   "outputs": [],
   "source": [
    "#quantile \n",
    "# Q2 ---> 0.50\n",
    "# Q1---> 0.25\n",
    "# Q3 ---> 0.75\n"
   ]
  },
  {
   "cell_type": "code",
   "execution_count": 38,
   "id": "5cbd0e2c",
   "metadata": {
    "id": "5cbd0e2c"
   },
   "outputs": [],
   "source": [
    "arr=np.array([20,2,7,1,34])"
   ]
  },
  {
   "cell_type": "code",
   "execution_count": 39,
   "id": "2b4216e7",
   "metadata": {
    "id": "2b4216e7"
   },
   "outputs": [
    {
     "data": {
      "text/plain": [
       "7.0"
      ]
     },
     "execution_count": 39,
     "metadata": {},
     "output_type": "execute_result"
    }
   ],
   "source": [
    "np.quantile(arr,0.50)"
   ]
  },
  {
   "cell_type": "code",
   "execution_count": 40,
   "id": "2ac0aa7a",
   "metadata": {
    "id": "2ac0aa7a"
   },
   "outputs": [
    {
     "data": {
      "text/plain": [
       "2.0"
      ]
     },
     "execution_count": 40,
     "metadata": {},
     "output_type": "execute_result"
    }
   ],
   "source": [
    "np.quantile(arr,0.25)"
   ]
  },
  {
   "cell_type": "code",
   "execution_count": 41,
   "id": "3589f21f",
   "metadata": {
    "id": "3589f21f"
   },
   "outputs": [
    {
     "data": {
      "text/plain": [
       "20.0"
      ]
     },
     "execution_count": 41,
     "metadata": {},
     "output_type": "execute_result"
    }
   ],
   "source": [
    "np.quantile(arr,0.75)  \n",
    "\n",
    "#now find iqr , lowerlimit , upperlimit\n"
   ]
  },
  {
   "cell_type": "code",
   "execution_count": null,
   "id": "47944115",
   "metadata": {
    "id": "47944115"
   },
   "outputs": [],
   "source": [
    "np.sin(90)"
   ]
  },
  {
   "cell_type": "code",
   "execution_count": null,
   "id": "f6ccb283",
   "metadata": {
    "id": "f6ccb283"
   },
   "outputs": [],
   "source": [
    "np.log10(10)"
   ]
  },
  {
   "cell_type": "code",
   "execution_count": null,
   "id": "4db603b5",
   "metadata": {
    "id": "4db603b5"
   },
   "outputs": [],
   "source": [
    "np.sqrt(225)"
   ]
  },
  {
   "cell_type": "code",
   "execution_count": 22,
   "id": "ac06aefc",
   "metadata": {
    "id": "ac06aefc"
   },
   "outputs": [],
   "source": [
    "#reshaping "
   ]
  },
  {
   "cell_type": "code",
   "execution_count": 42,
   "id": "bb3a8001",
   "metadata": {
    "id": "bb3a8001"
   },
   "outputs": [],
   "source": [
    "n1=np.random.random(10) #pick 10 random values between 0-1"
   ]
  },
  {
   "cell_type": "code",
   "execution_count": 43,
   "id": "9aa5013d",
   "metadata": {
    "id": "9aa5013d"
   },
   "outputs": [
    {
     "data": {
      "text/plain": [
       "array([0.34199991, 0.78907413, 0.83894827, 0.48733694, 0.97007655,\n",
       "       0.73921325, 0.1114617 , 0.07009719, 0.28887929, 0.00960378])"
      ]
     },
     "execution_count": 43,
     "metadata": {},
     "output_type": "execute_result"
    }
   ],
   "source": [
    "n1"
   ]
  },
  {
   "cell_type": "code",
   "execution_count": 44,
   "id": "5a84ac9a",
   "metadata": {
    "id": "5a84ac9a"
   },
   "outputs": [
    {
     "data": {
      "text/plain": [
       "1"
      ]
     },
     "execution_count": 44,
     "metadata": {},
     "output_type": "execute_result"
    }
   ],
   "source": [
    "n1.ndim"
   ]
  },
  {
   "cell_type": "code",
   "execution_count": 45,
   "id": "69a6cdfb",
   "metadata": {
    "id": "69a6cdfb"
   },
   "outputs": [
    {
     "data": {
      "text/plain": [
       "10"
      ]
     },
     "execution_count": 45,
     "metadata": {},
     "output_type": "execute_result"
    }
   ],
   "source": [
    "n1.size"
   ]
  },
  {
   "cell_type": "code",
   "execution_count": 48,
   "id": "1cf4680f",
   "metadata": {
    "id": "1cf4680f"
   },
   "outputs": [
    {
     "data": {
      "text/plain": [
       "array([[0.34199991, 0.78907413, 0.83894827, 0.48733694, 0.97007655],\n",
       "       [0.73921325, 0.1114617 , 0.07009719, 0.28887929, 0.00960378]])"
      ]
     },
     "execution_count": 48,
     "metadata": {},
     "output_type": "execute_result"
    }
   ],
   "source": [
    "n1.reshape(2,5)"
   ]
  },
  {
   "cell_type": "code",
   "execution_count": 50,
   "id": "5d4f0f9e",
   "metadata": {
    "id": "5d4f0f9e"
   },
   "outputs": [
    {
     "data": {
      "text/plain": [
       "array([[[-0.32630117, -0.74253067, -0.08346239, -0.22685495],\n",
       "        [ 0.4087937 ,  0.2420292 ,  1.09872161,  1.08848337],\n",
       "        [ 1.04213661, -0.84227916, -1.04173359,  0.01606187]],\n",
       "\n",
       "       [[ 0.25203578,  0.47252435,  1.49686218, -0.36132292],\n",
       "        [-0.40345314,  0.58888009, -0.14077344,  1.13440437],\n",
       "        [ 1.24024407, -1.39305505, -2.50578422,  1.06733861]]])"
      ]
     },
     "execution_count": 50,
     "metadata": {},
     "output_type": "execute_result"
    }
   ],
   "source": [
    "a = np.random.randn(24).reshape(2,3,4) #reshaping into 3d\n",
    "a"
   ]
  },
  {
   "cell_type": "code",
   "execution_count": 51,
   "id": "456dea67",
   "metadata": {
    "id": "456dea67"
   },
   "outputs": [
    {
     "data": {
      "text/plain": [
       "array([[10, 11, 12, 13, 14],\n",
       "       [15, 16, 17, 18, 19]])"
      ]
     },
     "execution_count": 51,
     "metadata": {},
     "output_type": "execute_result"
    }
   ],
   "source": [
    "ar = np.arange(10,20).reshape(2,5)\n",
    "ar\n",
    "# a.sum()\n",
    "# a.sum(axis=0)\n",
    "# a.sum(axis=1)\n",
    "# a.max()\n",
    "# a.min()\n",
    "# a.max(axis=1)\n",
    "# a.max(axis=0)\n",
    "# a.mean()\n",
    "# a.var()  - indicates spread of a data.\n",
    "# a.std()"
   ]
  },
  {
   "cell_type": "code",
   "execution_count": 52,
   "id": "2df4ea95",
   "metadata": {
    "id": "2df4ea95"
   },
   "outputs": [
    {
     "data": {
      "text/plain": [
       "array([[10, 11, 12, 13, 14],\n",
       "       [15, 16, 17, 18, 19]])"
      ]
     },
     "execution_count": 52,
     "metadata": {},
     "output_type": "execute_result"
    }
   ],
   "source": [
    "ar"
   ]
  },
  {
   "cell_type": "code",
   "execution_count": 54,
   "id": "9bdbf31c",
   "metadata": {
    "id": "9bdbf31c"
   },
   "outputs": [
    {
     "data": {
      "text/plain": [
       "array([60, 85])"
      ]
     },
     "execution_count": 54,
     "metadata": {},
     "output_type": "execute_result"
    }
   ],
   "source": [
    "ar.sum(axis=1) #horizontal flow\n"
   ]
  },
  {
   "cell_type": "code",
   "execution_count": null,
   "id": "e77289fa",
   "metadata": {
    "id": "e77289fa"
   },
   "outputs": [],
   "source": [
    "ar.sum()"
   ]
  },
  {
   "cell_type": "code",
   "execution_count": 55,
   "id": "7f20ee5a",
   "metadata": {
    "id": "7f20ee5a"
   },
   "outputs": [
    {
     "data": {
      "text/plain": [
       "array([25, 27, 29, 31, 33])"
      ]
     },
     "execution_count": 55,
     "metadata": {},
     "output_type": "execute_result"
    }
   ],
   "source": [
    "ar.sum(axis=0) #vertical flow"
   ]
  },
  {
   "cell_type": "code",
   "execution_count": 57,
   "id": "fa6eef2e",
   "metadata": {},
   "outputs": [
    {
     "data": {
      "text/plain": [
       "array([[10, 11, 12, 13, 14],\n",
       "       [15, 16, 17, 18, 19]])"
      ]
     },
     "execution_count": 57,
     "metadata": {},
     "output_type": "execute_result"
    }
   ],
   "source": [
    "ar"
   ]
  },
  {
   "cell_type": "code",
   "execution_count": 56,
   "id": "ec7850e9",
   "metadata": {
    "id": "ec7850e9"
   },
   "outputs": [
    {
     "data": {
      "text/plain": [
       "19"
      ]
     },
     "execution_count": 56,
     "metadata": {},
     "output_type": "execute_result"
    }
   ],
   "source": [
    "ar.max()"
   ]
  },
  {
   "cell_type": "code",
   "execution_count": 58,
   "id": "4a92226f",
   "metadata": {
    "id": "4a92226f"
   },
   "outputs": [
    {
     "data": {
      "text/plain": [
       "array([14, 19])"
      ]
     },
     "execution_count": 58,
     "metadata": {},
     "output_type": "execute_result"
    }
   ],
   "source": [
    "ar.max(axis=1) # finds horizontally"
   ]
  },
  {
   "cell_type": "code",
   "execution_count": 59,
   "id": "d722b330",
   "metadata": {
    "id": "d722b330"
   },
   "outputs": [
    {
     "data": {
      "text/plain": [
       "array([15, 16, 17, 18, 19])"
      ]
     },
     "execution_count": 59,
     "metadata": {},
     "output_type": "execute_result"
    }
   ],
   "source": [
    "ar.max(axis=0) #finds vertically"
   ]
  },
  {
   "cell_type": "code",
   "execution_count": 60,
   "id": "c3658438",
   "metadata": {
    "id": "c3658438"
   },
   "outputs": [],
   "source": [
    "a1 = np.arange(1,7).reshape(2,3)    # this is arange function, similar to range funtion\n",
    "b1 = np.arange(7,13).reshape(2,3)  "
   ]
  },
  {
   "cell_type": "code",
   "execution_count": 61,
   "id": "23f6bbe5",
   "metadata": {
    "id": "23f6bbe5"
   },
   "outputs": [
    {
     "name": "stdout",
     "output_type": "stream",
     "text": [
      "[[1 2 3]\n",
      " [4 5 6]]\n",
      "[[ 7  8  9]\n",
      " [10 11 12]]\n"
     ]
    }
   ],
   "source": [
    "print(a1)\n",
    "print(b1)"
   ]
  },
  {
   "cell_type": "code",
   "execution_count": 62,
   "id": "de26899b",
   "metadata": {
    "id": "de26899b"
   },
   "outputs": [
    {
     "data": {
      "text/plain": [
       "array([[ 1,  2,  3],\n",
       "       [ 4,  5,  6],\n",
       "       [ 7,  8,  9],\n",
       "       [10, 11, 12]])"
      ]
     },
     "execution_count": 62,
     "metadata": {},
     "output_type": "execute_result"
    }
   ],
   "source": [
    "np.concatenate((a1,b1))"
   ]
  },
  {
   "cell_type": "code",
   "execution_count": 63,
   "id": "e6934130",
   "metadata": {},
   "outputs": [
    {
     "data": {
      "text/plain": [
       "array([[ 1,  2,  3,  7,  8,  9],\n",
       "       [ 4,  5,  6, 10, 11, 12]])"
      ]
     },
     "execution_count": 63,
     "metadata": {},
     "output_type": "execute_result"
    }
   ],
   "source": [
    "np.concatenate((a1,b1),axis=1)"
   ]
  },
  {
   "cell_type": "code",
   "execution_count": 64,
   "id": "48aafef4",
   "metadata": {
    "id": "48aafef4"
   },
   "outputs": [
    {
     "data": {
      "text/plain": [
       "array([1, 2, 3, 4, 5, 6])"
      ]
     },
     "execution_count": 64,
     "metadata": {},
     "output_type": "execute_result"
    }
   ],
   "source": [
    "# 4.Append(array,list.of.elements) - used to add the elements in an array\n",
    "c = np.arange(1,7)\n",
    "c"
   ]
  },
  {
   "cell_type": "code",
   "execution_count": 65,
   "id": "122ab46d",
   "metadata": {
    "id": "122ab46d"
   },
   "outputs": [
    {
     "data": {
      "text/plain": [
       "array([1, 2, 3, 4, 5, 6, 7, 8, 9])"
      ]
     },
     "execution_count": 65,
     "metadata": {},
     "output_type": "execute_result"
    }
   ],
   "source": [
    "np.append(c,[7,8,9])     #this is also a temprory, not inplace"
   ]
  },
  {
   "cell_type": "code",
   "execution_count": 37,
   "id": "a3e718e2",
   "metadata": {
    "id": "a3e718e2"
   },
   "outputs": [
    {
     "data": {
      "text/plain": [
       "array([1, 2, 3, 4, 5, 6])"
      ]
     },
     "execution_count": 37,
     "metadata": {},
     "output_type": "execute_result"
    }
   ],
   "source": [
    "c"
   ]
  },
  {
   "cell_type": "code",
   "execution_count": null,
   "id": "ef0a95ea",
   "metadata": {
    "id": "ef0a95ea"
   },
   "outputs": [],
   "source": [
    "# 5.Insert(array,index,element)- used to add element at specific index\n",
    "d = np.arange(2,6)\n",
    "d"
   ]
  },
  {
   "cell_type": "code",
   "execution_count": null,
   "id": "f41b629d",
   "metadata": {
    "id": "f41b629d"
   },
   "outputs": [],
   "source": [
    "np.insert(d,0,100)"
   ]
  },
  {
   "cell_type": "code",
   "execution_count": null,
   "id": "97385d27",
   "metadata": {
    "id": "97385d27"
   },
   "outputs": [],
   "source": [
    "d"
   ]
  },
  {
   "cell_type": "code",
   "execution_count": 38,
   "id": "fead6fc3",
   "metadata": {
    "id": "fead6fc3"
   },
   "outputs": [
    {
     "data": {
      "text/plain": [
       "array([1, 2, 3, 4, 5])"
      ]
     },
     "execution_count": 38,
     "metadata": {},
     "output_type": "execute_result"
    }
   ],
   "source": [
    "# 6.Delete(array,list.of.elements.index)- used to delete elementof specific index\n",
    "a = np.arange(1,6)\n",
    "a"
   ]
  },
  {
   "cell_type": "code",
   "execution_count": null,
   "id": "9275dde8",
   "metadata": {
    "id": "9275dde8"
   },
   "outputs": [],
   "source": [
    "np.delete(a,[1,2,3]) #this will delete values at given index position 2,3,4"
   ]
  },
  {
   "cell_type": "code",
   "execution_count": null,
   "id": "65980a1d",
   "metadata": {
    "id": "65980a1d"
   },
   "outputs": [],
   "source": [
    "a"
   ]
  },
  {
   "cell_type": "code",
   "execution_count": null,
   "id": "76b2395c",
   "metadata": {
    "id": "76b2395c"
   },
   "outputs": [],
   "source": [
    "#broadcasting"
   ]
  },
  {
   "cell_type": "code",
   "execution_count": 67,
   "id": "a9849d18",
   "metadata": {},
   "outputs": [
    {
     "data": {
      "text/plain": [
       "array([150, 250, 350])"
      ]
     },
     "execution_count": 67,
     "metadata": {},
     "output_type": "execute_result"
    }
   ],
   "source": [
    "a2=np.array([100,200,300])\n",
    "a2+50"
   ]
  },
  {
   "cell_type": "code",
   "execution_count": 70,
   "id": "a2c04147",
   "metadata": {
    "id": "a2c04147"
   },
   "outputs": [],
   "source": [
    "a1=np.array([[10,20,30],[3,4,5]])\n",
    "a2=np.array([100,200,300])\n",
    "a3=a1+a2"
   ]
  },
  {
   "cell_type": "code",
   "execution_count": 71,
   "id": "d8a16d0e",
   "metadata": {
    "id": "d8a16d0e"
   },
   "outputs": [
    {
     "data": {
      "text/plain": [
       "array([[110, 220, 330],\n",
       "       [103, 204, 305]])"
      ]
     },
     "execution_count": 71,
     "metadata": {},
     "output_type": "execute_result"
    }
   ],
   "source": [
    "a3"
   ]
  },
  {
   "cell_type": "code",
   "execution_count": 72,
   "id": "94b1f3db",
   "metadata": {
    "id": "94b1f3db"
   },
   "outputs": [],
   "source": [
    "a1=np.array([10,20,30,40])\n",
    "a2=np.array([100,200,300,400])\n",
    "a3=a1+a2"
   ]
  },
  {
   "cell_type": "code",
   "execution_count": 73,
   "id": "d65908cd",
   "metadata": {
    "id": "d65908cd"
   },
   "outputs": [
    {
     "data": {
      "text/plain": [
       "array([110, 220, 330, 440])"
      ]
     },
     "execution_count": 73,
     "metadata": {},
     "output_type": "execute_result"
    }
   ],
   "source": [
    "a3"
   ]
  },
  {
   "cell_type": "code",
   "execution_count": 74,
   "id": "d4125d68",
   "metadata": {},
   "outputs": [
    {
     "ename": "ValueError",
     "evalue": "setting an array element with a sequence. The requested array has an inhomogeneous shape after 1 dimensions. The detected shape was (3,) + inhomogeneous part.",
     "output_type": "error",
     "traceback": [
      "\u001b[1;31m---------------------------------------------------------------------------\u001b[0m",
      "\u001b[1;31mValueError\u001b[0m                                Traceback (most recent call last)",
      "Cell \u001b[1;32mIn[74], line 1\u001b[0m\n\u001b[1;32m----> 1\u001b[0m \u001b[43mnp\u001b[49m\u001b[38;5;241;43m.\u001b[39;49m\u001b[43marray\u001b[49m\u001b[43m(\u001b[49m\u001b[43m[\u001b[49m\u001b[43m[\u001b[49m\u001b[38;5;241;43m10\u001b[39;49m\u001b[43m,\u001b[49m\u001b[38;5;241;43m20\u001b[39;49m\u001b[43m,\u001b[49m\u001b[38;5;241;43m30\u001b[39;49m\u001b[43m]\u001b[49m\u001b[43m,\u001b[49m\u001b[43m[\u001b[49m\u001b[38;5;241;43m90\u001b[39;49m\u001b[43m,\u001b[49m\u001b[38;5;241;43m89\u001b[39;49m\u001b[43m]\u001b[49m\u001b[43m,\u001b[49m\u001b[43m[\u001b[49m\u001b[38;5;241;43m10\u001b[39;49m\u001b[43m,\u001b[49m\u001b[38;5;241;43m11\u001b[39;49m\u001b[43m,\u001b[49m\u001b[38;5;241;43m12\u001b[39;49m\u001b[43m]\u001b[49m\u001b[43m]\u001b[49m\u001b[43m)\u001b[49m\n",
      "\u001b[1;31mValueError\u001b[0m: setting an array element with a sequence. The requested array has an inhomogeneous shape after 1 dimensions. The detected shape was (3,) + inhomogeneous part."
     ]
    }
   ],
   "source": [
    "np.array([[10,20,30],[90,89],[10,11,12]])"
   ]
  },
  {
   "cell_type": "code",
   "execution_count": null,
   "id": "87e2cbda",
   "metadata": {
    "id": "87e2cbda"
   },
   "outputs": [],
   "source": [
    "#boolean indexing"
   ]
  },
  {
   "cell_type": "code",
   "execution_count": 75,
   "id": "2ae4fe83",
   "metadata": {
    "id": "2ae4fe83"
   },
   "outputs": [],
   "source": [
    "a=np.array([10,25,55,35,19,45,33])"
   ]
  },
  {
   "cell_type": "code",
   "execution_count": 76,
   "id": "f3461304",
   "metadata": {
    "id": "f3461304"
   },
   "outputs": [
    {
     "data": {
      "text/plain": [
       "array([False,  True,  True,  True, False,  True,  True])"
      ]
     },
     "execution_count": 76,
     "metadata": {},
     "output_type": "execute_result"
    }
   ],
   "source": [
    "a>20"
   ]
  },
  {
   "cell_type": "code",
   "execution_count": 77,
   "id": "7b249ac8",
   "metadata": {
    "id": "7b249ac8"
   },
   "outputs": [
    {
     "data": {
      "text/plain": [
       "array([25, 55, 35, 45, 33])"
      ]
     },
     "execution_count": 77,
     "metadata": {},
     "output_type": "execute_result"
    }
   ],
   "source": [
    "a[a>20]"
   ]
  },
  {
   "cell_type": "code",
   "execution_count": null,
   "id": "5367bbad",
   "metadata": {
    "id": "5367bbad"
   },
   "outputs": [],
   "source": []
  },
  {
   "cell_type": "code",
   "execution_count": null,
   "id": "7784e50d",
   "metadata": {
    "id": "7784e50d"
   },
   "outputs": [],
   "source": []
  },
  {
   "cell_type": "code",
   "execution_count": null,
   "id": "8f5332eb",
   "metadata": {
    "id": "8f5332eb"
   },
   "outputs": [],
   "source": []
  }
 ],
 "metadata": {
  "colab": {
   "provenance": []
  },
  "kernelspec": {
   "display_name": "Python 3 (ipykernel)",
   "language": "python",
   "name": "python3"
  },
  "language_info": {
   "codemirror_mode": {
    "name": "ipython",
    "version": 3
   },
   "file_extension": ".py",
   "mimetype": "text/x-python",
   "name": "python",
   "nbconvert_exporter": "python",
   "pygments_lexer": "ipython3",
   "version": "3.11.4"
  }
 },
 "nbformat": 4,
 "nbformat_minor": 5
}
