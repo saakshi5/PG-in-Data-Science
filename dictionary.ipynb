{
 "cells": [
  {
   "cell_type": "code",
   "execution_count": 23,
   "id": "63511e9d-23be-44c1-bedd-a34828580730",
   "metadata": {},
   "outputs": [
    {
     "name": "stdout",
     "output_type": "stream",
     "text": [
      "{1: 1, 2: 2, 3: 3, 4: 4, 5: 5, 6: 6, 7: 7, 8: 8, 9: 9, 10: 10, 11: 11, 12: 12, 13: 13, 14: 14, 15: 15, 16: 16, 17: 17, 18: 18, 19: 19, 20: 20}\n"
     ]
    }
   ],
   "source": [
    "df={}\n",
    "\n",
    "for i in range(1,21):\n",
    "    df[i]=i\n",
    "print(df)"
   ]
  },
  {
   "cell_type": "code",
   "execution_count": 24,
   "id": "6bc2b8fe-e0de-49fe-ad08-ca3ac0a99669",
   "metadata": {},
   "outputs": [
    {
     "data": {
      "text/plain": [
       "9"
      ]
     },
     "execution_count": 24,
     "metadata": {},
     "output_type": "execute_result"
    }
   ],
   "source": [
    "df[9]"
   ]
  },
  {
   "cell_type": "code",
   "execution_count": 3,
   "id": "e6f89bf7-1a4a-4b74-9410-c856e6d11f40",
   "metadata": {},
   "outputs": [
    {
     "name": "stdout",
     "output_type": "stream",
     "text": [
      "Addition of values for key a is 60\n",
      "Addition of values for key b is 15\n",
      "Addition of values for key c is 36\n"
     ]
    }
   ],
   "source": [
    "dt={'a':[10,20,30],'b':[4,5,6],'c':[11,12,13]}\n",
    "\n",
    "for i in dt:\n",
    "    #print(dt[i])\n",
    "    s=0\n",
    "    for j in range(0,3):\n",
    "        s+=dt[i][j]\n",
    "    print(f\"Addition of values for key {i} is {s}\")\n"
   ]
  },
  {
   "cell_type": "code",
   "execution_count": 5,
   "id": "a2b43ffd-8f20-4867-bb8e-0a98545f4ba9",
   "metadata": {},
   "outputs": [
    {
     "name": "stdout",
     "output_type": "stream",
     "text": [
      "First element of every key\n",
      "a = 10\n",
      "b = 4\n",
      "c = 11\n"
     ]
    }
   ],
   "source": [
    "dt={'a':[10,20,30],'b':[4,5,6],'c':[11,12,13]}\n",
    "print(\"First element of every key\")\n",
    "for i in dt:\n",
    "    #print(dt[i])\n",
    "    print(i,\"=\",dt[i][0])"
   ]
  },
  {
   "cell_type": "code",
   "execution_count": 6,
   "id": "22d876ae-e1c1-4942-af61-31cc9b54a8ff",
   "metadata": {},
   "outputs": [
    {
     "name": "stdout",
     "output_type": "stream",
     "text": [
      "{1: 1, 2: 2, 3: 3, 4: 4, 5: 5, 6: 6, 7: 7, 8: 8, 9: 9, 10: 10, 11: 11, 12: 12, 13: 13, 14: 14, 15: 15, 16: 16, 17: 17, 18: 18, 19: 19, 20: 20}\n"
     ]
    }
   ],
   "source": [
    "dict={i:i for i in range(1,21)}\n",
    "print(dict)"
   ]
  },
  {
   "cell_type": "code",
   "execution_count": null,
   "id": "cea925ce-fe03-46fe-8334-302ccdc76a77",
   "metadata": {},
   "outputs": [],
   "source": []
  }
 ],
 "metadata": {
  "kernelspec": {
   "display_name": "Python 3 (ipykernel)",
   "language": "python",
   "name": "python3"
  },
  "language_info": {
   "codemirror_mode": {
    "name": "ipython",
    "version": 3
   },
   "file_extension": ".py",
   "mimetype": "text/x-python",
   "name": "python",
   "nbconvert_exporter": "python",
   "pygments_lexer": "ipython3",
   "version": "3.10.7"
  }
 },
 "nbformat": 4,
 "nbformat_minor": 5
}
